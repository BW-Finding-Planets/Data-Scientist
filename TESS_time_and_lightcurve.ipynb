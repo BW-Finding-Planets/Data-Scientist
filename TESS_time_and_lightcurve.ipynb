{
  "nbformat": 4,
  "nbformat_minor": 0,
  "metadata": {
    "colab": {
      "name": "TESS time and lightcurve.ipynb",
      "version": "0.3.2",
      "provenance": [],
      "collapsed_sections": []
    },
    "kernelspec": {
      "name": "python3",
      "display_name": "Python 3"
    }
  },
  "cells": [
    {
      "cell_type": "code",
      "metadata": {
        "id": "QV2e06gtGltk",
        "colab_type": "code",
        "colab": {}
      },
      "source": [
        "import pandas as pd"
      ],
      "execution_count": 0,
      "outputs": []
    },
    {
      "cell_type": "code",
      "metadata": {
        "id": "G55hT8VHH0Gc",
        "colab_type": "code",
        "colab": {}
      },
      "source": [
        ""
      ],
      "execution_count": 0,
      "outputs": []
    },
    {
      "cell_type": "code",
      "metadata": {
        "id": "sW_FZY-8H2qJ",
        "colab_type": "code",
        "colab": {
          "resources": {
            "http://localhost:8080/nbextensions/google.colab/files.js": {
              "data": "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",
              "ok": true,
              "headers": [
                [
                  "content-type",
                  "application/javascript"
                ]
              ],
              "status": 200,
              "status_text": ""
            }
          },
          "base_uri": "https://localhost:8080/",
          "height": 73
        },
        "outputId": "2d9eece1-7904-417a-9ed7-88dfe57ae2fe"
      },
      "source": [
        "from google.colab import files\n",
        "uploaded = files.upload()"
      ],
      "execution_count": 2,
      "outputs": [
        {
          "output_type": "display_data",
          "data": {
            "text/html": [
              "\n",
              "     <input type=\"file\" id=\"files-b4bc3f32-ef6e-49b3-8322-ea72be99ba44\" name=\"files[]\" multiple disabled />\n",
              "     <output id=\"result-b4bc3f32-ef6e-49b3-8322-ea72be99ba44\">\n",
              "      Upload widget is only available when the cell has been executed in the\n",
              "      current browser session. Please rerun this cell to enable.\n",
              "      </output>\n",
              "      <script src=\"/nbextensions/google.colab/files.js\"></script> "
            ],
            "text/plain": [
              "<IPython.core.display.HTML object>"
            ]
          },
          "metadata": {
            "tags": []
          }
        },
        {
          "output_type": "stream",
          "text": [
            "Saving planets_2019.08.26_11.04.14.csv to planets_2019.08.26_11.04.14 (2).csv\n"
          ],
          "name": "stdout"
        }
      ]
    },
    {
      "cell_type": "code",
      "metadata": {
        "id": "Mb18npH9Kxs-",
        "colab_type": "code",
        "colab": {}
      },
      "source": [
        ""
      ],
      "execution_count": 0,
      "outputs": []
    },
    {
      "cell_type": "code",
      "metadata": {
        "id": "ezM2Cuh8IAk_",
        "colab_type": "code",
        "colab": {}
      },
      "source": [
        "planets = pd.read_csv(\"planets_2019.08.26_11.04.14 (2).csv\", error_bad_lines=False)"
      ],
      "execution_count": 0,
      "outputs": []
    },
    {
      "cell_type": "code",
      "metadata": {
        "id": "g3Ssqv3GIwX-",
        "colab_type": "code",
        "colab": {
          "base_uri": "https://localhost:8080/",
          "height": 334
        },
        "outputId": "17d71d24-77f3-48c6-c2c7-9899e138d527"
      },
      "source": [
        "planets.head()"
      ],
      "execution_count": 12,
      "outputs": [
        {
          "output_type": "execute_result",
          "data": {
            "text/html": [
              "<div>\n",
              "<style scoped>\n",
              "    .dataframe tbody tr th:only-of-type {\n",
              "        vertical-align: middle;\n",
              "    }\n",
              "\n",
              "    .dataframe tbody tr th {\n",
              "        vertical-align: top;\n",
              "    }\n",
              "\n",
              "    .dataframe thead th {\n",
              "        text-align: right;\n",
              "    }\n",
              "</style>\n",
              "<table border=\"1\" class=\"dataframe\">\n",
              "  <thead>\n",
              "    <tr style=\"text-align: right;\">\n",
              "      <th></th>\n",
              "      <th>pl_hostname</th>\n",
              "      <th>pl_letter</th>\n",
              "      <th>pl_name</th>\n",
              "      <th>pl_discmethod</th>\n",
              "      <th>pl_controvflag</th>\n",
              "      <th>pl_pnum</th>\n",
              "      <th>pl_orbper</th>\n",
              "      <th>pl_orbpererr1</th>\n",
              "      <th>pl_orbpererr2</th>\n",
              "      <th>pl_orbperlim</th>\n",
              "      <th>pl_orbsmax</th>\n",
              "      <th>pl_orbsmaxerr1</th>\n",
              "      <th>pl_orbsmaxerr2</th>\n",
              "      <th>pl_orbsmaxlim</th>\n",
              "      <th>pl_orbeccen</th>\n",
              "      <th>pl_orbeccenerr1</th>\n",
              "      <th>pl_orbeccenerr2</th>\n",
              "      <th>pl_orbeccenlim</th>\n",
              "      <th>pl_orbincl</th>\n",
              "      <th>pl_orbinclerr1</th>\n",
              "      <th>pl_orbinclerr2</th>\n",
              "      <th>pl_orbincllim</th>\n",
              "      <th>pl_bmassj</th>\n",
              "      <th>pl_bmassjerr1</th>\n",
              "      <th>pl_bmassjerr2</th>\n",
              "      <th>pl_bmassjlim</th>\n",
              "      <th>pl_bmassprov</th>\n",
              "      <th>pl_radj</th>\n",
              "      <th>pl_radjerr1</th>\n",
              "      <th>pl_radjerr2</th>\n",
              "      <th>pl_radjlim</th>\n",
              "      <th>pl_dens</th>\n",
              "      <th>pl_denserr1</th>\n",
              "      <th>pl_denserr2</th>\n",
              "      <th>pl_denslim</th>\n",
              "      <th>pl_ttvflag</th>\n",
              "      <th>pl_kepflag</th>\n",
              "      <th>pl_k2flag</th>\n",
              "      <th>pl_nnotes</th>\n",
              "      <th>ra_str</th>\n",
              "      <th>ra</th>\n",
              "      <th>dec_str</th>\n",
              "      <th>dec</th>\n",
              "      <th>st_dist</th>\n",
              "      <th>st_disterr1</th>\n",
              "      <th>st_disterr2</th>\n",
              "      <th>st_distlim</th>\n",
              "      <th>gaia_dist</th>\n",
              "      <th>gaia_disterr1</th>\n",
              "      <th>gaia_disterr2</th>\n",
              "      <th>gaia_distlim</th>\n",
              "      <th>st_optmag</th>\n",
              "      <th>st_optmagerr</th>\n",
              "      <th>st_optmaglim</th>\n",
              "      <th>st_optband</th>\n",
              "      <th>gaia_gmag</th>\n",
              "      <th>gaia_gmagerr</th>\n",
              "      <th>gaia_gmaglim</th>\n",
              "      <th>st_teff</th>\n",
              "      <th>st_tefferr1</th>\n",
              "      <th>st_tefferr2</th>\n",
              "      <th>st_tefflim</th>\n",
              "      <th>st_mass</th>\n",
              "      <th>st_masserr1</th>\n",
              "      <th>st_masserr2</th>\n",
              "      <th>st_masslim</th>\n",
              "      <th>st_rad</th>\n",
              "      <th>st_raderr1</th>\n",
              "      <th>st_raderr2</th>\n",
              "      <th>st_radlim</th>\n",
              "      <th>rowupdate</th>\n",
              "      <th>pl_facility</th>\n",
              "    </tr>\n",
              "  </thead>\n",
              "  <tbody>\n",
              "    <tr>\n",
              "      <th>0</th>\n",
              "      <td>11 Com</td>\n",
              "      <td>b</td>\n",
              "      <td>11 Com b</td>\n",
              "      <td>Radial Velocity</td>\n",
              "      <td>0</td>\n",
              "      <td>1</td>\n",
              "      <td>326.03000</td>\n",
              "      <td>0.32</td>\n",
              "      <td>-0.32</td>\n",
              "      <td>0.0</td>\n",
              "      <td>1.29</td>\n",
              "      <td>0.05</td>\n",
              "      <td>-0.05</td>\n",
              "      <td>0.0</td>\n",
              "      <td>0.231</td>\n",
              "      <td>0.005</td>\n",
              "      <td>-0.005</td>\n",
              "      <td>0.0</td>\n",
              "      <td>NaN</td>\n",
              "      <td>NaN</td>\n",
              "      <td>NaN</td>\n",
              "      <td>NaN</td>\n",
              "      <td>19.40</td>\n",
              "      <td>1.50</td>\n",
              "      <td>-1.50</td>\n",
              "      <td>0.0</td>\n",
              "      <td>Msini</td>\n",
              "      <td>NaN</td>\n",
              "      <td>NaN</td>\n",
              "      <td>NaN</td>\n",
              "      <td>NaN</td>\n",
              "      <td>NaN</td>\n",
              "      <td>NaN</td>\n",
              "      <td>NaN</td>\n",
              "      <td>NaN</td>\n",
              "      <td>0</td>\n",
              "      <td>0</td>\n",
              "      <td>0</td>\n",
              "      <td>0</td>\n",
              "      <td>12h20m43.03s</td>\n",
              "      <td>185.179276</td>\n",
              "      <td>+17d47m34.3s</td>\n",
              "      <td>17.792868</td>\n",
              "      <td>93.37</td>\n",
              "      <td>1.92</td>\n",
              "      <td>-1.92</td>\n",
              "      <td>0.0</td>\n",
              "      <td>93.37</td>\n",
              "      <td>1.92</td>\n",
              "      <td>-1.92</td>\n",
              "      <td>0.0</td>\n",
              "      <td>4.740</td>\n",
              "      <td>NaN</td>\n",
              "      <td>0.0</td>\n",
              "      <td>V (Johnson)</td>\n",
              "      <td>4.372</td>\n",
              "      <td>NaN</td>\n",
              "      <td>0.0</td>\n",
              "      <td>4742.0</td>\n",
              "      <td>100.0</td>\n",
              "      <td>-100.0</td>\n",
              "      <td>0.0</td>\n",
              "      <td>2.70</td>\n",
              "      <td>0.30</td>\n",
              "      <td>-0.30</td>\n",
              "      <td>0.0</td>\n",
              "      <td>19.00</td>\n",
              "      <td>2.00</td>\n",
              "      <td>-2.00</td>\n",
              "      <td>0.0</td>\n",
              "      <td>5/14/2014</td>\n",
              "      <td>Xinglong Station</td>\n",
              "    </tr>\n",
              "    <tr>\n",
              "      <th>1</th>\n",
              "      <td>11 UMi</td>\n",
              "      <td>b</td>\n",
              "      <td>11 UMi b</td>\n",
              "      <td>Radial Velocity</td>\n",
              "      <td>0</td>\n",
              "      <td>1</td>\n",
              "      <td>516.21997</td>\n",
              "      <td>3.20</td>\n",
              "      <td>-3.20</td>\n",
              "      <td>0.0</td>\n",
              "      <td>1.53</td>\n",
              "      <td>0.07</td>\n",
              "      <td>-0.07</td>\n",
              "      <td>0.0</td>\n",
              "      <td>0.080</td>\n",
              "      <td>0.030</td>\n",
              "      <td>-0.030</td>\n",
              "      <td>0.0</td>\n",
              "      <td>NaN</td>\n",
              "      <td>NaN</td>\n",
              "      <td>NaN</td>\n",
              "      <td>0.0</td>\n",
              "      <td>14.74</td>\n",
              "      <td>2.50</td>\n",
              "      <td>-2.50</td>\n",
              "      <td>0.0</td>\n",
              "      <td>Msini</td>\n",
              "      <td>NaN</td>\n",
              "      <td>NaN</td>\n",
              "      <td>NaN</td>\n",
              "      <td>0.0</td>\n",
              "      <td>NaN</td>\n",
              "      <td>NaN</td>\n",
              "      <td>NaN</td>\n",
              "      <td>0.0</td>\n",
              "      <td>0</td>\n",
              "      <td>0</td>\n",
              "      <td>0</td>\n",
              "      <td>0</td>\n",
              "      <td>15h17m05.89s</td>\n",
              "      <td>229.274536</td>\n",
              "      <td>+71d49m26.0s</td>\n",
              "      <td>71.823898</td>\n",
              "      <td>125.72</td>\n",
              "      <td>1.97</td>\n",
              "      <td>-1.97</td>\n",
              "      <td>0.0</td>\n",
              "      <td>125.72</td>\n",
              "      <td>1.97</td>\n",
              "      <td>-1.97</td>\n",
              "      <td>0.0</td>\n",
              "      <td>5.016</td>\n",
              "      <td>0.009</td>\n",
              "      <td>0.0</td>\n",
              "      <td>V (Johnson)</td>\n",
              "      <td>4.500</td>\n",
              "      <td>NaN</td>\n",
              "      <td>0.0</td>\n",
              "      <td>4213.0</td>\n",
              "      <td>46.0</td>\n",
              "      <td>-46.0</td>\n",
              "      <td>0.0</td>\n",
              "      <td>2.78</td>\n",
              "      <td>0.69</td>\n",
              "      <td>-0.69</td>\n",
              "      <td>0.0</td>\n",
              "      <td>29.79</td>\n",
              "      <td>2.84</td>\n",
              "      <td>-2.84</td>\n",
              "      <td>0.0</td>\n",
              "      <td>9/6/2018</td>\n",
              "      <td>Thueringer Landessternwarte Tautenburg</td>\n",
              "    </tr>\n",
              "    <tr>\n",
              "      <th>2</th>\n",
              "      <td>14 And</td>\n",
              "      <td>b</td>\n",
              "      <td>14 And b</td>\n",
              "      <td>Radial Velocity</td>\n",
              "      <td>0</td>\n",
              "      <td>1</td>\n",
              "      <td>185.84000</td>\n",
              "      <td>0.23</td>\n",
              "      <td>-0.23</td>\n",
              "      <td>0.0</td>\n",
              "      <td>0.83</td>\n",
              "      <td>NaN</td>\n",
              "      <td>NaN</td>\n",
              "      <td>0.0</td>\n",
              "      <td>0.000</td>\n",
              "      <td>NaN</td>\n",
              "      <td>NaN</td>\n",
              "      <td>0.0</td>\n",
              "      <td>NaN</td>\n",
              "      <td>NaN</td>\n",
              "      <td>NaN</td>\n",
              "      <td>NaN</td>\n",
              "      <td>4.80</td>\n",
              "      <td>NaN</td>\n",
              "      <td>NaN</td>\n",
              "      <td>0.0</td>\n",
              "      <td>Msini</td>\n",
              "      <td>NaN</td>\n",
              "      <td>NaN</td>\n",
              "      <td>NaN</td>\n",
              "      <td>NaN</td>\n",
              "      <td>NaN</td>\n",
              "      <td>NaN</td>\n",
              "      <td>NaN</td>\n",
              "      <td>NaN</td>\n",
              "      <td>0</td>\n",
              "      <td>0</td>\n",
              "      <td>0</td>\n",
              "      <td>0</td>\n",
              "      <td>23h31m17.42s</td>\n",
              "      <td>352.822571</td>\n",
              "      <td>+39d14m10.3s</td>\n",
              "      <td>39.236198</td>\n",
              "      <td>75.59</td>\n",
              "      <td>0.71</td>\n",
              "      <td>-0.71</td>\n",
              "      <td>0.0</td>\n",
              "      <td>75.59</td>\n",
              "      <td>0.71</td>\n",
              "      <td>-0.71</td>\n",
              "      <td>0.0</td>\n",
              "      <td>5.227</td>\n",
              "      <td>0.009</td>\n",
              "      <td>0.0</td>\n",
              "      <td>V (Johnson)</td>\n",
              "      <td>4.872</td>\n",
              "      <td>NaN</td>\n",
              "      <td>0.0</td>\n",
              "      <td>4813.0</td>\n",
              "      <td>20.0</td>\n",
              "      <td>-20.0</td>\n",
              "      <td>0.0</td>\n",
              "      <td>2.20</td>\n",
              "      <td>0.10</td>\n",
              "      <td>-0.20</td>\n",
              "      <td>0.0</td>\n",
              "      <td>11.00</td>\n",
              "      <td>1.00</td>\n",
              "      <td>-1.00</td>\n",
              "      <td>0.0</td>\n",
              "      <td>5/14/2014</td>\n",
              "      <td>Okayama Astrophysical Observatory</td>\n",
              "    </tr>\n",
              "    <tr>\n",
              "      <th>3</th>\n",
              "      <td>14 Her</td>\n",
              "      <td>b</td>\n",
              "      <td>14 Her b</td>\n",
              "      <td>Radial Velocity</td>\n",
              "      <td>0</td>\n",
              "      <td>1</td>\n",
              "      <td>1773.40002</td>\n",
              "      <td>2.50</td>\n",
              "      <td>-2.50</td>\n",
              "      <td>0.0</td>\n",
              "      <td>2.93</td>\n",
              "      <td>0.08</td>\n",
              "      <td>-0.08</td>\n",
              "      <td>0.0</td>\n",
              "      <td>0.370</td>\n",
              "      <td>0.000</td>\n",
              "      <td>0.000</td>\n",
              "      <td>0.0</td>\n",
              "      <td>NaN</td>\n",
              "      <td>NaN</td>\n",
              "      <td>NaN</td>\n",
              "      <td>0.0</td>\n",
              "      <td>4.66</td>\n",
              "      <td>0.15</td>\n",
              "      <td>-0.15</td>\n",
              "      <td>0.0</td>\n",
              "      <td>Msini</td>\n",
              "      <td>NaN</td>\n",
              "      <td>NaN</td>\n",
              "      <td>NaN</td>\n",
              "      <td>0.0</td>\n",
              "      <td>NaN</td>\n",
              "      <td>NaN</td>\n",
              "      <td>NaN</td>\n",
              "      <td>0.0</td>\n",
              "      <td>0</td>\n",
              "      <td>0</td>\n",
              "      <td>0</td>\n",
              "      <td>0</td>\n",
              "      <td>16h10m24.31s</td>\n",
              "      <td>242.601303</td>\n",
              "      <td>+43d49m03.5s</td>\n",
              "      <td>43.817646</td>\n",
              "      <td>17.94</td>\n",
              "      <td>0.01</td>\n",
              "      <td>-0.01</td>\n",
              "      <td>0.0</td>\n",
              "      <td>17.94</td>\n",
              "      <td>0.01</td>\n",
              "      <td>-0.01</td>\n",
              "      <td>0.0</td>\n",
              "      <td>6.610</td>\n",
              "      <td>0.020</td>\n",
              "      <td>0.0</td>\n",
              "      <td>V (Johnson)</td>\n",
              "      <td>6.379</td>\n",
              "      <td>NaN</td>\n",
              "      <td>0.0</td>\n",
              "      <td>5338.0</td>\n",
              "      <td>25.0</td>\n",
              "      <td>-25.0</td>\n",
              "      <td>0.0</td>\n",
              "      <td>0.90</td>\n",
              "      <td>0.04</td>\n",
              "      <td>-0.04</td>\n",
              "      <td>0.0</td>\n",
              "      <td>0.93</td>\n",
              "      <td>0.01</td>\n",
              "      <td>-0.01</td>\n",
              "      <td>0.0</td>\n",
              "      <td>9/6/2018</td>\n",
              "      <td>W. M. Keck Observatory</td>\n",
              "    </tr>\n",
              "    <tr>\n",
              "      <th>4</th>\n",
              "      <td>16 Cyg B</td>\n",
              "      <td>b</td>\n",
              "      <td>16 Cyg B b</td>\n",
              "      <td>Radial Velocity</td>\n",
              "      <td>0</td>\n",
              "      <td>1</td>\n",
              "      <td>798.50000</td>\n",
              "      <td>1.00</td>\n",
              "      <td>-1.00</td>\n",
              "      <td>0.0</td>\n",
              "      <td>1.66</td>\n",
              "      <td>0.03</td>\n",
              "      <td>-0.03</td>\n",
              "      <td>0.0</td>\n",
              "      <td>0.680</td>\n",
              "      <td>0.020</td>\n",
              "      <td>-0.020</td>\n",
              "      <td>0.0</td>\n",
              "      <td>NaN</td>\n",
              "      <td>NaN</td>\n",
              "      <td>NaN</td>\n",
              "      <td>0.0</td>\n",
              "      <td>1.78</td>\n",
              "      <td>0.08</td>\n",
              "      <td>-0.08</td>\n",
              "      <td>0.0</td>\n",
              "      <td>Msini</td>\n",
              "      <td>NaN</td>\n",
              "      <td>NaN</td>\n",
              "      <td>NaN</td>\n",
              "      <td>0.0</td>\n",
              "      <td>NaN</td>\n",
              "      <td>NaN</td>\n",
              "      <td>NaN</td>\n",
              "      <td>0.0</td>\n",
              "      <td>0</td>\n",
              "      <td>0</td>\n",
              "      <td>0</td>\n",
              "      <td>0</td>\n",
              "      <td>19h41m51.97s</td>\n",
              "      <td>295.466553</td>\n",
              "      <td>+50d31m03.1s</td>\n",
              "      <td>50.517525</td>\n",
              "      <td>21.15</td>\n",
              "      <td>0.01</td>\n",
              "      <td>-0.01</td>\n",
              "      <td>0.0</td>\n",
              "      <td>21.15</td>\n",
              "      <td>0.01</td>\n",
              "      <td>-0.01</td>\n",
              "      <td>0.0</td>\n",
              "      <td>6.250</td>\n",
              "      <td>NaN</td>\n",
              "      <td>0.0</td>\n",
              "      <td>V (Johnson)</td>\n",
              "      <td>6.057</td>\n",
              "      <td>NaN</td>\n",
              "      <td>0.0</td>\n",
              "      <td>5750.0</td>\n",
              "      <td>8.0</td>\n",
              "      <td>-8.0</td>\n",
              "      <td>0.0</td>\n",
              "      <td>1.08</td>\n",
              "      <td>0.04</td>\n",
              "      <td>-0.04</td>\n",
              "      <td>0.0</td>\n",
              "      <td>1.13</td>\n",
              "      <td>0.01</td>\n",
              "      <td>-0.01</td>\n",
              "      <td>0.0</td>\n",
              "      <td>9/6/2018</td>\n",
              "      <td>Multiple Observatories</td>\n",
              "    </tr>\n",
              "  </tbody>\n",
              "</table>\n",
              "</div>"
            ],
            "text/plain": [
              "  pl_hostname pl_letter  ...  rowupdate                             pl_facility\n",
              "0      11 Com         b  ...  5/14/2014                        Xinglong Station\n",
              "1      11 UMi         b  ...   9/6/2018  Thueringer Landessternwarte Tautenburg\n",
              "2      14 And         b  ...  5/14/2014       Okayama Astrophysical Observatory\n",
              "3      14 Her         b  ...   9/6/2018                  W. M. Keck Observatory\n",
              "4    16 Cyg B         b  ...   9/6/2018                  Multiple Observatories\n",
              "\n",
              "[5 rows x 72 columns]"
            ]
          },
          "metadata": {
            "tags": []
          },
          "execution_count": 12
        }
      ]
    },
    {
      "cell_type": "code",
      "metadata": {
        "id": "cjuFQ6ReJFl7",
        "colab_type": "code",
        "colab": {
          "resources": {
            "http://localhost:8080/nbextensions/google.colab/files.js": {
              "data": "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",
              "ok": true,
              "headers": [
                [
                  "content-type",
                  "application/javascript"
                ]
              ],
              "status": 200,
              "status_text": ""
            }
          },
          "base_uri": "https://localhost:8080/",
          "height": 73
        },
        "outputId": "a507a843-0ab6-4743-b188-a788f9478a15"
      },
      "source": [
        "from google.colab import files\n",
        "uploaded = files.upload()"
      ],
      "execution_count": 14,
      "outputs": [
        {
          "output_type": "display_data",
          "data": {
            "text/html": [
              "\n",
              "     <input type=\"file\" id=\"files-66d061b8-8f07-4c71-a544-43599295d0fd\" name=\"files[]\" multiple disabled />\n",
              "     <output id=\"result-66d061b8-8f07-4c71-a544-43599295d0fd\">\n",
              "      Upload widget is only available when the cell has been executed in the\n",
              "      current browser session. Please rerun this cell to enable.\n",
              "      </output>\n",
              "      <script src=\"/nbextensions/google.colab/files.js\"></script> "
            ],
            "text/plain": [
              "<IPython.core.display.HTML object>"
            ]
          },
          "metadata": {
            "tags": []
          }
        },
        {
          "output_type": "stream",
          "text": [
            "Saving TOI_2019.08.26_11.03.54.csv to TOI_2019.08.26_11.03.54.csv\n"
          ],
          "name": "stdout"
        }
      ]
    },
    {
      "cell_type": "code",
      "metadata": {
        "id": "C4FUwI3BLP32",
        "colab_type": "code",
        "colab": {}
      },
      "source": [
        "candidates = pd.read_csv(\"TOI_2019.08.26_11.03.54.csv\", error_bad_lines=False)"
      ],
      "execution_count": 0,
      "outputs": []
    },
    {
      "cell_type": "code",
      "metadata": {
        "id": "isMya_HbLcl0",
        "colab_type": "code",
        "colab": {
          "base_uri": "https://localhost:8080/",
          "height": 301
        },
        "outputId": "7ca27087-59c7-4d68-f993-945039264746"
      },
      "source": [
        "candidates.head()"
      ],
      "execution_count": 16,
      "outputs": [
        {
          "output_type": "execute_result",
          "data": {
            "text/html": [
              "<div>\n",
              "<style scoped>\n",
              "    .dataframe tbody tr th:only-of-type {\n",
              "        vertical-align: middle;\n",
              "    }\n",
              "\n",
              "    .dataframe tbody tr th {\n",
              "        vertical-align: top;\n",
              "    }\n",
              "\n",
              "    .dataframe thead th {\n",
              "        text-align: right;\n",
              "    }\n",
              "</style>\n",
              "<table border=\"1\" class=\"dataframe\">\n",
              "  <thead>\n",
              "    <tr style=\"text-align: right;\">\n",
              "      <th></th>\n",
              "      <th>loc_rowid</th>\n",
              "      <th>toi</th>\n",
              "      <th>tid</th>\n",
              "      <th>tfopwg_disp</th>\n",
              "      <th>rastr</th>\n",
              "      <th>ra</th>\n",
              "      <th>decstr</th>\n",
              "      <th>dec</th>\n",
              "      <th>st_pmra</th>\n",
              "      <th>st_pmraerr1</th>\n",
              "      <th>st_pmraerr2</th>\n",
              "      <th>st_pmralim</th>\n",
              "      <th>st_pmdec</th>\n",
              "      <th>st_pmdecerr1</th>\n",
              "      <th>st_pmdecerr2</th>\n",
              "      <th>st_pmdeclim</th>\n",
              "      <th>pl_tranmid</th>\n",
              "      <th>pl_tranmiderr1</th>\n",
              "      <th>pl_tranmiderr2</th>\n",
              "      <th>pl_tranmidlim</th>\n",
              "      <th>pl_orbper</th>\n",
              "      <th>pl_orbpererr1</th>\n",
              "      <th>pl_orbpererr2</th>\n",
              "      <th>pl_orbperlim</th>\n",
              "      <th>pl_trandurh</th>\n",
              "      <th>pl_trandurherr1</th>\n",
              "      <th>pl_trandurherr2</th>\n",
              "      <th>pl_trandurhlim</th>\n",
              "      <th>pl_trandep</th>\n",
              "      <th>pl_trandeperr1</th>\n",
              "      <th>pl_trandeperr2</th>\n",
              "      <th>pl_trandeplim</th>\n",
              "      <th>pl_rade</th>\n",
              "      <th>pl_radeerr1</th>\n",
              "      <th>pl_radeerr2</th>\n",
              "      <th>pl_radelim</th>\n",
              "      <th>pl_insol</th>\n",
              "      <th>pl_insolerr1</th>\n",
              "      <th>pl_insolerr2</th>\n",
              "      <th>pl_insollim</th>\n",
              "      <th>pl_eqt</th>\n",
              "      <th>pl_eqterr1</th>\n",
              "      <th>pl_eqterr2</th>\n",
              "      <th>pl_eqtlim</th>\n",
              "      <th>st_tmag</th>\n",
              "      <th>st_tmagerr1</th>\n",
              "      <th>st_tmagerr2</th>\n",
              "      <th>st_tmaglim</th>\n",
              "      <th>st_dist</th>\n",
              "      <th>st_disterr1</th>\n",
              "      <th>st_disterr2</th>\n",
              "      <th>st_distlim</th>\n",
              "      <th>st_teff</th>\n",
              "      <th>st_tefferr1</th>\n",
              "      <th>st_tefferr2</th>\n",
              "      <th>st_tefflim</th>\n",
              "      <th>st_logg</th>\n",
              "      <th>st_loggerr1</th>\n",
              "      <th>st_loggerr2</th>\n",
              "      <th>st_logglim</th>\n",
              "      <th>st_rad</th>\n",
              "      <th>st_raderr1</th>\n",
              "      <th>st_raderr2</th>\n",
              "      <th>st_radlim</th>\n",
              "      <th>toi_created</th>\n",
              "      <th>rowupdate</th>\n",
              "    </tr>\n",
              "  </thead>\n",
              "  <tbody>\n",
              "    <tr>\n",
              "      <th>0</th>\n",
              "      <td>1</td>\n",
              "      <td>1000.01</td>\n",
              "      <td>50365310</td>\n",
              "      <td>NaN</td>\n",
              "      <td>07h29m25.85s</td>\n",
              "      <td>112.357709</td>\n",
              "      <td>-12d41m45.46s</td>\n",
              "      <td>-12.695960</td>\n",
              "      <td>-6.334</td>\n",
              "      <td>0.777</td>\n",
              "      <td>0.777</td>\n",
              "      <td>0.0</td>\n",
              "      <td>0.226</td>\n",
              "      <td>0.707</td>\n",
              "      <td>0.707</td>\n",
              "      <td>0.0</td>\n",
              "      <td>2458493.384</td>\n",
              "      <td>0.00387</td>\n",
              "      <td>0.00387</td>\n",
              "      <td>0</td>\n",
              "      <td>2.17153</td>\n",
              "      <td>0.00068</td>\n",
              "      <td>0.00068</td>\n",
              "      <td>0</td>\n",
              "      <td>1.937</td>\n",
              "      <td>0.230</td>\n",
              "      <td>0.230</td>\n",
              "      <td>0</td>\n",
              "      <td>543.564</td>\n",
              "      <td>1.406120</td>\n",
              "      <td>1.406120</td>\n",
              "      <td>0</td>\n",
              "      <td>NaN</td>\n",
              "      <td>NaN</td>\n",
              "      <td>NaN</td>\n",
              "      <td>0</td>\n",
              "      <td>4080.56</td>\n",
              "      <td>NaN</td>\n",
              "      <td>NaN</td>\n",
              "      <td>NaN</td>\n",
              "      <td>2226.0</td>\n",
              "      <td>NaN</td>\n",
              "      <td>NaN</td>\n",
              "      <td>NaN</td>\n",
              "      <td>9.565</td>\n",
              "      <td>0.018</td>\n",
              "      <td>0.018</td>\n",
              "      <td>0</td>\n",
              "      <td>426.74042</td>\n",
              "      <td>NaN</td>\n",
              "      <td>NaN</td>\n",
              "      <td>0</td>\n",
              "      <td>NaN</td>\n",
              "      <td>NaN</td>\n",
              "      <td>NaN</td>\n",
              "      <td>0</td>\n",
              "      <td>NaN</td>\n",
              "      <td>NaN</td>\n",
              "      <td>NaN</td>\n",
              "      <td>0</td>\n",
              "      <td>NaN</td>\n",
              "      <td>NaN</td>\n",
              "      <td>NaN</td>\n",
              "      <td>0</td>\n",
              "      <td>3/26/2019 13:55</td>\n",
              "      <td>7/31/2019 10:32</td>\n",
              "    </tr>\n",
              "    <tr>\n",
              "      <th>1</th>\n",
              "      <td>2</td>\n",
              "      <td>1001.01</td>\n",
              "      <td>88863718</td>\n",
              "      <td>NaN</td>\n",
              "      <td>08h10m19.31s</td>\n",
              "      <td>122.580466</td>\n",
              "      <td>-05d30m49.86s</td>\n",
              "      <td>-5.513849</td>\n",
              "      <td>-5.338</td>\n",
              "      <td>1.017</td>\n",
              "      <td>1.017</td>\n",
              "      <td>0.0</td>\n",
              "      <td>-15.107</td>\n",
              "      <td>1.236</td>\n",
              "      <td>1.236</td>\n",
              "      <td>0.0</td>\n",
              "      <td>2458492.839</td>\n",
              "      <td>0.00356</td>\n",
              "      <td>0.00356</td>\n",
              "      <td>0</td>\n",
              "      <td>1.93217</td>\n",
              "      <td>0.00054</td>\n",
              "      <td>0.00054</td>\n",
              "      <td>0</td>\n",
              "      <td>3.447</td>\n",
              "      <td>0.243</td>\n",
              "      <td>0.243</td>\n",
              "      <td>0</td>\n",
              "      <td>691.370</td>\n",
              "      <td>0.698388</td>\n",
              "      <td>0.698388</td>\n",
              "      <td>0</td>\n",
              "      <td>5.52818</td>\n",
              "      <td>0.256245</td>\n",
              "      <td>0.256245</td>\n",
              "      <td>0</td>\n",
              "      <td>6207.63</td>\n",
              "      <td>NaN</td>\n",
              "      <td>NaN</td>\n",
              "      <td>NaN</td>\n",
              "      <td>2472.0</td>\n",
              "      <td>NaN</td>\n",
              "      <td>NaN</td>\n",
              "      <td>NaN</td>\n",
              "      <td>9.427</td>\n",
              "      <td>0.020</td>\n",
              "      <td>0.020</td>\n",
              "      <td>0</td>\n",
              "      <td>221.11301</td>\n",
              "      <td>47.2215</td>\n",
              "      <td>47.2215</td>\n",
              "      <td>0</td>\n",
              "      <td>7120.3701</td>\n",
              "      <td>75.309998</td>\n",
              "      <td>75.309998</td>\n",
              "      <td>0</td>\n",
              "      <td>4.03000</td>\n",
              "      <td>0.386000</td>\n",
              "      <td>0.386000</td>\n",
              "      <td>0</td>\n",
              "      <td>2.29050</td>\n",
              "      <td>0.754187</td>\n",
              "      <td>0.754187</td>\n",
              "      <td>0</td>\n",
              "      <td>3/26/2019 13:55</td>\n",
              "      <td>7/31/2019 10:32</td>\n",
              "    </tr>\n",
              "    <tr>\n",
              "      <th>2</th>\n",
              "      <td>3</td>\n",
              "      <td>1002.01</td>\n",
              "      <td>124709665</td>\n",
              "      <td>NaN</td>\n",
              "      <td>06h58m54.47s</td>\n",
              "      <td>104.726966</td>\n",
              "      <td>-10d34m49.63s</td>\n",
              "      <td>-10.580454</td>\n",
              "      <td>-2.366</td>\n",
              "      <td>0.813</td>\n",
              "      <td>0.813</td>\n",
              "      <td>0.0</td>\n",
              "      <td>-1.936</td>\n",
              "      <td>0.888</td>\n",
              "      <td>0.888</td>\n",
              "      <td>0.0</td>\n",
              "      <td>2458492.602</td>\n",
              "      <td>0.00113</td>\n",
              "      <td>0.00113</td>\n",
              "      <td>0</td>\n",
              "      <td>1.86722</td>\n",
              "      <td>0.00016</td>\n",
              "      <td>0.00016</td>\n",
              "      <td>0</td>\n",
              "      <td>1.926</td>\n",
              "      <td>0.122</td>\n",
              "      <td>0.122</td>\n",
              "      <td>0</td>\n",
              "      <td>6584.000</td>\n",
              "      <td>708.410000</td>\n",
              "      <td>708.410000</td>\n",
              "      <td>0</td>\n",
              "      <td>NaN</td>\n",
              "      <td>NaN</td>\n",
              "      <td>NaN</td>\n",
              "      <td>0</td>\n",
              "      <td>27531.80</td>\n",
              "      <td>NaN</td>\n",
              "      <td>NaN</td>\n",
              "      <td>NaN</td>\n",
              "      <td>3588.0</td>\n",
              "      <td>NaN</td>\n",
              "      <td>NaN</td>\n",
              "      <td>NaN</td>\n",
              "      <td>9.265</td>\n",
              "      <td>0.018</td>\n",
              "      <td>0.018</td>\n",
              "      <td>0</td>\n",
              "      <td>365.81100</td>\n",
              "      <td>NaN</td>\n",
              "      <td>NaN</td>\n",
              "      <td>0</td>\n",
              "      <td>8408.0000</td>\n",
              "      <td>225.000000</td>\n",
              "      <td>225.000000</td>\n",
              "      <td>0</td>\n",
              "      <td>4.08748</td>\n",
              "      <td>1.367920</td>\n",
              "      <td>1.367920</td>\n",
              "      <td>0</td>\n",
              "      <td>2.16160</td>\n",
              "      <td>1.463950</td>\n",
              "      <td>1.463950</td>\n",
              "      <td>0</td>\n",
              "      <td>3/26/2019 13:55</td>\n",
              "      <td>7/31/2019 10:32</td>\n",
              "    </tr>\n",
              "    <tr>\n",
              "      <th>3</th>\n",
              "      <td>4</td>\n",
              "      <td>1003.01</td>\n",
              "      <td>106997505</td>\n",
              "      <td>NaN</td>\n",
              "      <td>07h22m14.39s</td>\n",
              "      <td>110.559945</td>\n",
              "      <td>-25d12m25.26s</td>\n",
              "      <td>-25.207017</td>\n",
              "      <td>-0.607</td>\n",
              "      <td>0.515</td>\n",
              "      <td>0.515</td>\n",
              "      <td>0.0</td>\n",
              "      <td>1.721</td>\n",
              "      <td>0.553</td>\n",
              "      <td>0.553</td>\n",
              "      <td>0.0</td>\n",
              "      <td>2458493.396</td>\n",
              "      <td>0.00535</td>\n",
              "      <td>0.00535</td>\n",
              "      <td>0</td>\n",
              "      <td>2.74323</td>\n",
              "      <td>0.00108</td>\n",
              "      <td>0.00108</td>\n",
              "      <td>0</td>\n",
              "      <td>3.167</td>\n",
              "      <td>0.642</td>\n",
              "      <td>0.642</td>\n",
              "      <td>0</td>\n",
              "      <td>383.410</td>\n",
              "      <td>0.781988</td>\n",
              "      <td>0.781988</td>\n",
              "      <td>0</td>\n",
              "      <td>NaN</td>\n",
              "      <td>NaN</td>\n",
              "      <td>NaN</td>\n",
              "      <td>0</td>\n",
              "      <td>1177.36</td>\n",
              "      <td>NaN</td>\n",
              "      <td>NaN</td>\n",
              "      <td>NaN</td>\n",
              "      <td>1631.0</td>\n",
              "      <td>NaN</td>\n",
              "      <td>NaN</td>\n",
              "      <td>NaN</td>\n",
              "      <td>9.179</td>\n",
              "      <td>0.019</td>\n",
              "      <td>0.019</td>\n",
              "      <td>0</td>\n",
              "      <td>179.04500</td>\n",
              "      <td>NaN</td>\n",
              "      <td>NaN</td>\n",
              "      <td>0</td>\n",
              "      <td>7302.0000</td>\n",
              "      <td>209.000000</td>\n",
              "      <td>209.000000</td>\n",
              "      <td>0</td>\n",
              "      <td>4.14522</td>\n",
              "      <td>1.639760</td>\n",
              "      <td>1.639760</td>\n",
              "      <td>0</td>\n",
              "      <td>1.80071</td>\n",
              "      <td>1.461880</td>\n",
              "      <td>1.461880</td>\n",
              "      <td>0</td>\n",
              "      <td>3/26/2019 13:55</td>\n",
              "      <td>7/31/2019 10:32</td>\n",
              "    </tr>\n",
              "    <tr>\n",
              "      <th>4</th>\n",
              "      <td>5</td>\n",
              "      <td>1004.01</td>\n",
              "      <td>238597883</td>\n",
              "      <td>NaN</td>\n",
              "      <td>08h08m42.77s</td>\n",
              "      <td>122.178195</td>\n",
              "      <td>-48d48m10.12s</td>\n",
              "      <td>-48.802812</td>\n",
              "      <td>-4.924</td>\n",
              "      <td>0.663</td>\n",
              "      <td>0.663</td>\n",
              "      <td>0.0</td>\n",
              "      <td>9.311</td>\n",
              "      <td>0.640</td>\n",
              "      <td>0.640</td>\n",
              "      <td>0.0</td>\n",
              "      <td>2458493.512</td>\n",
              "      <td>0.00653</td>\n",
              "      <td>0.00653</td>\n",
              "      <td>0</td>\n",
              "      <td>3.57491</td>\n",
              "      <td>0.00146</td>\n",
              "      <td>0.00146</td>\n",
              "      <td>0</td>\n",
              "      <td>2.576</td>\n",
              "      <td>0.346</td>\n",
              "      <td>0.346</td>\n",
              "      <td>0</td>\n",
              "      <td>403.708</td>\n",
              "      <td>1.079660</td>\n",
              "      <td>1.079660</td>\n",
              "      <td>0</td>\n",
              "      <td>NaN</td>\n",
              "      <td>NaN</td>\n",
              "      <td>NaN</td>\n",
              "      <td>0</td>\n",
              "      <td>2117.33</td>\n",
              "      <td>NaN</td>\n",
              "      <td>NaN</td>\n",
              "      <td>NaN</td>\n",
              "      <td>1889.0</td>\n",
              "      <td>NaN</td>\n",
              "      <td>NaN</td>\n",
              "      <td>NaN</td>\n",
              "      <td>9.097</td>\n",
              "      <td>0.019</td>\n",
              "      <td>0.019</td>\n",
              "      <td>0</td>\n",
              "      <td>343.50781</td>\n",
              "      <td>51.7304</td>\n",
              "      <td>51.7304</td>\n",
              "      <td>0</td>\n",
              "      <td>9252.0000</td>\n",
              "      <td>238.000000</td>\n",
              "      <td>238.000000</td>\n",
              "      <td>0</td>\n",
              "      <td>4.12510</td>\n",
              "      <td>0.474341</td>\n",
              "      <td>0.474341</td>\n",
              "      <td>0</td>\n",
              "      <td>2.19708</td>\n",
              "      <td>0.483046</td>\n",
              "      <td>0.483046</td>\n",
              "      <td>0</td>\n",
              "      <td>3/26/2019 13:55</td>\n",
              "      <td>7/31/2019 10:32</td>\n",
              "    </tr>\n",
              "  </tbody>\n",
              "</table>\n",
              "</div>"
            ],
            "text/plain": [
              "   loc_rowid      toi        tid  ... st_radlim      toi_created        rowupdate\n",
              "0          1  1000.01   50365310  ...         0  3/26/2019 13:55  7/31/2019 10:32\n",
              "1          2  1001.01   88863718  ...         0  3/26/2019 13:55  7/31/2019 10:32\n",
              "2          3  1002.01  124709665  ...         0  3/26/2019 13:55  7/31/2019 10:32\n",
              "3          4  1003.01  106997505  ...         0  3/26/2019 13:55  7/31/2019 10:32\n",
              "4          5  1004.01  238597883  ...         0  3/26/2019 13:55  7/31/2019 10:32\n",
              "\n",
              "[5 rows x 66 columns]"
            ]
          },
          "metadata": {
            "tags": []
          },
          "execution_count": 16
        }
      ]
    },
    {
      "cell_type": "code",
      "metadata": {
        "id": "Ofy9nzrsIO2R",
        "colab_type": "code",
        "colab": {
          "base_uri": "https://localhost:8080/",
          "height": 302
        },
        "outputId": "6101852a-8a21-4f9f-c550-4eaace1d3781"
      },
      "source": [
        "planets.columns - candidates.columns"
      ],
      "execution_count": 18,
      "outputs": [
        {
          "output_type": "error",
          "ename": "ValueError",
          "evalue": "ignored",
          "traceback": [
            "\u001b[0;31m---------------------------------------------------------------------------\u001b[0m",
            "\u001b[0;31mValueError\u001b[0m                                Traceback (most recent call last)",
            "\u001b[0;32m<ipython-input-18-6993f71432bf>\u001b[0m in \u001b[0;36m<module>\u001b[0;34m()\u001b[0m\n\u001b[0;32m----> 1\u001b[0;31m \u001b[0mplanets\u001b[0m\u001b[0;34m.\u001b[0m\u001b[0mcolumns\u001b[0m \u001b[0;34m-\u001b[0m \u001b[0mcandidates\u001b[0m\u001b[0;34m.\u001b[0m\u001b[0mcolumns\u001b[0m\u001b[0;34m\u001b[0m\u001b[0;34m\u001b[0m\u001b[0m\n\u001b[0m",
            "\u001b[0;32m/usr/local/lib/python3.6/dist-packages/pandas/core/indexes/base.py\u001b[0m in \u001b[0;36m__sub__\u001b[0;34m(self, other)\u001b[0m\n\u001b[1;32m   2212\u001b[0m \u001b[0;34m\u001b[0m\u001b[0m\n\u001b[1;32m   2213\u001b[0m     \u001b[0;32mdef\u001b[0m \u001b[0m__sub__\u001b[0m\u001b[0;34m(\u001b[0m\u001b[0mself\u001b[0m\u001b[0;34m,\u001b[0m \u001b[0mother\u001b[0m\u001b[0;34m)\u001b[0m\u001b[0;34m:\u001b[0m\u001b[0;34m\u001b[0m\u001b[0;34m\u001b[0m\u001b[0m\n\u001b[0;32m-> 2214\u001b[0;31m         \u001b[0;32mreturn\u001b[0m \u001b[0mIndex\u001b[0m\u001b[0;34m(\u001b[0m\u001b[0mnp\u001b[0m\u001b[0;34m.\u001b[0m\u001b[0marray\u001b[0m\u001b[0;34m(\u001b[0m\u001b[0mself\u001b[0m\u001b[0;34m)\u001b[0m \u001b[0;34m-\u001b[0m \u001b[0mother\u001b[0m\u001b[0;34m)\u001b[0m\u001b[0;34m\u001b[0m\u001b[0;34m\u001b[0m\u001b[0m\n\u001b[0m\u001b[1;32m   2215\u001b[0m \u001b[0;34m\u001b[0m\u001b[0m\n\u001b[1;32m   2216\u001b[0m     \u001b[0;32mdef\u001b[0m \u001b[0m__rsub__\u001b[0m\u001b[0;34m(\u001b[0m\u001b[0mself\u001b[0m\u001b[0;34m,\u001b[0m \u001b[0mother\u001b[0m\u001b[0;34m)\u001b[0m\u001b[0;34m:\u001b[0m\u001b[0;34m\u001b[0m\u001b[0;34m\u001b[0m\u001b[0m\n",
            "\u001b[0;32m/usr/local/lib/python3.6/dist-packages/pandas/core/indexes/base.py\u001b[0m in \u001b[0;36m__rsub__\u001b[0;34m(self, other)\u001b[0m\n\u001b[1;32m   2215\u001b[0m \u001b[0;34m\u001b[0m\u001b[0m\n\u001b[1;32m   2216\u001b[0m     \u001b[0;32mdef\u001b[0m \u001b[0m__rsub__\u001b[0m\u001b[0;34m(\u001b[0m\u001b[0mself\u001b[0m\u001b[0;34m,\u001b[0m \u001b[0mother\u001b[0m\u001b[0;34m)\u001b[0m\u001b[0;34m:\u001b[0m\u001b[0;34m\u001b[0m\u001b[0;34m\u001b[0m\u001b[0m\n\u001b[0;32m-> 2217\u001b[0;31m         \u001b[0;32mreturn\u001b[0m \u001b[0mIndex\u001b[0m\u001b[0;34m(\u001b[0m\u001b[0mother\u001b[0m \u001b[0;34m-\u001b[0m \u001b[0mnp\u001b[0m\u001b[0;34m.\u001b[0m\u001b[0marray\u001b[0m\u001b[0;34m(\u001b[0m\u001b[0mself\u001b[0m\u001b[0;34m)\u001b[0m\u001b[0;34m)\u001b[0m\u001b[0;34m\u001b[0m\u001b[0;34m\u001b[0m\u001b[0m\n\u001b[0m\u001b[1;32m   2218\u001b[0m \u001b[0;34m\u001b[0m\u001b[0m\n\u001b[1;32m   2219\u001b[0m     \u001b[0;32mdef\u001b[0m \u001b[0m__and__\u001b[0m\u001b[0;34m(\u001b[0m\u001b[0mself\u001b[0m\u001b[0;34m,\u001b[0m \u001b[0mother\u001b[0m\u001b[0;34m)\u001b[0m\u001b[0;34m:\u001b[0m\u001b[0;34m\u001b[0m\u001b[0;34m\u001b[0m\u001b[0m\n",
            "\u001b[0;31mValueError\u001b[0m: operands could not be broadcast together with shapes (72,) (66,) "
          ]
        }
      ]
    },
    {
      "cell_type": "code",
      "metadata": {
        "id": "HAd0Rks-LkiI",
        "colab_type": "code",
        "colab": {
          "base_uri": "https://localhost:8080/",
          "height": 322
        },
        "outputId": "a0500798-a9c9-4273-ce13-1480843a90bf"
      },
      "source": [
        "planets[candidates.columns]"
      ],
      "execution_count": 19,
      "outputs": [
        {
          "output_type": "error",
          "ename": "KeyError",
          "evalue": "ignored",
          "traceback": [
            "\u001b[0;31m---------------------------------------------------------------------------\u001b[0m",
            "\u001b[0;31mKeyError\u001b[0m                                  Traceback (most recent call last)",
            "\u001b[0;32m<ipython-input-19-d2f6c0e3454d>\u001b[0m in \u001b[0;36m<module>\u001b[0;34m()\u001b[0m\n\u001b[0;32m----> 1\u001b[0;31m \u001b[0mplanets\u001b[0m\u001b[0;34m[\u001b[0m\u001b[0mcandidates\u001b[0m\u001b[0;34m.\u001b[0m\u001b[0mcolumns\u001b[0m\u001b[0;34m]\u001b[0m\u001b[0;34m\u001b[0m\u001b[0;34m\u001b[0m\u001b[0m\n\u001b[0m",
            "\u001b[0;32m/usr/local/lib/python3.6/dist-packages/pandas/core/frame.py\u001b[0m in \u001b[0;36m__getitem__\u001b[0;34m(self, key)\u001b[0m\n\u001b[1;32m   2932\u001b[0m                 \u001b[0mkey\u001b[0m \u001b[0;34m=\u001b[0m \u001b[0mlist\u001b[0m\u001b[0;34m(\u001b[0m\u001b[0mkey\u001b[0m\u001b[0;34m)\u001b[0m\u001b[0;34m\u001b[0m\u001b[0;34m\u001b[0m\u001b[0m\n\u001b[1;32m   2933\u001b[0m             indexer = self.loc._convert_to_indexer(key, axis=1,\n\u001b[0;32m-> 2934\u001b[0;31m                                                    raise_missing=True)\n\u001b[0m\u001b[1;32m   2935\u001b[0m \u001b[0;34m\u001b[0m\u001b[0m\n\u001b[1;32m   2936\u001b[0m         \u001b[0;31m# take() does not accept boolean indexers\u001b[0m\u001b[0;34m\u001b[0m\u001b[0;34m\u001b[0m\u001b[0;34m\u001b[0m\u001b[0m\n",
            "\u001b[0;32m/usr/local/lib/python3.6/dist-packages/pandas/core/indexing.py\u001b[0m in \u001b[0;36m_convert_to_indexer\u001b[0;34m(self, obj, axis, is_setter, raise_missing)\u001b[0m\n\u001b[1;32m   1352\u001b[0m                 kwargs = {'raise_missing': True if is_setter else\n\u001b[1;32m   1353\u001b[0m                           raise_missing}\n\u001b[0;32m-> 1354\u001b[0;31m                 \u001b[0;32mreturn\u001b[0m \u001b[0mself\u001b[0m\u001b[0;34m.\u001b[0m\u001b[0m_get_listlike_indexer\u001b[0m\u001b[0;34m(\u001b[0m\u001b[0mobj\u001b[0m\u001b[0;34m,\u001b[0m \u001b[0maxis\u001b[0m\u001b[0;34m,\u001b[0m \u001b[0;34m**\u001b[0m\u001b[0mkwargs\u001b[0m\u001b[0;34m)\u001b[0m\u001b[0;34m[\u001b[0m\u001b[0;36m1\u001b[0m\u001b[0;34m]\u001b[0m\u001b[0;34m\u001b[0m\u001b[0;34m\u001b[0m\u001b[0m\n\u001b[0m\u001b[1;32m   1355\u001b[0m         \u001b[0;32melse\u001b[0m\u001b[0;34m:\u001b[0m\u001b[0;34m\u001b[0m\u001b[0;34m\u001b[0m\u001b[0m\n\u001b[1;32m   1356\u001b[0m             \u001b[0;32mtry\u001b[0m\u001b[0;34m:\u001b[0m\u001b[0;34m\u001b[0m\u001b[0;34m\u001b[0m\u001b[0m\n",
            "\u001b[0;32m/usr/local/lib/python3.6/dist-packages/pandas/core/indexing.py\u001b[0m in \u001b[0;36m_get_listlike_indexer\u001b[0;34m(self, key, axis, raise_missing)\u001b[0m\n\u001b[1;32m   1159\u001b[0m         self._validate_read_indexer(keyarr, indexer,\n\u001b[1;32m   1160\u001b[0m                                     \u001b[0mo\u001b[0m\u001b[0;34m.\u001b[0m\u001b[0m_get_axis_number\u001b[0m\u001b[0;34m(\u001b[0m\u001b[0maxis\u001b[0m\u001b[0;34m)\u001b[0m\u001b[0;34m,\u001b[0m\u001b[0;34m\u001b[0m\u001b[0;34m\u001b[0m\u001b[0m\n\u001b[0;32m-> 1161\u001b[0;31m                                     raise_missing=raise_missing)\n\u001b[0m\u001b[1;32m   1162\u001b[0m         \u001b[0;32mreturn\u001b[0m \u001b[0mkeyarr\u001b[0m\u001b[0;34m,\u001b[0m \u001b[0mindexer\u001b[0m\u001b[0;34m\u001b[0m\u001b[0;34m\u001b[0m\u001b[0m\n\u001b[1;32m   1163\u001b[0m \u001b[0;34m\u001b[0m\u001b[0m\n",
            "\u001b[0;32m/usr/local/lib/python3.6/dist-packages/pandas/core/indexing.py\u001b[0m in \u001b[0;36m_validate_read_indexer\u001b[0;34m(self, key, indexer, axis, raise_missing)\u001b[0m\n\u001b[1;32m   1250\u001b[0m             \u001b[0;32mif\u001b[0m \u001b[0;32mnot\u001b[0m\u001b[0;34m(\u001b[0m\u001b[0mself\u001b[0m\u001b[0;34m.\u001b[0m\u001b[0mname\u001b[0m \u001b[0;34m==\u001b[0m \u001b[0;34m'loc'\u001b[0m \u001b[0;32mand\u001b[0m \u001b[0;32mnot\u001b[0m \u001b[0mraise_missing\u001b[0m\u001b[0;34m)\u001b[0m\u001b[0;34m:\u001b[0m\u001b[0;34m\u001b[0m\u001b[0;34m\u001b[0m\u001b[0m\n\u001b[1;32m   1251\u001b[0m                 \u001b[0mnot_found\u001b[0m \u001b[0;34m=\u001b[0m \u001b[0mlist\u001b[0m\u001b[0;34m(\u001b[0m\u001b[0mset\u001b[0m\u001b[0;34m(\u001b[0m\u001b[0mkey\u001b[0m\u001b[0;34m)\u001b[0m \u001b[0;34m-\u001b[0m \u001b[0mset\u001b[0m\u001b[0;34m(\u001b[0m\u001b[0max\u001b[0m\u001b[0;34m)\u001b[0m\u001b[0;34m)\u001b[0m\u001b[0;34m\u001b[0m\u001b[0;34m\u001b[0m\u001b[0m\n\u001b[0;32m-> 1252\u001b[0;31m                 \u001b[0;32mraise\u001b[0m \u001b[0mKeyError\u001b[0m\u001b[0;34m(\u001b[0m\u001b[0;34m\"{} not in index\"\u001b[0m\u001b[0;34m.\u001b[0m\u001b[0mformat\u001b[0m\u001b[0;34m(\u001b[0m\u001b[0mnot_found\u001b[0m\u001b[0;34m)\u001b[0m\u001b[0;34m)\u001b[0m\u001b[0;34m\u001b[0m\u001b[0;34m\u001b[0m\u001b[0m\n\u001b[0m\u001b[1;32m   1253\u001b[0m \u001b[0;34m\u001b[0m\u001b[0m\n\u001b[1;32m   1254\u001b[0m             \u001b[0;31m# we skip the warning on Categorical/Interval\u001b[0m\u001b[0;34m\u001b[0m\u001b[0;34m\u001b[0m\u001b[0;34m\u001b[0m\u001b[0m\n",
            "\u001b[0;31mKeyError\u001b[0m: \"['pl_trandeperr2', 'pl_tranmid', 'pl_trandurh', 'pl_trandurherr1', 'st_pmdecerr2', 'st_pmraerr2', 'st_tmagerr2', 'pl_trandep', 'loc_rowid', 'pl_tranmidlim', 'pl_trandeplim', 'pl_insolerr1', 'pl_eqterr2', 'pl_insolerr2', 'pl_eqterr1', 'pl_trandurherr2', 'pl_insollim', 'decstr', 'toi', 'pl_eqtlim', 'pl_radeerr1', 'pl_rade', 'toi_created', 'st_pmra', 'st_pmralim', 'pl_trandeperr1', 'tfopwg_disp', 'st_logg', 'st_loggerr1', 'st_pmdec', 'pl_eqt', 'pl_radeerr2', 'pl_insol', 'st_logglim', 'pl_radelim', 'st_tmaglim', 'st_pmdeclim', 'st_pmraerr1', 'st_tmag', 'pl_tranmiderr1', 'pl_trandurhlim', 'st_loggerr2', 'st_pmdecerr1', 'tid', 'pl_tranmiderr2', 'rastr', 'st_tmagerr1'] not in index\""
          ]
        }
      ]
    },
    {
      "cell_type": "code",
      "metadata": {
        "id": "fJ_oYGSEL2pH",
        "colab_type": "code",
        "colab": {
          "base_uri": "https://localhost:8080/",
          "height": 1000
        },
        "outputId": "15abd98f-5ede-4509-acb8-288d62e7bd21"
      },
      "source": [
        "pip install lightkurve"
      ],
      "execution_count": 1,
      "outputs": [
        {
          "output_type": "stream",
          "text": [
            "Collecting lightkurve\n",
            "\u001b[?25l  Downloading https://files.pythonhosted.org/packages/c5/2e/537e5d6f23021750668103bca4b0ce6fc45fe4cf0942a8a313de46c22b63/lightkurve-1.1.1.tar.gz (474kB)\n",
            "\u001b[K     |████████████████████████████████| 481kB 2.8MB/s \n",
            "\u001b[?25hRequirement already satisfied: numpy>=1.11 in /usr/local/lib/python3.6/dist-packages (from lightkurve) (1.16.4)\n",
            "Requirement already satisfied: astropy>=1.3 in /usr/local/lib/python3.6/dist-packages (from lightkurve) (3.0.5)\n",
            "Requirement already satisfied: scipy>=0.19.0 in /usr/local/lib/python3.6/dist-packages (from lightkurve) (1.3.1)\n",
            "Requirement already satisfied: matplotlib>=1.5.3 in /usr/local/lib/python3.6/dist-packages (from lightkurve) (3.0.3)\n",
            "Collecting astroquery>=0.3.9 (from lightkurve)\n",
            "\u001b[?25l  Downloading https://files.pythonhosted.org/packages/61/50/a7a08f9e54d7d9d97e69433cd88231e1ad2901811c9d1ae9ac7ccaef9396/astroquery-0.3.9.tar.gz (4.2MB)\n",
            "\u001b[K     |████████████████████████████████| 4.2MB 35.2MB/s \n",
            "\u001b[?25hCollecting oktopus (from lightkurve)\n",
            "  Downloading https://files.pythonhosted.org/packages/2d/6e/7b7e11442ff70286c22614d200f6145f83528dc6c99fec0982665e25c8d3/oktopus-0.1.2.tar.gz\n",
            "Requirement already satisfied: bs4 in /usr/local/lib/python3.6/dist-packages (from lightkurve) (0.0.1)\n",
            "Requirement already satisfied: requests in /usr/local/lib/python3.6/dist-packages (from lightkurve) (2.21.0)\n",
            "Requirement already satisfied: tqdm in /usr/local/lib/python3.6/dist-packages (from lightkurve) (4.28.1)\n",
            "Requirement already satisfied: pandas in /usr/local/lib/python3.6/dist-packages (from lightkurve) (0.24.2)\n",
            "Collecting uncertainties (from lightkurve)\n",
            "\u001b[?25l  Downloading https://files.pythonhosted.org/packages/2a/c2/babbe5b16141859dd799ed31c03987100a7b6d0ca7c0ed4429c96ce60fdf/uncertainties-3.1.2.tar.gz (232kB)\n",
            "\u001b[K     |████████████████████████████████| 235kB 42.5MB/s \n",
            "\u001b[?25hRequirement already satisfied: cycler>=0.10 in /usr/local/lib/python3.6/dist-packages (from matplotlib>=1.5.3->lightkurve) (0.10.0)\n",
            "Requirement already satisfied: python-dateutil>=2.1 in /usr/local/lib/python3.6/dist-packages (from matplotlib>=1.5.3->lightkurve) (2.5.3)\n",
            "Requirement already satisfied: pyparsing!=2.0.4,!=2.1.2,!=2.1.6,>=2.0.1 in /usr/local/lib/python3.6/dist-packages (from matplotlib>=1.5.3->lightkurve) (2.4.2)\n",
            "Requirement already satisfied: kiwisolver>=1.0.1 in /usr/local/lib/python3.6/dist-packages (from matplotlib>=1.5.3->lightkurve) (1.1.0)\n",
            "Collecting keyring>=4.0 (from astroquery>=0.3.9->lightkurve)\n",
            "  Downloading https://files.pythonhosted.org/packages/c8/17/a1ce6405d5bbad3f04e2ad97f75ceccf2c16edb370f8bba446ee196da160/keyring-19.1.0-py2.py3-none-any.whl\n",
            "Requirement already satisfied: beautifulsoup4>=4.3.2 in /usr/local/lib/python3.6/dist-packages (from astroquery>=0.3.9->lightkurve) (4.6.3)\n",
            "Requirement already satisfied: html5lib>=0.999 in /usr/local/lib/python3.6/dist-packages (from astroquery>=0.3.9->lightkurve) (1.0.1)\n",
            "Requirement already satisfied: autograd in /usr/local/lib/python3.6/dist-packages (from oktopus->lightkurve) (1.3)\n",
            "Requirement already satisfied: certifi>=2017.4.17 in /usr/local/lib/python3.6/dist-packages (from requests->lightkurve) (2019.6.16)\n",
            "Requirement already satisfied: chardet<3.1.0,>=3.0.2 in /usr/local/lib/python3.6/dist-packages (from requests->lightkurve) (3.0.4)\n",
            "Requirement already satisfied: idna<2.9,>=2.5 in /usr/local/lib/python3.6/dist-packages (from requests->lightkurve) (2.8)\n",
            "Requirement already satisfied: urllib3<1.25,>=1.21.1 in /usr/local/lib/python3.6/dist-packages (from requests->lightkurve) (1.24.3)\n",
            "Requirement already satisfied: pytz>=2011k in /usr/local/lib/python3.6/dist-packages (from pandas->lightkurve) (2018.9)\n",
            "Requirement already satisfied: six in /usr/local/lib/python3.6/dist-packages (from cycler>=0.10->matplotlib>=1.5.3->lightkurve) (1.12.0)\n",
            "Requirement already satisfied: setuptools in /usr/local/lib/python3.6/dist-packages (from kiwisolver>=1.0.1->matplotlib>=1.5.3->lightkurve) (41.2.0)\n",
            "Requirement already satisfied: entrypoints in /usr/local/lib/python3.6/dist-packages (from keyring>=4.0->astroquery>=0.3.9->lightkurve) (0.3)\n",
            "Collecting secretstorage; sys_platform == \"linux\" (from keyring>=4.0->astroquery>=0.3.9->lightkurve)\n",
            "  Downloading https://files.pythonhosted.org/packages/82/59/cb226752e20d83598d7fdcabd7819570b0329a61db07cfbdd21b2ef546e3/SecretStorage-3.1.1-py3-none-any.whl\n",
            "Requirement already satisfied: webencodings in /usr/local/lib/python3.6/dist-packages (from html5lib>=0.999->astroquery>=0.3.9->lightkurve) (0.5.1)\n",
            "Requirement already satisfied: future>=0.15.2 in /usr/local/lib/python3.6/dist-packages (from autograd->oktopus->lightkurve) (0.16.0)\n",
            "Collecting jeepney (from secretstorage; sys_platform == \"linux\"->keyring>=4.0->astroquery>=0.3.9->lightkurve)\n",
            "\u001b[?25l  Downloading https://files.pythonhosted.org/packages/0a/4c/ef880713a6c6d628869596703167eab2edf8e0ec2d870d1089dcb0901b81/jeepney-0.4.1-py3-none-any.whl (60kB)\n",
            "\u001b[K     |████████████████████████████████| 61kB 7.2MB/s \n",
            "\u001b[?25hCollecting cryptography (from secretstorage; sys_platform == \"linux\"->keyring>=4.0->astroquery>=0.3.9->lightkurve)\n",
            "\u001b[?25l  Downloading https://files.pythonhosted.org/packages/97/18/c6557f63a6abde34707196fb2cad1c6dc0dbff25a200d5044922496668a4/cryptography-2.7-cp34-abi3-manylinux1_x86_64.whl (2.3MB)\n",
            "\u001b[K     |████████████████████████████████| 2.3MB 35.9MB/s \n",
            "\u001b[?25hRequirement already satisfied: cffi!=1.11.3,>=1.8 in /usr/local/lib/python3.6/dist-packages (from cryptography->secretstorage; sys_platform == \"linux\"->keyring>=4.0->astroquery>=0.3.9->lightkurve) (1.12.3)\n",
            "Collecting asn1crypto>=0.21.0 (from cryptography->secretstorage; sys_platform == \"linux\"->keyring>=4.0->astroquery>=0.3.9->lightkurve)\n",
            "\u001b[?25l  Downloading https://files.pythonhosted.org/packages/ea/cd/35485615f45f30a510576f1a56d1e0a7ad7bd8ab5ed7cdc600ef7cd06222/asn1crypto-0.24.0-py2.py3-none-any.whl (101kB)\n",
            "\u001b[K     |████████████████████████████████| 102kB 29.9MB/s \n",
            "\u001b[?25hRequirement already satisfied: pycparser in /usr/local/lib/python3.6/dist-packages (from cffi!=1.11.3,>=1.8->cryptography->secretstorage; sys_platform == \"linux\"->keyring>=4.0->astroquery>=0.3.9->lightkurve) (2.19)\n",
            "Building wheels for collected packages: lightkurve, astroquery, oktopus, uncertainties\n",
            "  Building wheel for lightkurve (setup.py) ... \u001b[?25l\u001b[?25hdone\n",
            "  Created wheel for lightkurve: filename=lightkurve-1.1.1-cp36-none-any.whl size=495117 sha256=108ad6db0f381ca9e81fd191551ce943e66bd5fa70de1d8025a5ab9301e8bd2c\n",
            "  Stored in directory: /root/.cache/pip/wheels/85/da/fb/c1498ed5d32ab0adeb94e45e85d025845e5602f93ae5c8f627\n",
            "  Building wheel for astroquery (setup.py) ... \u001b[?25l\u001b[?25hdone\n",
            "  Created wheel for astroquery: filename=astroquery-0.3.9-cp36-none-any.whl size=3247933 sha256=a14f028f19acb6cf30fca9fa3e44850ff271468f3c1bd1e95c2651b072c58169\n",
            "  Stored in directory: /root/.cache/pip/wheels/8a/d1/1e/4124d9ef35e2bbfbaa284c97dd49d9babbab42d966c4bea190\n",
            "  Building wheel for oktopus (setup.py) ... \u001b[?25l\u001b[?25hdone\n",
            "  Created wheel for oktopus: filename=oktopus-0.1.2-cp36-none-any.whl size=12781 sha256=34a34d324f63ad7935cb390d31043b5f3745b4419357a79a4bb8eedc6e694f0f\n",
            "  Stored in directory: /root/.cache/pip/wheels/9b/90/81/098fc66ee56166d63c9a8fc0a9672ae7b3423396a588ec952a\n",
            "  Building wheel for uncertainties (setup.py) ... \u001b[?25l\u001b[?25hdone\n",
            "  Created wheel for uncertainties: filename=uncertainties-3.1.2-cp36-none-any.whl size=96457 sha256=a0932104aeccbc8e1dca7687ac37c78f5f898ad4e88534fc23a922c11c153fbb\n",
            "  Stored in directory: /root/.cache/pip/wheels/d9/d3/0e/5b0b743a8abd50373705427438456da5dc2621891138d7a618\n",
            "Successfully built lightkurve astroquery oktopus uncertainties\n",
            "Installing collected packages: jeepney, asn1crypto, cryptography, secretstorage, keyring, astroquery, oktopus, uncertainties, lightkurve\n",
            "Successfully installed asn1crypto-0.24.0 astroquery-0.3.9 cryptography-2.7 jeepney-0.4.1 keyring-19.1.0 lightkurve-1.1.1 oktopus-0.1.2 secretstorage-3.1.1 uncertainties-3.1.2\n"
          ],
          "name": "stdout"
        }
      ]
    },
    {
      "cell_type": "code",
      "metadata": {
        "id": "mz91yaYnb_CL",
        "colab_type": "code",
        "colab": {}
      },
      "source": [
        "from lightkurve.lightcurve import TessLightCurve"
      ],
      "execution_count": 0,
      "outputs": []
    },
    {
      "cell_type": "code",
      "metadata": {
        "id": "twfNbka4e6qq",
        "colab_type": "code",
        "colab": {}
      },
      "source": [
        "from lightkurve import TessTargetPixelFile"
      ],
      "execution_count": 0,
      "outputs": []
    },
    {
      "cell_type": "code",
      "metadata": {
        "id": "81L0FIpVe_R0",
        "colab_type": "code",
        "colab": {
          "base_uri": "https://localhost:8080/",
          "height": 33
        },
        "outputId": "d765a407-bedf-409f-9a18-b7d0c136df97"
      },
      "source": [
        "TessLightCurve"
      ],
      "execution_count": 4,
      "outputs": [
        {
          "output_type": "execute_result",
          "data": {
            "text/plain": [
              "lightkurve.lightcurve.TessLightCurve"
            ]
          },
          "metadata": {
            "tags": []
          },
          "execution_count": 4
        }
      ]
    },
    {
      "cell_type": "code",
      "metadata": {
        "id": "-4Tk4YkXfG4W",
        "colab_type": "code",
        "colab": {
          "base_uri": "https://localhost:8080/",
          "height": 33
        },
        "outputId": "ec9c4019-9be4-4020-960d-52abcd9e8944"
      },
      "source": [
        "TessTargetPixelFile"
      ],
      "execution_count": 6,
      "outputs": [
        {
          "output_type": "execute_result",
          "data": {
            "text/plain": [
              "lightkurve.targetpixelfile.TessTargetPixelFile"
            ]
          },
          "metadata": {
            "tags": []
          },
          "execution_count": 6
        }
      ]
    },
    {
      "cell_type": "code",
      "metadata": {
        "id": "oTRGCtQ5d08B",
        "colab_type": "code",
        "colab": {
          "base_uri": "https://localhost:8080/",
          "height": 33
        },
        "outputId": "dc195a3e-b24d-437a-ac1c-cd2eaac53c5c"
      },
      "source": [
        "pip install lightkurvelightcurve??"
      ],
      "execution_count": 7,
      "outputs": [
        {
          "output_type": "stream",
          "text": [
            "Object `lightkurvelightcurve` not found.\n"
          ],
          "name": "stdout"
        }
      ]
    },
    {
      "cell_type": "code",
      "metadata": {
        "id": "J7AbvgV1eN63",
        "colab_type": "code",
        "colab": {
          "base_uri": "https://localhost:8080/",
          "height": 33
        },
        "outputId": "2f2d7ff6-4660-47d5-ec8b-6d46a49d56fa"
      },
      "source": [
        "tpf = TessTargetPixelFile('https://archive.stsci.edu/hlsps/tess-data-alerts/hlsp_tess-data-alerts_tess_phot_00261136679-s01_tess_v1_tp.fits')\n"
      ],
      "execution_count": 8,
      "outputs": [
        {
          "output_type": "stream",
          "text": [
            "Downloading https://archive.stsci.edu/hlsps/tess-data-alerts/hlsp_tess-data-alerts_tess_phot_00261136679-s01_tess_v1_tp.fits [Done]\n"
          ],
          "name": "stdout"
        }
      ]
    },
    {
      "cell_type": "code",
      "metadata": {
        "id": "bN6WPIk-fe9A",
        "colab_type": "code",
        "colab": {
          "base_uri": "https://localhost:8080/",
          "height": 33
        },
        "outputId": "f0f7e97e-5e47-414c-8754-7c0798e0699f"
      },
      "source": [
        "tpf"
      ],
      "execution_count": 9,
      "outputs": [
        {
          "output_type": "execute_result",
          "data": {
            "text/plain": [
              "TessTargetPixelFile(TICID: 261136679)"
            ]
          },
          "metadata": {
            "tags": []
          },
          "execution_count": 9
        }
      ]
    },
    {
      "cell_type": "code",
      "metadata": {
        "id": "8K-MwhKjfgpN",
        "colab_type": "code",
        "colab": {
          "base_uri": "https://localhost:8080/",
          "height": 33
        },
        "outputId": "bda01355-6254-4af7-ad06-cae95c757f86"
      },
      "source": [
        "tpf.flux.shape"
      ],
      "execution_count": 10,
      "outputs": [
        {
          "output_type": "execute_result",
          "data": {
            "text/plain": [
              "(18104, 21, 11)"
            ]
          },
          "metadata": {
            "tags": []
          },
          "execution_count": 10
        }
      ]
    },
    {
      "cell_type": "code",
      "metadata": {
        "id": "_e6jpVSzfyHm",
        "colab_type": "code",
        "colab": {
          "base_uri": "https://localhost:8080/",
          "height": 33
        },
        "outputId": "43831433-7dfa-44fb-8363-eb1edfff41b9"
      },
      "source": [
        "tpf.flux[1].shape"
      ],
      "execution_count": 59,
      "outputs": [
        {
          "output_type": "execute_result",
          "data": {
            "text/plain": [
              "(21, 11)"
            ]
          },
          "metadata": {
            "tags": []
          },
          "execution_count": 59
        }
      ]
    },
    {
      "cell_type": "code",
      "metadata": {
        "id": "78sAH4fOgGFB",
        "colab_type": "code",
        "colab": {}
      },
      "source": [
        "lc = tpf.to_lightcurve()\n"
      ],
      "execution_count": 0,
      "outputs": []
    },
    {
      "cell_type": "code",
      "metadata": {
        "id": "kqKiEBdLiNsu",
        "colab_type": "code",
        "colab": {
          "base_uri": "https://localhost:8080/",
          "height": 161
        },
        "outputId": "ffa4dd6d-7468-431f-cb9f-d43a2f2837c5"
      },
      "source": [
        "lc.type"
      ],
      "execution_count": 65,
      "outputs": [
        {
          "output_type": "error",
          "ename": "AttributeError",
          "evalue": "ignored",
          "traceback": [
            "\u001b[0;31m---------------------------------------------------------------------------\u001b[0m",
            "\u001b[0;31mAttributeError\u001b[0m                            Traceback (most recent call last)",
            "\u001b[0;32m<ipython-input-65-b02a76134483>\u001b[0m in \u001b[0;36m<module>\u001b[0;34m()\u001b[0m\n\u001b[0;32m----> 1\u001b[0;31m \u001b[0mlc\u001b[0m\u001b[0;34m.\u001b[0m\u001b[0mtype\u001b[0m\u001b[0;34m\u001b[0m\u001b[0;34m\u001b[0m\u001b[0m\n\u001b[0m",
            "\u001b[0;31mAttributeError\u001b[0m: 'TessLightCurve' object has no attribute 'type'"
          ]
        }
      ]
    },
    {
      "cell_type": "code",
      "metadata": {
        "id": "3NxVD080iO8Y",
        "colab_type": "code",
        "colab": {
          "base_uri": "https://localhost:8080/",
          "height": 33
        },
        "outputId": "ed23380b-af9b-4477-d1b1-70ef01e25987"
      },
      "source": [
        "tpf.shape"
      ],
      "execution_count": 18,
      "outputs": [
        {
          "output_type": "execute_result",
          "data": {
            "text/plain": [
              "(18104, 21, 11)"
            ]
          },
          "metadata": {
            "tags": []
          },
          "execution_count": 18
        }
      ]
    },
    {
      "cell_type": "code",
      "metadata": {
        "id": "SYyNkhEUZNj1",
        "colab_type": "code",
        "colab": {
          "base_uri": "https://localhost:8080/",
          "height": 33
        },
        "outputId": "b7a2a847-5acd-4b41-b52b-134242fb237e"
      },
      "source": [
        "tpf.time.shape"
      ],
      "execution_count": 19,
      "outputs": [
        {
          "output_type": "execute_result",
          "data": {
            "text/plain": [
              "(18104,)"
            ]
          },
          "metadata": {
            "tags": []
          },
          "execution_count": 19
        }
      ]
    },
    {
      "cell_type": "code",
      "metadata": {
        "id": "VR4Smc5DbQix",
        "colab_type": "code",
        "colab": {
          "base_uri": "https://localhost:8080/",
          "height": 33
        },
        "outputId": "4798728d-a3d3-401b-a7ec-e88d4e9624c4"
      },
      "source": [
        "tpf.flux.shape"
      ],
      "execution_count": 20,
      "outputs": [
        {
          "output_type": "execute_result",
          "data": {
            "text/plain": [
              "(18104, 21, 11)"
            ]
          },
          "metadata": {
            "tags": []
          },
          "execution_count": 20
        }
      ]
    },
    {
      "cell_type": "code",
      "metadata": {
        "id": "70jtOTbFbSGZ",
        "colab_type": "code",
        "colab": {}
      },
      "source": [
        "lc = tpf.to_lightcurve(aperture_mask=tpf.pipeline_mask)\n"
      ],
      "execution_count": 0,
      "outputs": []
    },
    {
      "cell_type": "code",
      "metadata": {
        "id": "UZavCHK0b_hJ",
        "colab_type": "code",
        "colab": {
          "base_uri": "https://localhost:8080/",
          "height": 33
        },
        "outputId": "cf4a83ba-9442-48d3-e2c7-a1a0bdbb2274"
      },
      "source": [
        "lc"
      ],
      "execution_count": 23,
      "outputs": [
        {
          "output_type": "execute_result",
          "data": {
            "text/plain": [
              "TessLightCurve(TICID: 261136679)"
            ]
          },
          "metadata": {
            "tags": []
          },
          "execution_count": 23
        }
      ]
    },
    {
      "cell_type": "code",
      "metadata": {
        "id": "5HbH8uDQcOVf",
        "colab_type": "code",
        "colab": {
          "base_uri": "https://localhost:8080/",
          "height": 161
        },
        "outputId": "4ea00204-70d7-4646-c517-f72539cab06c"
      },
      "source": [
        "lc.shape"
      ],
      "execution_count": 24,
      "outputs": [
        {
          "output_type": "error",
          "ename": "AttributeError",
          "evalue": "ignored",
          "traceback": [
            "\u001b[0;31m---------------------------------------------------------------------------\u001b[0m",
            "\u001b[0;31mAttributeError\u001b[0m                            Traceback (most recent call last)",
            "\u001b[0;32m<ipython-input-24-8ae0195bd24e>\u001b[0m in \u001b[0;36m<module>\u001b[0;34m()\u001b[0m\n\u001b[0;32m----> 1\u001b[0;31m \u001b[0mlc\u001b[0m\u001b[0;34m.\u001b[0m\u001b[0mshape\u001b[0m\u001b[0;34m\u001b[0m\u001b[0;34m\u001b[0m\u001b[0m\n\u001b[0m",
            "\u001b[0;31mAttributeError\u001b[0m: 'TessLightCurve' object has no attribute 'shape'"
          ]
        }
      ]
    },
    {
      "cell_type": "code",
      "metadata": {
        "id": "sR-YIFYKck34",
        "colab_type": "code",
        "colab": {}
      },
      "source": [
        "import matplotlib.pyplot as plt\n",
        "%matplotlib inline"
      ],
      "execution_count": 0,
      "outputs": []
    },
    {
      "cell_type": "code",
      "metadata": {
        "id": "e4qWCRHjcQJZ",
        "colab_type": "code",
        "colab": {
          "base_uri": "https://localhost:8080/",
          "height": 386
        },
        "outputId": "cbbb36bb-1eb1-4a16-9eac-3385d31c6cd1"
      },
      "source": [
        "lc.errorbar();"
      ],
      "execution_count": 30,
      "outputs": [
        {
          "output_type": "display_data",
          "data": {
            "image/png": "[encoded data removed]",
            "text/plain": [
              "<Figure size 848.5x400 with 1 Axes>"
            ]
          },
          "metadata": {
            "tags": []
          }
        }
      ]
    },
    {
      "cell_type": "code",
      "metadata": {
        "id": "HXFksovIc-9_",
        "colab_type": "code",
        "colab": {}
      },
      "source": [
        "import pandas as pd"
      ],
      "execution_count": 0,
      "outputs": []
    },
    {
      "cell_type": "code",
      "metadata": {
        "id": "haysBoK_ch5Q",
        "colab_type": "code",
        "colab": {}
      },
      "source": [
        "time = pd.DataFrame(tpf.time, columns=['time'])"
      ],
      "execution_count": 0,
      "outputs": []
    },
    {
      "cell_type": "code",
      "metadata": {
        "id": "VLFsASaddDNk",
        "colab_type": "code",
        "colab": {
          "base_uri": "https://localhost:8080/",
          "height": 197
        },
        "outputId": "d528a604-335c-4753-93e2-aaf8a17db095"
      },
      "source": [
        "time.head()"
      ],
      "execution_count": 37,
      "outputs": [
        {
          "output_type": "execute_result",
          "data": {
            "text/html": [
              "<div>\n",
              "<style scoped>\n",
              "    .dataframe tbody tr th:only-of-type {\n",
              "        vertical-align: middle;\n",
              "    }\n",
              "\n",
              "    .dataframe tbody tr th {\n",
              "        vertical-align: top;\n",
              "    }\n",
              "\n",
              "    .dataframe thead th {\n",
              "        text-align: right;\n",
              "    }\n",
              "</style>\n",
              "<table border=\"1\" class=\"dataframe\">\n",
              "  <thead>\n",
              "    <tr style=\"text-align: right;\">\n",
              "      <th></th>\n",
              "      <th>time</th>\n",
              "    </tr>\n",
              "  </thead>\n",
              "  <tbody>\n",
              "    <tr>\n",
              "      <th>0</th>\n",
              "      <td>1325.296983</td>\n",
              "    </tr>\n",
              "    <tr>\n",
              "      <th>1</th>\n",
              "      <td>1325.298372</td>\n",
              "    </tr>\n",
              "    <tr>\n",
              "      <th>2</th>\n",
              "      <td>1325.299761</td>\n",
              "    </tr>\n",
              "    <tr>\n",
              "      <th>3</th>\n",
              "      <td>1325.301150</td>\n",
              "    </tr>\n",
              "    <tr>\n",
              "      <th>4</th>\n",
              "      <td>1325.302539</td>\n",
              "    </tr>\n",
              "  </tbody>\n",
              "</table>\n",
              "</div>"
            ],
            "text/plain": [
              "          time\n",
              "0  1325.296983\n",
              "1  1325.298372\n",
              "2  1325.299761\n",
              "3  1325.301150\n",
              "4  1325.302539"
            ]
          },
          "metadata": {
            "tags": []
          },
          "execution_count": 37
        }
      ]
    },
    {
      "cell_type": "code",
      "metadata": {
        "id": "svyT0IGZdGVN",
        "colab_type": "code",
        "colab": {
          "base_uri": "https://localhost:8080/",
          "height": 33
        },
        "outputId": "65df73ee-b258-470f-e5b9-e054750c7f58"
      },
      "source": [
        "lc.time[0]"
      ],
      "execution_count": 38,
      "outputs": [
        {
          "output_type": "execute_result",
          "data": {
            "text/plain": [
              "1325.2969832846081"
            ]
          },
          "metadata": {
            "tags": []
          },
          "execution_count": 38
        }
      ]
    },
    {
      "cell_type": "code",
      "metadata": {
        "id": "IaaZ_Cjvdis1",
        "colab_type": "code",
        "colab": {}
      },
      "source": [
        "flux = pd.DataFrame(lc.flux, columns=['flux'])"
      ],
      "execution_count": 0,
      "outputs": []
    },
    {
      "cell_type": "code",
      "metadata": {
        "id": "4g3GQB2Ad5ga",
        "colab_type": "code",
        "colab": {}
      },
      "source": [
        "df = time.merge(flux, how='outer', left_index=True, right_index=True)"
      ],
      "execution_count": 0,
      "outputs": []
    },
    {
      "cell_type": "code",
      "metadata": {
        "id": "hFZKpDJAeJHA",
        "colab_type": "code",
        "colab": {
          "base_uri": "https://localhost:8080/",
          "height": 197
        },
        "outputId": "94719c8a-a61a-4e31-9589-33d97862d6b3"
      },
      "source": [
        "df.head()"
      ],
      "execution_count": 55,
      "outputs": [
        {
          "output_type": "execute_result",
          "data": {
            "text/html": [
              "<div>\n",
              "<style scoped>\n",
              "    .dataframe tbody tr th:only-of-type {\n",
              "        vertical-align: middle;\n",
              "    }\n",
              "\n",
              "    .dataframe tbody tr th {\n",
              "        vertical-align: top;\n",
              "    }\n",
              "\n",
              "    .dataframe thead th {\n",
              "        text-align: right;\n",
              "    }\n",
              "</style>\n",
              "<table border=\"1\" class=\"dataframe\">\n",
              "  <thead>\n",
              "    <tr style=\"text-align: right;\">\n",
              "      <th></th>\n",
              "      <th>time</th>\n",
              "      <th>flux</th>\n",
              "    </tr>\n",
              "  </thead>\n",
              "  <tbody>\n",
              "    <tr>\n",
              "      <th>0</th>\n",
              "      <td>1325.296983</td>\n",
              "      <td>1361239.125</td>\n",
              "    </tr>\n",
              "    <tr>\n",
              "      <th>1</th>\n",
              "      <td>1325.298372</td>\n",
              "      <td>1369874.875</td>\n",
              "    </tr>\n",
              "    <tr>\n",
              "      <th>2</th>\n",
              "      <td>1325.299761</td>\n",
              "      <td>1370507.125</td>\n",
              "    </tr>\n",
              "    <tr>\n",
              "      <th>3</th>\n",
              "      <td>1325.301150</td>\n",
              "      <td>1371720.500</td>\n",
              "    </tr>\n",
              "    <tr>\n",
              "      <th>4</th>\n",
              "      <td>1325.302539</td>\n",
              "      <td>1373045.500</td>\n",
              "    </tr>\n",
              "  </tbody>\n",
              "</table>\n",
              "</div>"
            ],
            "text/plain": [
              "          time         flux\n",
              "0  1325.296983  1361239.125\n",
              "1  1325.298372  1369874.875\n",
              "2  1325.299761  1370507.125\n",
              "3  1325.301150  1371720.500\n",
              "4  1325.302539  1373045.500"
            ]
          },
          "metadata": {
            "tags": []
          },
          "execution_count": 55
        }
      ]
    },
    {
      "cell_type": "code",
      "metadata": {
        "id": "0O3mNHMXe0Ao",
        "colab_type": "code",
        "colab": {
          "base_uri": "https://localhost:8080/",
          "height": 277
        },
        "outputId": "359e1ecc-bea6-4395-e290-b5bb5e055bc5"
      },
      "source": [
        "df.plt(kind='scatter')"
      ],
      "execution_count": 59,
      "outputs": [
        {
          "output_type": "error",
          "ename": "AttributeError",
          "evalue": "ignored",
          "traceback": [
            "\u001b[0;31m---------------------------------------------------------------------------\u001b[0m",
            "\u001b[0;31mAttributeError\u001b[0m                            Traceback (most recent call last)",
            "\u001b[0;32m<ipython-input-59-8738b4724971>\u001b[0m in \u001b[0;36m<module>\u001b[0;34m()\u001b[0m\n\u001b[0;32m----> 1\u001b[0;31m \u001b[0mdf\u001b[0m\u001b[0;34m.\u001b[0m\u001b[0mplt\u001b[0m\u001b[0;34m(\u001b[0m\u001b[0mkind\u001b[0m\u001b[0;34m=\u001b[0m\u001b[0;34m'scatter'\u001b[0m\u001b[0;34m)\u001b[0m\u001b[0;34m\u001b[0m\u001b[0;34m\u001b[0m\u001b[0m\n\u001b[0m",
            "\u001b[0;32m/usr/local/lib/python3.6/dist-packages/pandas/core/generic.py\u001b[0m in \u001b[0;36m__getattr__\u001b[0;34m(self, name)\u001b[0m\n\u001b[1;32m   5065\u001b[0m             \u001b[0;32mif\u001b[0m \u001b[0mself\u001b[0m\u001b[0;34m.\u001b[0m\u001b[0m_info_axis\u001b[0m\u001b[0;34m.\u001b[0m\u001b[0m_can_hold_identifiers_and_holds_name\u001b[0m\u001b[0;34m(\u001b[0m\u001b[0mname\u001b[0m\u001b[0;34m)\u001b[0m\u001b[0;34m:\u001b[0m\u001b[0;34m\u001b[0m\u001b[0;34m\u001b[0m\u001b[0m\n\u001b[1;32m   5066\u001b[0m                 \u001b[0;32mreturn\u001b[0m \u001b[0mself\u001b[0m\u001b[0;34m[\u001b[0m\u001b[0mname\u001b[0m\u001b[0;34m]\u001b[0m\u001b[0;34m\u001b[0m\u001b[0;34m\u001b[0m\u001b[0m\n\u001b[0;32m-> 5067\u001b[0;31m             \u001b[0;32mreturn\u001b[0m \u001b[0mobject\u001b[0m\u001b[0;34m.\u001b[0m\u001b[0m__getattribute__\u001b[0m\u001b[0;34m(\u001b[0m\u001b[0mself\u001b[0m\u001b[0;34m,\u001b[0m \u001b[0mname\u001b[0m\u001b[0;34m)\u001b[0m\u001b[0;34m\u001b[0m\u001b[0;34m\u001b[0m\u001b[0m\n\u001b[0m\u001b[1;32m   5068\u001b[0m \u001b[0;34m\u001b[0m\u001b[0m\n\u001b[1;32m   5069\u001b[0m     \u001b[0;32mdef\u001b[0m \u001b[0m__setattr__\u001b[0m\u001b[0;34m(\u001b[0m\u001b[0mself\u001b[0m\u001b[0;34m,\u001b[0m \u001b[0mname\u001b[0m\u001b[0;34m,\u001b[0m \u001b[0mvalue\u001b[0m\u001b[0;34m)\u001b[0m\u001b[0;34m:\u001b[0m\u001b[0;34m\u001b[0m\u001b[0;34m\u001b[0m\u001b[0m\n",
            "\u001b[0;31mAttributeError\u001b[0m: 'DataFrame' object has no attribute 'plt'"
          ]
        }
      ]
    },
    {
      "cell_type": "code",
      "metadata": {
        "id": "yf0i0guae5HX",
        "colab_type": "code",
        "colab": {
          "base_uri": "https://localhost:8080/",
          "height": 298
        },
        "outputId": "92ce776a-3d07-4ad7-e5dc-bad5180d2116"
      },
      "source": [
        "df.plot(x='time',y='flux')"
      ],
      "execution_count": 61,
      "outputs": [
        {
          "output_type": "execute_result",
          "data": {
            "text/plain": [
              "<matplotlib.axes._subplots.AxesSubplot at 0x7f466959afd0>"
            ]
          },
          "metadata": {
            "tags": []
          },
          "execution_count": 61
        },
        {
          "output_type": "display_data",
          "data": {
            "image/png": "[encoded data removed]",
            "text/plain": [
              "<Figure size 432x288 with 1 Axes>"
            ]
          },
          "metadata": {
            "tags": []
          }
        }
      ]
    },
    {
      "cell_type": "code",
      "metadata": {
        "id": "NmdO-khqfJ5v",
        "colab_type": "code",
        "colab": {
          "base_uri": "https://localhost:8080/",
          "height": 277
        },
        "outputId": "cef327b2-b705-4a52-b7fb-d1e33d79fb7a"
      },
      "source": [
        "df.fold"
      ],
      "execution_count": 62,
      "outputs": [
        {
          "output_type": "error",
          "ename": "AttributeError",
          "evalue": "ignored",
          "traceback": [
            "\u001b[0;31m---------------------------------------------------------------------------\u001b[0m",
            "\u001b[0;31mAttributeError\u001b[0m                            Traceback (most recent call last)",
            "\u001b[0;32m<ipython-input-62-ea7eb61fedfc>\u001b[0m in \u001b[0;36m<module>\u001b[0;34m()\u001b[0m\n\u001b[0;32m----> 1\u001b[0;31m \u001b[0mdf\u001b[0m\u001b[0;34m.\u001b[0m\u001b[0mfold\u001b[0m\u001b[0;34m\u001b[0m\u001b[0;34m\u001b[0m\u001b[0m\n\u001b[0m",
            "\u001b[0;32m/usr/local/lib/python3.6/dist-packages/pandas/core/generic.py\u001b[0m in \u001b[0;36m__getattr__\u001b[0;34m(self, name)\u001b[0m\n\u001b[1;32m   5065\u001b[0m             \u001b[0;32mif\u001b[0m \u001b[0mself\u001b[0m\u001b[0;34m.\u001b[0m\u001b[0m_info_axis\u001b[0m\u001b[0;34m.\u001b[0m\u001b[0m_can_hold_identifiers_and_holds_name\u001b[0m\u001b[0;34m(\u001b[0m\u001b[0mname\u001b[0m\u001b[0;34m)\u001b[0m\u001b[0;34m:\u001b[0m\u001b[0;34m\u001b[0m\u001b[0;34m\u001b[0m\u001b[0m\n\u001b[1;32m   5066\u001b[0m                 \u001b[0;32mreturn\u001b[0m \u001b[0mself\u001b[0m\u001b[0;34m[\u001b[0m\u001b[0mname\u001b[0m\u001b[0;34m]\u001b[0m\u001b[0;34m\u001b[0m\u001b[0;34m\u001b[0m\u001b[0m\n\u001b[0;32m-> 5067\u001b[0;31m             \u001b[0;32mreturn\u001b[0m \u001b[0mobject\u001b[0m\u001b[0;34m.\u001b[0m\u001b[0m__getattribute__\u001b[0m\u001b[0;34m(\u001b[0m\u001b[0mself\u001b[0m\u001b[0;34m,\u001b[0m \u001b[0mname\u001b[0m\u001b[0;34m)\u001b[0m\u001b[0;34m\u001b[0m\u001b[0;34m\u001b[0m\u001b[0m\n\u001b[0m\u001b[1;32m   5068\u001b[0m \u001b[0;34m\u001b[0m\u001b[0m\n\u001b[1;32m   5069\u001b[0m     \u001b[0;32mdef\u001b[0m \u001b[0m__setattr__\u001b[0m\u001b[0;34m(\u001b[0m\u001b[0mself\u001b[0m\u001b[0;34m,\u001b[0m \u001b[0mname\u001b[0m\u001b[0;34m,\u001b[0m \u001b[0mvalue\u001b[0m\u001b[0;34m)\u001b[0m\u001b[0;34m:\u001b[0m\u001b[0;34m\u001b[0m\u001b[0;34m\u001b[0m\u001b[0m\n",
            "\u001b[0;31mAttributeError\u001b[0m: 'DataFrame' object has no attribute 'fold'"
          ]
        }
      ]
    },
    {
      "cell_type": "code",
      "metadata": {
        "id": "NtBmX6X1gAaS",
        "colab_type": "code",
        "colab": {
          "base_uri": "https://localhost:8080/",
          "height": 403
        },
        "outputId": "c1445ea5-8c76-4e87-97f5-6b57735741b1"
      },
      "source": [
        "tpf.to_lightcurve().plot()"
      ],
      "execution_count": 67,
      "outputs": [
        {
          "output_type": "execute_result",
          "data": {
            "text/plain": [
              "<matplotlib.axes._subplots.AxesSubplot at 0x7f4669526fd0>"
            ]
          },
          "metadata": {
            "tags": []
          },
          "execution_count": 67
        },
        {
          "output_type": "display_data",
          "data": {
            "image/png": "[encoded data removed]",
            "text/plain": [
              "<Figure size 848.5x400 with 1 Axes>"
            ]
          },
          "metadata": {
            "tags": []
          }
        }
      ]
    },
    {
      "cell_type": "code",
      "metadata": {
        "id": "KR68Ad0_9HZL",
        "colab_type": "code",
        "colab": {}
      },
      "source": [
        ""
      ],
      "execution_count": 0,
      "outputs": []
    },
    {
      "cell_type": "markdown",
      "metadata": {
        "id": "jcAc1qey9ItI",
        "colab_type": "text"
      },
      "source": [
        "##JOINING STARS"
      ]
    },
    {
      "cell_type": "code",
      "metadata": {
        "id": "L6bL9FNGr5_g",
        "colab_type": "code",
        "colab": {
          "resources": {
            "http://localhost:8080/nbextensions/google.colab/files.js": {
              "data": "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",
              "ok": true,
              "headers": [
                [
                  "content-type",
                  "application/javascript"
                ]
              ],
              "status": 200,
              "status_text": ""
            }
          },
          "base_uri": "https://localhost:8080/",
          "height": 375
        },
        "outputId": "79df1b65-9313-4a49-fbf6-c6fa71960bc4"
      },
      "source": [
        "from google.colab import files\n",
        "uploaded = files.upload()"
      ],
      "execution_count": 71,
      "outputs": [
        {
          "output_type": "display_data",
          "data": {
            "text/html": [
              "\n",
              "     <input type=\"file\" id=\"files-b10e63a2-b36f-4d92-9ae6-f8bc2b859f6a\" name=\"files[]\" multiple disabled />\n",
              "     <output id=\"result-b10e63a2-b36f-4d92-9ae6-f8bc2b859f6a\">\n",
              "      Upload widget is only available when the cell has been executed in the\n",
              "      current browser session. Please rerun this cell to enable.\n",
              "      </output>\n",
              "      <script src=\"/nbextensions/google.colab/files.js\"></script> "
            ],
            "text/plain": [
              "<IPython.core.display.HTML object>"
            ]
          },
          "metadata": {
            "tags": []
          }
        },
        {
          "output_type": "stream",
          "text": [
            "Saving exoTrain.csv to exoTrain (1).csv\n"
          ],
          "name": "stdout"
        },
        {
          "output_type": "error",
          "ename": "KeyboardInterrupt",
          "evalue": "ignored",
          "traceback": [
            "\u001b[0;31m---------------------------------------------------------------------------\u001b[0m",
            "\u001b[0;31mKeyboardInterrupt\u001b[0m                         Traceback (most recent call last)",
            "\u001b[0;32m<ipython-input-71-21dc3c638f66>\u001b[0m in \u001b[0;36m<module>\u001b[0;34m()\u001b[0m\n\u001b[1;32m      1\u001b[0m \u001b[0;32mfrom\u001b[0m \u001b[0mgoogle\u001b[0m\u001b[0;34m.\u001b[0m\u001b[0mcolab\u001b[0m \u001b[0;32mimport\u001b[0m \u001b[0mfiles\u001b[0m\u001b[0;34m\u001b[0m\u001b[0;34m\u001b[0m\u001b[0m\n\u001b[0;32m----> 2\u001b[0;31m \u001b[0muploaded\u001b[0m \u001b[0;34m=\u001b[0m \u001b[0mfiles\u001b[0m\u001b[0;34m.\u001b[0m\u001b[0mupload\u001b[0m\u001b[0;34m(\u001b[0m\u001b[0;34m)\u001b[0m\u001b[0;34m\u001b[0m\u001b[0;34m\u001b[0m\u001b[0m\n\u001b[0m",
            "\u001b[0;32m/usr/local/lib/python3.6/dist-packages/google/colab/files.py\u001b[0m in \u001b[0;36mupload\u001b[0;34m()\u001b[0m\n\u001b[1;32m     70\u001b[0m     result = _output.eval_js(\n\u001b[1;32m     71\u001b[0m         'google.colab._files._uploadFilesContinue(\"{output_id}\")'.format(\n\u001b[0;32m---> 72\u001b[0;31m             output_id=output_id))\n\u001b[0m\u001b[1;32m     73\u001b[0m     \u001b[0;32mif\u001b[0m \u001b[0mresult\u001b[0m\u001b[0;34m[\u001b[0m\u001b[0;34m'action'\u001b[0m\u001b[0;34m]\u001b[0m \u001b[0;34m!=\u001b[0m \u001b[0;34m'append'\u001b[0m\u001b[0;34m:\u001b[0m\u001b[0;34m\u001b[0m\u001b[0;34m\u001b[0m\u001b[0m\n\u001b[1;32m     74\u001b[0m       \u001b[0;31m# JS side uses a generator of promises to process all of the files- some\u001b[0m\u001b[0;34m\u001b[0m\u001b[0;34m\u001b[0m\u001b[0;34m\u001b[0m\u001b[0m\n",
            "\u001b[0;32m/usr/local/lib/python3.6/dist-packages/google/colab/output/_js.py\u001b[0m in \u001b[0;36meval_js\u001b[0;34m(script, ignore_result)\u001b[0m\n\u001b[1;32m     37\u001b[0m   \u001b[0;32mif\u001b[0m \u001b[0mignore_result\u001b[0m\u001b[0;34m:\u001b[0m\u001b[0;34m\u001b[0m\u001b[0;34m\u001b[0m\u001b[0m\n\u001b[1;32m     38\u001b[0m     \u001b[0;32mreturn\u001b[0m\u001b[0;34m\u001b[0m\u001b[0;34m\u001b[0m\u001b[0m\n\u001b[0;32m---> 39\u001b[0;31m   \u001b[0;32mreturn\u001b[0m \u001b[0m_message\u001b[0m\u001b[0;34m.\u001b[0m\u001b[0mread_reply_from_input\u001b[0m\u001b[0;34m(\u001b[0m\u001b[0mrequest_id\u001b[0m\u001b[0;34m)\u001b[0m\u001b[0;34m\u001b[0m\u001b[0;34m\u001b[0m\u001b[0m\n\u001b[0m\u001b[1;32m     40\u001b[0m \u001b[0;34m\u001b[0m\u001b[0m\n\u001b[1;32m     41\u001b[0m \u001b[0;34m\u001b[0m\u001b[0m\n",
            "\u001b[0;32m/usr/local/lib/python3.6/dist-packages/google/colab/_message.py\u001b[0m in \u001b[0;36mread_reply_from_input\u001b[0;34m(message_id, timeout_sec)\u001b[0m\n\u001b[1;32m     99\u001b[0m     \u001b[0mreply\u001b[0m \u001b[0;34m=\u001b[0m \u001b[0m_read_next_input_message\u001b[0m\u001b[0;34m(\u001b[0m\u001b[0;34m)\u001b[0m\u001b[0;34m\u001b[0m\u001b[0;34m\u001b[0m\u001b[0m\n\u001b[1;32m    100\u001b[0m     \u001b[0;32mif\u001b[0m \u001b[0mreply\u001b[0m \u001b[0;34m==\u001b[0m \u001b[0m_NOT_READY\u001b[0m \u001b[0;32mor\u001b[0m \u001b[0;32mnot\u001b[0m \u001b[0misinstance\u001b[0m\u001b[0;34m(\u001b[0m\u001b[0mreply\u001b[0m\u001b[0;34m,\u001b[0m \u001b[0mdict\u001b[0m\u001b[0;34m)\u001b[0m\u001b[0;34m:\u001b[0m\u001b[0;34m\u001b[0m\u001b[0;34m\u001b[0m\u001b[0m\n\u001b[0;32m--> 101\u001b[0;31m       \u001b[0mtime\u001b[0m\u001b[0;34m.\u001b[0m\u001b[0msleep\u001b[0m\u001b[0;34m(\u001b[0m\u001b[0;36m0.025\u001b[0m\u001b[0;34m)\u001b[0m\u001b[0;34m\u001b[0m\u001b[0;34m\u001b[0m\u001b[0m\n\u001b[0m\u001b[1;32m    102\u001b[0m       \u001b[0;32mcontinue\u001b[0m\u001b[0;34m\u001b[0m\u001b[0;34m\u001b[0m\u001b[0m\n\u001b[1;32m    103\u001b[0m     if (reply.get('type') == 'colab_reply' and\n",
            "\u001b[0;31mKeyboardInterrupt\u001b[0m: "
          ]
        }
      ]
    },
    {
      "cell_type": "code",
      "metadata": {
        "id": "2GYOgwT3sgzR",
        "colab_type": "code",
        "colab": {}
      },
      "source": [
        "exotrain = pd.read_csv()"
      ],
      "execution_count": 0,
      "outputs": []
    },
    {
      "cell_type": "code",
      "metadata": {
        "id": "D-UWhSJmvZtc",
        "colab_type": "code",
        "colab": {
          "base_uri": "https://localhost:8080/",
          "height": 50
        },
        "outputId": "18a12005-b6ed-4fd0-c53a-7d3e7a51f4a8"
      },
      "source": [
        "\n",
        "from lightkurve import search_targetpixelfile\n",
        "pixelfile = search_targetpixelfile(8462852, quarter=16).download(quality_bitmask='hardest');"
      ],
      "execution_count": 5,
      "outputs": [
        {
          "output_type": "stream",
          "text": [
            "Warning: 8462852 may refer to a different Kepler or TESS target. Please add the prefix 'KIC' or 'TIC' to disambiguate.\n",
            "Warning: 25% (1042/4203) of the cadences will be ignored due to the quality mask (quality_bitmask=2096639).\n"
          ],
          "name": "stderr"
        }
      ]
    },
    {
      "cell_type": "code",
      "metadata": {
        "id": "vGulctK6vrKl",
        "colab_type": "code",
        "colab": {
          "base_uri": "https://localhost:8080/",
          "height": 33
        },
        "outputId": "2e05dc53-1442-45db-9f9e-2b105992a639"
      },
      "source": [
        "pixelfile.shape"
      ],
      "execution_count": 6,
      "outputs": [
        {
          "output_type": "execute_result",
          "data": {
            "text/plain": [
              "(3161, 11, 11)"
            ]
          },
          "metadata": {
            "tags": []
          },
          "execution_count": 6
        }
      ]
    },
    {
      "cell_type": "code",
      "metadata": {
        "id": "80AQko5XzuKQ",
        "colab_type": "code",
        "colab": {}
      },
      "source": [
        "\"https://archive.stsci.edu/missions/tess/tid/s0001/0000/0000/2515/5310/tess2018206045859-s0001-0000000025155310-0120-s_lc.fits\""
      ],
      "execution_count": 0,
      "outputs": []
    },
    {
      "cell_type": "code",
      "metadata": {
        "id": "cxgSrLm65006",
        "colab_type": "code",
        "colab": {
          "base_uri": "https://localhost:8080/",
          "height": 86
        },
        "outputId": "1faf15e9-42c2-4615-b9b3-b498dc1f57e4"
      },
      "source": [
        "pixelfile = search_targetpixelfile(139250626).download(quality_bitmask='hardest');"
      ],
      "execution_count": 29,
      "outputs": [
        {
          "output_type": "stream",
          "text": [
            "Warning: 139250626 may refer to a different K2 or TESS target. Please add the prefix 'EPIC' or 'TIC' to disambiguate.\n",
            "/usr/local/lib/python3.6/dist-packages/lightkurve/search.py:185: LightkurveWarning: Warning: 2 files available to download. Only the first file has been downloaded. Please use `download_all()` or specify additional criteria (e.g. quarter, campaign, or sector) to limit your search.\n",
            "  LightkurveWarning)\n"
          ],
          "name": "stderr"
        }
      ]
    },
    {
      "cell_type": "code",
      "metadata": {
        "id": "GHksvZKhn7cE",
        "colab_type": "code",
        "colab": {
          "base_uri": "https://localhost:8080/",
          "height": 161
        },
        "outputId": "43b739f1-1c88-4853-c8b8-3bdc352d3390"
      },
      "source": [
        "pixelfile.shape"
      ],
      "execution_count": 16,
      "outputs": [
        {
          "output_type": "error",
          "ename": "AttributeError",
          "evalue": "ignored",
          "traceback": [
            "\u001b[0;31m---------------------------------------------------------------------------\u001b[0m",
            "\u001b[0;31mAttributeError\u001b[0m                            Traceback (most recent call last)",
            "\u001b[0;32m<ipython-input-16-720021dd8b2f>\u001b[0m in \u001b[0;36m<module>\u001b[0;34m()\u001b[0m\n\u001b[0;32m----> 1\u001b[0;31m \u001b[0mpixelfile\u001b[0m\u001b[0;34m.\u001b[0m\u001b[0mshape\u001b[0m\u001b[0;34m\u001b[0m\u001b[0;34m\u001b[0m\u001b[0m\n\u001b[0m",
            "\u001b[0;31mAttributeError\u001b[0m: 'NoneType' object has no attribute 'shape'"
          ]
        }
      ]
    },
    {
      "cell_type": "code",
      "metadata": {
        "id": "zGySOsiT1MRk",
        "colab_type": "code",
        "colab": {
          "resources": {
            "http://localhost:8080/nbextensions/google.colab/files.js": {
              "data": "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",
              "ok": true,
              "headers": [
                [
                  "content-type",
                  "application/javascript"
                ]
              ],
              "status": 200,
              "status_text": ""
            }
          },
          "base_uri": "https://localhost:8080/",
          "height": 73
        },
        "outputId": "e57c7e91-a0cb-4954-8049-40c432775dfc"
      },
      "source": [
        "from google.colab import files\n",
        "uploaded = files.upload()"
      ],
      "execution_count": 22,
      "outputs": [
        {
          "output_type": "display_data",
          "data": {
            "text/html": [
              "\n",
              "     <input type=\"file\" id=\"files-f92a8550-48fc-4477-b2fc-c9e93fea2740\" name=\"files[]\" multiple disabled />\n",
              "     <output id=\"result-f92a8550-48fc-4477-b2fc-c9e93fea2740\">\n",
              "      Upload widget is only available when the cell has been executed in the\n",
              "      current browser session. Please rerun this cell to enable.\n",
              "      </output>\n",
              "      <script src=\"/nbextensions/google.colab/files.js\"></script> "
            ],
            "text/plain": [
              "<IPython.core.display.HTML object>"
            ]
          },
          "metadata": {
            "tags": []
          }
        },
        {
          "output_type": "stream",
          "text": [
            "Saving tess2018206190142-s0001-s0002_dvr-tcestats.csv to tess2018206190142-s0001-s0002_dvr-tcestats.csv\n"
          ],
          "name": "stdout"
        }
      ]
    },
    {
      "cell_type": "code",
      "metadata": {
        "id": "lKr2cOWA1oZn",
        "colab_type": "code",
        "colab": {}
      },
      "source": [
        "import pandas as pd"
      ],
      "execution_count": 0,
      "outputs": []
    },
    {
      "cell_type": "code",
      "metadata": {
        "id": "OLnHPBQE1ill",
        "colab_type": "code",
        "colab": {}
      },
      "source": [
        "tess_id = pd.read_csv(\"tess2018206190142-s0001-s0002_dvr-tcestats.csv\", header=6)"
      ],
      "execution_count": 0,
      "outputs": []
    },
    {
      "cell_type": "code",
      "metadata": {
        "id": "_mMcV5Se1m6z",
        "colab_type": "code",
        "colab": {
          "base_uri": "https://localhost:8080/",
          "height": 301
        },
        "outputId": "67f61305-2dee-4a18-cd18-e0d24f0ba55f"
      },
      "source": [
        "tess_id.head()"
      ],
      "execution_count": 27,
      "outputs": [
        {
          "output_type": "execute_result",
          "data": {
            "text/html": [
              "<div>\n",
              "<style scoped>\n",
              "    .dataframe tbody tr th:only-of-type {\n",
              "        vertical-align: middle;\n",
              "    }\n",
              "\n",
              "    .dataframe tbody tr th {\n",
              "        vertical-align: top;\n",
              "    }\n",
              "\n",
              "    .dataframe thead th {\n",
              "        text-align: right;\n",
              "    }\n",
              "</style>\n",
              "<table border=\"1\" class=\"dataframe\">\n",
              "  <thead>\n",
              "    <tr style=\"text-align: right;\">\n",
              "      <th></th>\n",
              "      <th>tceid</th>\n",
              "      <th>ticid</th>\n",
              "      <th>planetNumber</th>\n",
              "      <th>planetCandidateCount</th>\n",
              "      <th>starTeffKelvin</th>\n",
              "      <th>starLoggCgs</th>\n",
              "      <th>orbitalPeriodDays</th>\n",
              "      <th>orbitalPeriodDays_err</th>\n",
              "      <th>planetRadiusEarthRadii</th>\n",
              "      <th>planetRadiusEarthRadii_err</th>\n",
              "      <th>ratioPlanetRadiusToStarRadius</th>\n",
              "      <th>ratioSemiMajorAxisToStarRadius</th>\n",
              "      <th>semiMajorAxisAu</th>\n",
              "      <th>starRadiusSolarRadii</th>\n",
              "      <th>transitDepthPpm</th>\n",
              "      <th>transitDepthPpm_err</th>\n",
              "      <th>transitDurationHours</th>\n",
              "      <th>transitEpochBtjd</th>\n",
              "      <th>transitEpochBtjd_err</th>\n",
              "      <th>transitIngressTimeHours</th>\n",
              "      <th>minImpactParameter</th>\n",
              "      <th>ws_mes</th>\n",
              "      <th>ws_mesphase</th>\n",
              "      <th>expectedtransitcount</th>\n",
              "      <th>chiSquare2</th>\n",
              "      <th>mes</th>\n",
              "      <th>maxses</th>\n",
              "      <th>equilibriumTempKelvin</th>\n",
              "      <th>InsolationFlux</th>\n",
              "    </tr>\n",
              "  </thead>\n",
              "  <tbody>\n",
              "    <tr>\n",
              "      <th>0</th>\n",
              "      <td>00139250626-01</td>\n",
              "      <td>139250626</td>\n",
              "      <td>1</td>\n",
              "      <td>1</td>\n",
              "      <td>3752.00</td>\n",
              "      <td>4.43800</td>\n",
              "      <td>31.331800</td>\n",
              "      <td>0.002674</td>\n",
              "      <td>3.13843</td>\n",
              "      <td>1.124100</td>\n",
              "      <td>0.028748</td>\n",
              "      <td>65.72550</td>\n",
              "      <td>0.194601</td>\n",
              "      <td>1.000000</td>\n",
              "      <td>988.228</td>\n",
              "      <td>119.2040</td>\n",
              "      <td>3.74660</td>\n",
              "      <td>1347.45</td>\n",
              "      <td>0.001899</td>\n",
              "      <td>0.104707</td>\n",
              "      <td>0.003412</td>\n",
              "      <td>6.18694</td>\n",
              "      <td>1.79583</td>\n",
              "      <td>2</td>\n",
              "      <td>4.27020</td>\n",
              "      <td>8.60686</td>\n",
              "      <td>7.67340</td>\n",
              "      <td>375.303</td>\n",
              "      <td>4.68867</td>\n",
              "    </tr>\n",
              "    <tr>\n",
              "      <th>1</th>\n",
              "      <td>00139281803-01</td>\n",
              "      <td>139281803</td>\n",
              "      <td>1</td>\n",
              "      <td>1</td>\n",
              "      <td>5818.00</td>\n",
              "      <td>4.42453</td>\n",
              "      <td>30.004600</td>\n",
              "      <td>0.011727</td>\n",
              "      <td>4.57590</td>\n",
              "      <td>0.649222</td>\n",
              "      <td>0.040315</td>\n",
              "      <td>18.95560</td>\n",
              "      <td>0.192042</td>\n",
              "      <td>1.039700</td>\n",
              "      <td>1252.430</td>\n",
              "      <td>172.6290</td>\n",
              "      <td>4.97579</td>\n",
              "      <td>1348.62</td>\n",
              "      <td>0.010050</td>\n",
              "      <td>1.960100</td>\n",
              "      <td>0.955717</td>\n",
              "      <td>3.95842</td>\n",
              "      <td>-6.50833</td>\n",
              "      <td>2</td>\n",
              "      <td>1.64843</td>\n",
              "      <td>8.61389</td>\n",
              "      <td>7.42655</td>\n",
              "      <td>597.340</td>\n",
              "      <td>30.08910</td>\n",
              "    </tr>\n",
              "    <tr>\n",
              "      <th>2</th>\n",
              "      <td>00139285666-01</td>\n",
              "      <td>139285666</td>\n",
              "      <td>1</td>\n",
              "      <td>2</td>\n",
              "      <td>5561.91</td>\n",
              "      <td>4.43800</td>\n",
              "      <td>0.698056</td>\n",
              "      <td>0.000030</td>\n",
              "      <td>1.30396</td>\n",
              "      <td>0.319271</td>\n",
              "      <td>0.013904</td>\n",
              "      <td>1.78311</td>\n",
              "      <td>0.013924</td>\n",
              "      <td>0.859049</td>\n",
              "      <td>200.875</td>\n",
              "      <td>28.3924</td>\n",
              "      <td>2.47283</td>\n",
              "      <td>1325.47</td>\n",
              "      <td>0.001075</td>\n",
              "      <td>0.070341</td>\n",
              "      <td>0.699984</td>\n",
              "      <td>10.50500</td>\n",
              "      <td>0.35000</td>\n",
              "      <td>81</td>\n",
              "      <td>85.90260</td>\n",
              "      <td>7.67025</td>\n",
              "      <td>4.59272</td>\n",
              "      <td>1927.720</td>\n",
              "      <td>3263.61000</td>\n",
              "    </tr>\n",
              "    <tr>\n",
              "      <th>3</th>\n",
              "      <td>00139285666-02</td>\n",
              "      <td>139285666</td>\n",
              "      <td>2</td>\n",
              "      <td>2</td>\n",
              "      <td>5561.91</td>\n",
              "      <td>4.43800</td>\n",
              "      <td>0.697913</td>\n",
              "      <td>0.000028</td>\n",
              "      <td>1.27712</td>\n",
              "      <td>0.614572</td>\n",
              "      <td>0.013618</td>\n",
              "      <td>2.18318</td>\n",
              "      <td>0.013922</td>\n",
              "      <td>0.859049</td>\n",
              "      <td>213.246</td>\n",
              "      <td>26.1335</td>\n",
              "      <td>2.42640</td>\n",
              "      <td>1325.83</td>\n",
              "      <td>0.000986</td>\n",
              "      <td>0.040160</td>\n",
              "      <td>0.363446</td>\n",
              "      <td>2.82927</td>\n",
              "      <td>0.49633</td>\n",
              "      <td>80</td>\n",
              "      <td>60.81050</td>\n",
              "      <td>8.90267</td>\n",
              "      <td>3.59044</td>\n",
              "      <td>1927.850</td>\n",
              "      <td>3264.51000</td>\n",
              "    </tr>\n",
              "    <tr>\n",
              "      <th>4</th>\n",
              "      <td>00139285669-01</td>\n",
              "      <td>139285669</td>\n",
              "      <td>1</td>\n",
              "      <td>1</td>\n",
              "      <td>3260.00</td>\n",
              "      <td>4.43800</td>\n",
              "      <td>0.697970</td>\n",
              "      <td>0.000120</td>\n",
              "      <td>22.16320</td>\n",
              "      <td>17.902200</td>\n",
              "      <td>0.203016</td>\n",
              "      <td>1.28088</td>\n",
              "      <td>0.015407</td>\n",
              "      <td>1.000000</td>\n",
              "      <td>19604.200</td>\n",
              "      <td>1637.0100</td>\n",
              "      <td>5.42777</td>\n",
              "      <td>1325.47</td>\n",
              "      <td>0.004998</td>\n",
              "      <td>2.713880</td>\n",
              "      <td>0.969172</td>\n",
              "      <td>11.91440</td>\n",
              "      <td>0.34444</td>\n",
              "      <td>81</td>\n",
              "      <td>59.90600</td>\n",
              "      <td>10.46970</td>\n",
              "      <td>3.74261</td>\n",
              "      <td>1158.920</td>\n",
              "      <td>426.31700</td>\n",
              "    </tr>\n",
              "  </tbody>\n",
              "</table>\n",
              "</div>"
            ],
            "text/plain": [
              "            tceid      ticid  ...  equilibriumTempKelvin  InsolationFlux\n",
              "0  00139250626-01  139250626  ...                375.303         4.68867\n",
              "1  00139281803-01  139281803  ...                597.340        30.08910\n",
              "2  00139285666-01  139285666  ...               1927.720      3263.61000\n",
              "3  00139285666-02  139285666  ...               1927.850      3264.51000\n",
              "4  00139285669-01  139285669  ...               1158.920       426.31700\n",
              "\n",
              "[5 rows x 29 columns]"
            ]
          },
          "metadata": {
            "tags": []
          },
          "execution_count": 27
        }
      ]
    },
    {
      "cell_type": "code",
      "metadata": {
        "id": "gpQrEKD92Mkr",
        "colab_type": "code",
        "colab": {
          "base_uri": "https://localhost:8080/",
          "height": 33
        },
        "outputId": "0e722c41-b1d7-4f5d-fe3e-45189a13b2a9"
      },
      "source": [
        "tess_id.shape"
      ],
      "execution_count": 30,
      "outputs": [
        {
          "output_type": "execute_result",
          "data": {
            "text/plain": [
              "(1019, 29)"
            ]
          },
          "metadata": {
            "tags": []
          },
          "execution_count": 30
        }
      ]
    },
    {
      "cell_type": "code",
      "metadata": {
        "id": "8-fUa4tB3Z7t",
        "colab_type": "code",
        "colab": {}
      },
      "source": [
        "for x in range(1, 13):\n",
        "     locals()['double_{0}'.format(x)] = x * 2"
      ],
      "execution_count": 0,
      "outputs": []
    },
    {
      "cell_type": "code",
      "metadata": {
        "id": "sK_Qbzn02ybE",
        "colab_type": "code",
        "colab": {
          "base_uri": "https://localhost:8080/",
          "height": 1000
        },
        "outputId": "6f44142b-93a0-4f39-d4da-43bd46164a78"
      },
      "source": [
        "df_list = []\n",
        "for i in tess_id['ticid'].head(100):\n",
        "  locals()['lc_{0}'.format(i)] = search_targetpixelfile(i).download(quality_bitmask='hardest')\n",
        "  t = pd.DataFrame(locals()['lc_{0}'.format(i)].time, columns=['time'])\n",
        "  f = pd.DataFrame(locals()['lc_{0}'.format(i)].to_lightcurve(aperture_mask=locals()['lc_{0}'.format(i)].pipeline_mask).flux, columns=['flux'])\n",
        "  locals()['lc_{0}'.format(i)] = t.merge(f, how='outer', left_index=True, right_index=True)\n",
        "  df_list.append(locals()['lc_{0}'.format(i)])\n",
        "  \n",
        "  "
      ],
      "execution_count": 39,
      "outputs": [
        {
          "output_type": "stream",
          "text": [
            "Warning: 139250626 may refer to a different K2 or TESS target. Please add the prefix 'EPIC' or 'TIC' to disambiguate.\n",
            "/usr/local/lib/python3.6/dist-packages/lightkurve/search.py:185: LightkurveWarning: Warning: 2 files available to download. Only the first file has been downloaded. Please use `download_all()` or specify additional criteria (e.g. quarter, campaign, or sector) to limit your search.\n",
            "  LightkurveWarning)\n",
            "Warning: 139281803 may refer to a different K2 or TESS target. Please add the prefix 'EPIC' or 'TIC' to disambiguate.\n",
            "/usr/local/lib/python3.6/dist-packages/lightkurve/search.py:185: LightkurveWarning: Warning: 2 files available to download. Only the first file has been downloaded. Please use `download_all()` or specify additional criteria (e.g. quarter, campaign, or sector) to limit your search.\n",
            "  LightkurveWarning)\n",
            "Warning: 139285666 may refer to a different K2 or TESS target. Please add the prefix 'EPIC' or 'TIC' to disambiguate.\n",
            "/usr/local/lib/python3.6/dist-packages/lightkurve/search.py:185: LightkurveWarning: Warning: 2 files available to download. Only the first file has been downloaded. Please use `download_all()` or specify additional criteria (e.g. quarter, campaign, or sector) to limit your search.\n",
            "  LightkurveWarning)\n",
            "Warning: 139285666 may refer to a different K2 or TESS target. Please add the prefix 'EPIC' or 'TIC' to disambiguate.\n",
            "/usr/local/lib/python3.6/dist-packages/lightkurve/search.py:185: LightkurveWarning: Warning: 2 files available to download. Only the first file has been downloaded. Please use `download_all()` or specify additional criteria (e.g. quarter, campaign, or sector) to limit your search.\n",
            "  LightkurveWarning)\n",
            "Warning: 139285669 may refer to a different K2 or TESS target. Please add the prefix 'EPIC' or 'TIC' to disambiguate.\n",
            "/usr/local/lib/python3.6/dist-packages/lightkurve/search.py:185: LightkurveWarning: Warning: 2 files available to download. Only the first file has been downloaded. Please use `download_all()` or specify additional criteria (e.g. quarter, campaign, or sector) to limit your search.\n",
            "  LightkurveWarning)\n",
            "Warning: 139300891 may refer to a different K2 or TESS target. Please add the prefix 'EPIC' or 'TIC' to disambiguate.\n",
            "/usr/local/lib/python3.6/dist-packages/lightkurve/search.py:185: LightkurveWarning: Warning: 2 files available to download. Only the first file has been downloaded. Please use `download_all()` or specify additional criteria (e.g. quarter, campaign, or sector) to limit your search.\n",
            "  LightkurveWarning)\n",
            "Warning: 139300891 may refer to a different K2 or TESS target. Please add the prefix 'EPIC' or 'TIC' to disambiguate.\n",
            "/usr/local/lib/python3.6/dist-packages/lightkurve/search.py:185: LightkurveWarning: Warning: 2 files available to download. Only the first file has been downloaded. Please use `download_all()` or specify additional criteria (e.g. quarter, campaign, or sector) to limit your search.\n",
            "  LightkurveWarning)\n",
            "Warning: 139370701 may refer to a different K2 or TESS target. Please add the prefix 'EPIC' or 'TIC' to disambiguate.\n",
            "/usr/local/lib/python3.6/dist-packages/lightkurve/search.py:185: LightkurveWarning: Warning: 13 files available to download. Only the first file has been downloaded. Please use `download_all()` or specify additional criteria (e.g. quarter, campaign, or sector) to limit your search.\n",
            "  LightkurveWarning)\n",
            "Warning: 140609384 may refer to a different K2 or TESS target. Please add the prefix 'EPIC' or 'TIC' to disambiguate.\n",
            "/usr/local/lib/python3.6/dist-packages/lightkurve/search.py:185: LightkurveWarning: Warning: 12 files available to download. Only the first file has been downloaded. Please use `download_all()` or specify additional criteria (e.g. quarter, campaign, or sector) to limit your search.\n",
            "  LightkurveWarning)\n",
            "Warning: 140659980 may refer to a different K2 or TESS target. Please add the prefix 'EPIC' or 'TIC' to disambiguate.\n",
            "/usr/local/lib/python3.6/dist-packages/lightkurve/search.py:185: LightkurveWarning: Warning: 12 files available to download. Only the first file has been downloaded. Please use `download_all()` or specify additional criteria (e.g. quarter, campaign, or sector) to limit your search.\n",
            "  LightkurveWarning)\n",
            "Warning: 140659980 may refer to a different K2 or TESS target. Please add the prefix 'EPIC' or 'TIC' to disambiguate.\n",
            "/usr/local/lib/python3.6/dist-packages/lightkurve/search.py:185: LightkurveWarning: Warning: 12 files available to download. Only the first file has been downloaded. Please use `download_all()` or specify additional criteria (e.g. quarter, campaign, or sector) to limit your search.\n",
            "  LightkurveWarning)\n",
            "Warning: 140859822 may refer to a different K2 or TESS target. Please add the prefix 'EPIC' or 'TIC' to disambiguate.\n",
            "/usr/local/lib/python3.6/dist-packages/lightkurve/search.py:185: LightkurveWarning: Warning: 13 files available to download. Only the first file has been downloaded. Please use `download_all()` or specify additional criteria (e.g. quarter, campaign, or sector) to limit your search.\n",
            "  LightkurveWarning)\n",
            "Warning: 140940493 may refer to a different K2 or TESS target. Please add the prefix 'EPIC' or 'TIC' to disambiguate.\n",
            "/usr/local/lib/python3.6/dist-packages/lightkurve/search.py:185: LightkurveWarning: Warning: 12 files available to download. Only the first file has been downloaded. Please use `download_all()` or specify additional criteria (e.g. quarter, campaign, or sector) to limit your search.\n",
            "  LightkurveWarning)\n",
            "Warning: 140940493 may refer to a different K2 or TESS target. Please add the prefix 'EPIC' or 'TIC' to disambiguate.\n",
            "/usr/local/lib/python3.6/dist-packages/lightkurve/search.py:185: LightkurveWarning: Warning: 12 files available to download. Only the first file has been downloaded. Please use `download_all()` or specify additional criteria (e.g. quarter, campaign, or sector) to limit your search.\n",
            "  LightkurveWarning)\n",
            "Warning: 141028198 may refer to a different K2 or TESS target. Please add the prefix 'EPIC' or 'TIC' to disambiguate.\n",
            "/usr/local/lib/python3.6/dist-packages/lightkurve/search.py:185: LightkurveWarning: Warning: 12 files available to download. Only the first file has been downloaded. Please use `download_all()` or specify additional criteria (e.g. quarter, campaign, or sector) to limit your search.\n",
            "  LightkurveWarning)\n",
            "Warning: 141028198 may refer to a different K2 or TESS target. Please add the prefix 'EPIC' or 'TIC' to disambiguate.\n",
            "/usr/local/lib/python3.6/dist-packages/lightkurve/search.py:185: LightkurveWarning: Warning: 12 files available to download. Only the first file has been downloaded. Please use `download_all()` or specify additional criteria (e.g. quarter, campaign, or sector) to limit your search.\n",
            "  LightkurveWarning)\n",
            "Warning: 141028198 may refer to a different K2 or TESS target. Please add the prefix 'EPIC' or 'TIC' to disambiguate.\n",
            "/usr/local/lib/python3.6/dist-packages/lightkurve/search.py:185: LightkurveWarning: Warning: 12 files available to download. Only the first file has been downloaded. Please use `download_all()` or specify additional criteria (e.g. quarter, campaign, or sector) to limit your search.\n",
            "  LightkurveWarning)\n",
            "Warning: 141096071 may refer to a different K2 or TESS target. Please add the prefix 'EPIC' or 'TIC' to disambiguate.\n",
            "/usr/local/lib/python3.6/dist-packages/lightkurve/search.py:185: LightkurveWarning: Warning: 12 files available to download. Only the first file has been downloaded. Please use `download_all()` or specify additional criteria (e.g. quarter, campaign, or sector) to limit your search.\n",
            "  LightkurveWarning)\n",
            "Warning: 141096071 may refer to a different K2 or TESS target. Please add the prefix 'EPIC' or 'TIC' to disambiguate.\n",
            "/usr/local/lib/python3.6/dist-packages/lightkurve/search.py:185: LightkurveWarning: Warning: 12 files available to download. Only the first file has been downloaded. Please use `download_all()` or specify additional criteria (e.g. quarter, campaign, or sector) to limit your search.\n",
            "  LightkurveWarning)\n",
            "Warning: 141124144 may refer to a different K2 or TESS target. Please add the prefix 'EPIC' or 'TIC' to disambiguate.\n",
            "/usr/local/lib/python3.6/dist-packages/lightkurve/search.py:185: LightkurveWarning: Warning: 13 files available to download. Only the first file has been downloaded. Please use `download_all()` or specify additional criteria (e.g. quarter, campaign, or sector) to limit your search.\n",
            "  LightkurveWarning)\n",
            "Warning: 141152931 may refer to a different K2 or TESS target. Please add the prefix 'EPIC' or 'TIC' to disambiguate.\n",
            "/usr/local/lib/python3.6/dist-packages/lightkurve/search.py:185: LightkurveWarning: Warning: 13 files available to download. Only the first file has been downloaded. Please use `download_all()` or specify additional criteria (e.g. quarter, campaign, or sector) to limit your search.\n",
            "  LightkurveWarning)\n",
            "Warning: 141212720 may refer to a different K2 or TESS target. Please add the prefix 'EPIC' or 'TIC' to disambiguate.\n",
            "/usr/local/lib/python3.6/dist-packages/lightkurve/search.py:185: LightkurveWarning: Warning: 12 files available to download. Only the first file has been downloaded. Please use `download_all()` or specify additional criteria (e.g. quarter, campaign, or sector) to limit your search.\n",
            "  LightkurveWarning)\n",
            "Warning: 141212720 may refer to a different K2 or TESS target. Please add the prefix 'EPIC' or 'TIC' to disambiguate.\n",
            "/usr/local/lib/python3.6/dist-packages/lightkurve/search.py:185: LightkurveWarning: Warning: 12 files available to download. Only the first file has been downloaded. Please use `download_all()` or specify additional criteria (e.g. quarter, campaign, or sector) to limit your search.\n",
            "  LightkurveWarning)\n",
            "Warning: 141268467 may refer to a different K2 or TESS target. Please add the prefix 'EPIC' or 'TIC' to disambiguate.\n",
            "/usr/local/lib/python3.6/dist-packages/lightkurve/search.py:185: LightkurveWarning: Warning: 11 files available to download. Only the first file has been downloaded. Please use `download_all()` or specify additional criteria (e.g. quarter, campaign, or sector) to limit your search.\n",
            "  LightkurveWarning)\n",
            "Warning: 141268467 may refer to a different K2 or TESS target. Please add the prefix 'EPIC' or 'TIC' to disambiguate.\n",
            "/usr/local/lib/python3.6/dist-packages/lightkurve/search.py:185: LightkurveWarning: Warning: 11 files available to download. Only the first file has been downloaded. Please use `download_all()` or specify additional criteria (e.g. quarter, campaign, or sector) to limit your search.\n",
            "  LightkurveWarning)\n",
            "Warning: 141334293 may refer to a different K2 or TESS target. Please add the prefix 'EPIC' or 'TIC' to disambiguate.\n",
            "/usr/local/lib/python3.6/dist-packages/lightkurve/search.py:185: LightkurveWarning: Warning: 11 files available to download. Only the first file has been downloaded. Please use `download_all()` or specify additional criteria (e.g. quarter, campaign, or sector) to limit your search.\n",
            "  LightkurveWarning)\n",
            "Warning: 141334293 may refer to a different K2 or TESS target. Please add the prefix 'EPIC' or 'TIC' to disambiguate.\n",
            "/usr/local/lib/python3.6/dist-packages/lightkurve/search.py:185: LightkurveWarning: Warning: 11 files available to download. Only the first file has been downloaded. Please use `download_all()` or specify additional criteria (e.g. quarter, campaign, or sector) to limit your search.\n",
            "  LightkurveWarning)\n",
            "Warning: 141335886 may refer to a different K2 or TESS target. Please add the prefix 'EPIC' or 'TIC' to disambiguate.\n",
            "/usr/local/lib/python3.6/dist-packages/lightkurve/search.py:185: LightkurveWarning: Warning: 12 files available to download. Only the first file has been downloaded. Please use `download_all()` or specify additional criteria (e.g. quarter, campaign, or sector) to limit your search.\n",
            "  LightkurveWarning)\n",
            "Warning: 141335886 may refer to a different K2 or TESS target. Please add the prefix 'EPIC' or 'TIC' to disambiguate.\n",
            "/usr/local/lib/python3.6/dist-packages/lightkurve/search.py:185: LightkurveWarning: Warning: 12 files available to download. Only the first file has been downloaded. Please use `download_all()` or specify additional criteria (e.g. quarter, campaign, or sector) to limit your search.\n",
            "  LightkurveWarning)\n",
            "Warning: 141335886 may refer to a different K2 or TESS target. Please add the prefix 'EPIC' or 'TIC' to disambiguate.\n",
            "/usr/local/lib/python3.6/dist-packages/lightkurve/search.py:185: LightkurveWarning: Warning: 12 files available to download. Only the first file has been downloaded. Please use `download_all()` or specify additional criteria (e.g. quarter, campaign, or sector) to limit your search.\n",
            "  LightkurveWarning)\n",
            "Warning: 141335886 may refer to a different K2 or TESS target. Please add the prefix 'EPIC' or 'TIC' to disambiguate.\n",
            "/usr/local/lib/python3.6/dist-packages/lightkurve/search.py:185: LightkurveWarning: Warning: 12 files available to download. Only the first file has been downloaded. Please use `download_all()` or specify additional criteria (e.g. quarter, campaign, or sector) to limit your search.\n",
            "  LightkurveWarning)\n",
            "Warning: 141335886 may refer to a different K2 or TESS target. Please add the prefix 'EPIC' or 'TIC' to disambiguate.\n",
            "/usr/local/lib/python3.6/dist-packages/lightkurve/search.py:185: LightkurveWarning: Warning: 12 files available to download. Only the first file has been downloaded. Please use `download_all()` or specify additional criteria (e.g. quarter, campaign, or sector) to limit your search.\n",
            "  LightkurveWarning)\n",
            "Warning: 141335886 may refer to a different K2 or TESS target. Please add the prefix 'EPIC' or 'TIC' to disambiguate.\n",
            "/usr/local/lib/python3.6/dist-packages/lightkurve/search.py:185: LightkurveWarning: Warning: 12 files available to download. Only the first file has been downloaded. Please use `download_all()` or specify additional criteria (e.g. quarter, campaign, or sector) to limit your search.\n",
            "  LightkurveWarning)\n",
            "Warning: 141413932 may refer to a different K2 or TESS target. Please add the prefix 'EPIC' or 'TIC' to disambiguate.\n",
            "/usr/local/lib/python3.6/dist-packages/lightkurve/search.py:185: LightkurveWarning: Warning: 13 files available to download. Only the first file has been downloaded. Please use `download_all()` or specify additional criteria (e.g. quarter, campaign, or sector) to limit your search.\n",
            "  LightkurveWarning)\n",
            "Warning: 141435705 may refer to a different K2 or TESS target. Please add the prefix 'EPIC' or 'TIC' to disambiguate.\n",
            "/usr/local/lib/python3.6/dist-packages/lightkurve/search.py:185: LightkurveWarning: Warning: 12 files available to download. Only the first file has been downloaded. Please use `download_all()` or specify additional criteria (e.g. quarter, campaign, or sector) to limit your search.\n",
            "  LightkurveWarning)\n",
            "Warning: 141435705 may refer to a different K2 or TESS target. Please add the prefix 'EPIC' or 'TIC' to disambiguate.\n",
            "/usr/local/lib/python3.6/dist-packages/lightkurve/search.py:185: LightkurveWarning: Warning: 12 files available to download. Only the first file has been downloaded. Please use `download_all()` or specify additional criteria (e.g. quarter, campaign, or sector) to limit your search.\n",
            "  LightkurveWarning)\n",
            "Warning: 141484981 may refer to a different K2 or TESS target. Please add the prefix 'EPIC' or 'TIC' to disambiguate.\n",
            "/usr/local/lib/python3.6/dist-packages/lightkurve/search.py:185: LightkurveWarning: Warning: 13 files available to download. Only the first file has been downloaded. Please use `download_all()` or specify additional criteria (e.g. quarter, campaign, or sector) to limit your search.\n",
            "  LightkurveWarning)\n",
            "Warning: 141484981 may refer to a different K2 or TESS target. Please add the prefix 'EPIC' or 'TIC' to disambiguate.\n",
            "/usr/local/lib/python3.6/dist-packages/lightkurve/search.py:185: LightkurveWarning: Warning: 13 files available to download. Only the first file has been downloaded. Please use `download_all()` or specify additional criteria (e.g. quarter, campaign, or sector) to limit your search.\n",
            "  LightkurveWarning)\n",
            "Warning: 141526439 may refer to a different K2 or TESS target. Please add the prefix 'EPIC' or 'TIC' to disambiguate.\n",
            "/usr/local/lib/python3.6/dist-packages/lightkurve/search.py:185: LightkurveWarning: Warning: 12 files available to download. Only the first file has been downloaded. Please use `download_all()` or specify additional criteria (e.g. quarter, campaign, or sector) to limit your search.\n",
            "  LightkurveWarning)\n",
            "Warning: 141527579 may refer to a different K2 or TESS target. Please add the prefix 'EPIC' or 'TIC' to disambiguate.\n",
            "/usr/local/lib/python3.6/dist-packages/lightkurve/search.py:185: LightkurveWarning: Warning: 12 files available to download. Only the first file has been downloaded. Please use `download_all()` or specify additional criteria (e.g. quarter, campaign, or sector) to limit your search.\n",
            "  LightkurveWarning)\n",
            "Warning: 141606958 may refer to a different K2 or TESS target. Please add the prefix 'EPIC' or 'TIC' to disambiguate.\n",
            "/usr/local/lib/python3.6/dist-packages/lightkurve/search.py:185: LightkurveWarning: Warning: 12 files available to download. Only the first file has been downloaded. Please use `download_all()` or specify additional criteria (e.g. quarter, campaign, or sector) to limit your search.\n",
            "  LightkurveWarning)\n",
            "Warning: 141606958 may refer to a different K2 or TESS target. Please add the prefix 'EPIC' or 'TIC' to disambiguate.\n",
            "/usr/local/lib/python3.6/dist-packages/lightkurve/search.py:185: LightkurveWarning: Warning: 12 files available to download. Only the first file has been downloaded. Please use `download_all()` or specify additional criteria (e.g. quarter, campaign, or sector) to limit your search.\n",
            "  LightkurveWarning)\n",
            "Warning: 141607553 may refer to a different K2 or TESS target. Please add the prefix 'EPIC' or 'TIC' to disambiguate.\n",
            "/usr/local/lib/python3.6/dist-packages/lightkurve/search.py:185: LightkurveWarning: Warning: 12 files available to download. Only the first file has been downloaded. Please use `download_all()` or specify additional criteria (e.g. quarter, campaign, or sector) to limit your search.\n",
            "  LightkurveWarning)\n",
            "Warning: 141608198 may refer to a different K2 or TESS target. Please add the prefix 'EPIC' or 'TIC' to disambiguate.\n",
            "/usr/local/lib/python3.6/dist-packages/lightkurve/search.py:185: LightkurveWarning: Warning: 12 files available to download. Only the first file has been downloaded. Please use `download_all()` or specify additional criteria (e.g. quarter, campaign, or sector) to limit your search.\n",
            "  LightkurveWarning)\n",
            "Warning: 141622065 may refer to a different K2 or TESS target. Please add the prefix 'EPIC' or 'TIC' to disambiguate.\n",
            "/usr/local/lib/python3.6/dist-packages/lightkurve/search.py:185: LightkurveWarning: Warning: 12 files available to download. Only the first file has been downloaded. Please use `download_all()` or specify additional criteria (e.g. quarter, campaign, or sector) to limit your search.\n",
            "  LightkurveWarning)\n",
            "Warning: 141624979 may refer to a different K2 or TESS target. Please add the prefix 'EPIC' or 'TIC' to disambiguate.\n",
            "/usr/local/lib/python3.6/dist-packages/lightkurve/search.py:185: LightkurveWarning: Warning: 12 files available to download. Only the first file has been downloaded. Please use `download_all()` or specify additional criteria (e.g. quarter, campaign, or sector) to limit your search.\n",
            "  LightkurveWarning)\n",
            "Warning: 141708335 may refer to a different K2 or TESS target. Please add the prefix 'EPIC' or 'TIC' to disambiguate.\n",
            "/usr/local/lib/python3.6/dist-packages/lightkurve/search.py:185: LightkurveWarning: Warning: 13 files available to download. Only the first file has been downloaded. Please use `download_all()` or specify additional criteria (e.g. quarter, campaign, or sector) to limit your search.\n",
            "  LightkurveWarning)\n",
            "Warning: 141712167 may refer to a different K2 or TESS target. Please add the prefix 'EPIC' or 'TIC' to disambiguate.\n",
            "/usr/local/lib/python3.6/dist-packages/lightkurve/search.py:185: LightkurveWarning: Warning: 13 files available to download. Only the first file has been downloaded. Please use `download_all()` or specify additional criteria (e.g. quarter, campaign, or sector) to limit your search.\n",
            "  LightkurveWarning)\n",
            "Warning: 141757920 may refer to a different K2 or TESS target. Please add the prefix 'EPIC' or 'TIC' to disambiguate.\n",
            "/usr/local/lib/python3.6/dist-packages/lightkurve/search.py:185: LightkurveWarning: Warning: 12 files available to download. Only the first file has been downloaded. Please use `download_all()` or specify additional criteria (e.g. quarter, campaign, or sector) to limit your search.\n",
            "  LightkurveWarning)\n",
            "Warning: 141757920 may refer to a different K2 or TESS target. Please add the prefix 'EPIC' or 'TIC' to disambiguate.\n",
            "/usr/local/lib/python3.6/dist-packages/lightkurve/search.py:185: LightkurveWarning: Warning: 12 files available to download. Only the first file has been downloaded. Please use `download_all()` or specify additional criteria (e.g. quarter, campaign, or sector) to limit your search.\n",
            "  LightkurveWarning)\n",
            "Warning: 141769434 may refer to a different K2 or TESS target. Please add the prefix 'EPIC' or 'TIC' to disambiguate.\n",
            "/usr/local/lib/python3.6/dist-packages/lightkurve/search.py:185: LightkurveWarning: Warning: 13 files available to download. Only the first file has been downloaded. Please use `download_all()` or specify additional criteria (e.g. quarter, campaign, or sector) to limit your search.\n",
            "  LightkurveWarning)\n",
            "Warning: 141770047 may refer to a different K2 or TESS target. Please add the prefix 'EPIC' or 'TIC' to disambiguate.\n",
            "/usr/local/lib/python3.6/dist-packages/lightkurve/search.py:185: LightkurveWarning: Warning: 12 files available to download. Only the first file has been downloaded. Please use `download_all()` or specify additional criteria (e.g. quarter, campaign, or sector) to limit your search.\n",
            "  LightkurveWarning)\n",
            "Warning: 141770299 may refer to a different K2 or TESS target. Please add the prefix 'EPIC' or 'TIC' to disambiguate.\n",
            "/usr/local/lib/python3.6/dist-packages/lightkurve/search.py:185: LightkurveWarning: Warning: 13 files available to download. Only the first file has been downloaded. Please use `download_all()` or specify additional criteria (e.g. quarter, campaign, or sector) to limit your search.\n",
            "  LightkurveWarning)\n",
            "Warning: 141770299 may refer to a different K2 or TESS target. Please add the prefix 'EPIC' or 'TIC' to disambiguate.\n",
            "/usr/local/lib/python3.6/dist-packages/lightkurve/search.py:185: LightkurveWarning: Warning: 13 files available to download. Only the first file has been downloaded. Please use `download_all()` or specify additional criteria (e.g. quarter, campaign, or sector) to limit your search.\n",
            "  LightkurveWarning)\n",
            "Warning: 141772259 may refer to a different K2 or TESS target. Please add the prefix 'EPIC' or 'TIC' to disambiguate.\n",
            "/usr/local/lib/python3.6/dist-packages/lightkurve/search.py:185: LightkurveWarning: Warning: 13 files available to download. Only the first file has been downloaded. Please use `download_all()` or specify additional criteria (e.g. quarter, campaign, or sector) to limit your search.\n",
            "  LightkurveWarning)\n",
            "Warning: 141809359 may refer to a different K2 or TESS target. Please add the prefix 'EPIC' or 'TIC' to disambiguate.\n",
            "/usr/local/lib/python3.6/dist-packages/lightkurve/search.py:185: LightkurveWarning: Warning: 12 files available to download. Only the first file has been downloaded. Please use `download_all()` or specify additional criteria (e.g. quarter, campaign, or sector) to limit your search.\n",
            "  LightkurveWarning)\n",
            "Warning: 141809359 may refer to a different K2 or TESS target. Please add the prefix 'EPIC' or 'TIC' to disambiguate.\n",
            "/usr/local/lib/python3.6/dist-packages/lightkurve/search.py:185: LightkurveWarning: Warning: 12 files available to download. Only the first file has been downloaded. Please use `download_all()` or specify additional criteria (e.g. quarter, campaign, or sector) to limit your search.\n",
            "  LightkurveWarning)\n",
            "Warning: 141865875 may refer to a different K2 or TESS target. Please add the prefix 'EPIC' or 'TIC' to disambiguate.\n",
            "/usr/local/lib/python3.6/dist-packages/lightkurve/search.py:185: LightkurveWarning: Warning: 13 files available to download. Only the first file has been downloaded. Please use `download_all()` or specify additional criteria (e.g. quarter, campaign, or sector) to limit your search.\n",
            "  LightkurveWarning)\n",
            "Warning: 141865875 may refer to a different K2 or TESS target. Please add the prefix 'EPIC' or 'TIC' to disambiguate.\n",
            "/usr/local/lib/python3.6/dist-packages/lightkurve/search.py:185: LightkurveWarning: Warning: 13 files available to download. Only the first file has been downloaded. Please use `download_all()` or specify additional criteria (e.g. quarter, campaign, or sector) to limit your search.\n",
            "  LightkurveWarning)\n",
            "Warning: 141865875 may refer to a different K2 or TESS target. Please add the prefix 'EPIC' or 'TIC' to disambiguate.\n",
            "/usr/local/lib/python3.6/dist-packages/lightkurve/search.py:185: LightkurveWarning: Warning: 13 files available to download. Only the first file has been downloaded. Please use `download_all()` or specify additional criteria (e.g. quarter, campaign, or sector) to limit your search.\n",
            "  LightkurveWarning)\n",
            "Warning: 141975926 may refer to a different K2 or TESS target. Please add the prefix 'EPIC' or 'TIC' to disambiguate.\n",
            "/usr/local/lib/python3.6/dist-packages/lightkurve/search.py:185: LightkurveWarning: Warning: 13 files available to download. Only the first file has been downloaded. Please use `download_all()` or specify additional criteria (e.g. quarter, campaign, or sector) to limit your search.\n",
            "  LightkurveWarning)\n",
            "Warning: 141975926 may refer to a different K2 or TESS target. Please add the prefix 'EPIC' or 'TIC' to disambiguate.\n",
            "/usr/local/lib/python3.6/dist-packages/lightkurve/search.py:185: LightkurveWarning: Warning: 13 files available to download. Only the first file has been downloaded. Please use `download_all()` or specify additional criteria (e.g. quarter, campaign, or sector) to limit your search.\n",
            "  LightkurveWarning)\n",
            "Warning: 141977935 may refer to a different K2 or TESS target. Please add the prefix 'EPIC' or 'TIC' to disambiguate.\n",
            "/usr/local/lib/python3.6/dist-packages/lightkurve/search.py:185: LightkurveWarning: Warning: 12 files available to download. Only the first file has been downloaded. Please use `download_all()` or specify additional criteria (e.g. quarter, campaign, or sector) to limit your search.\n",
            "  LightkurveWarning)\n",
            "Warning: 142052876 may refer to a different K2 or TESS target. Please add the prefix 'EPIC' or 'TIC' to disambiguate.\n",
            "/usr/local/lib/python3.6/dist-packages/lightkurve/search.py:185: LightkurveWarning: Warning: 13 files available to download. Only the first file has been downloaded. Please use `download_all()` or specify additional criteria (e.g. quarter, campaign, or sector) to limit your search.\n",
            "  LightkurveWarning)\n",
            "Warning: 142052876 may refer to a different K2 or TESS target. Please add the prefix 'EPIC' or 'TIC' to disambiguate.\n",
            "/usr/local/lib/python3.6/dist-packages/lightkurve/search.py:185: LightkurveWarning: Warning: 13 files available to download. Only the first file has been downloaded. Please use `download_all()` or specify additional criteria (e.g. quarter, campaign, or sector) to limit your search.\n",
            "  LightkurveWarning)\n",
            "Warning: 142108949 may refer to a different K2 or TESS target. Please add the prefix 'EPIC' or 'TIC' to disambiguate.\n",
            "/usr/local/lib/python3.6/dist-packages/lightkurve/search.py:185: LightkurveWarning: Warning: 13 files available to download. Only the first file has been downloaded. Please use `download_all()` or specify additional criteria (e.g. quarter, campaign, or sector) to limit your search.\n",
            "  LightkurveWarning)\n",
            "Warning: 142108949 may refer to a different K2 or TESS target. Please add the prefix 'EPIC' or 'TIC' to disambiguate.\n",
            "/usr/local/lib/python3.6/dist-packages/lightkurve/search.py:185: LightkurveWarning: Warning: 13 files available to download. Only the first file has been downloaded. Please use `download_all()` or specify additional criteria (e.g. quarter, campaign, or sector) to limit your search.\n",
            "  LightkurveWarning)\n",
            "Warning: 142108949 may refer to a different K2 or TESS target. Please add the prefix 'EPIC' or 'TIC' to disambiguate.\n",
            "/usr/local/lib/python3.6/dist-packages/lightkurve/search.py:185: LightkurveWarning: Warning: 13 files available to download. Only the first file has been downloaded. Please use `download_all()` or specify additional criteria (e.g. quarter, campaign, or sector) to limit your search.\n",
            "  LightkurveWarning)\n",
            "Warning: 142108949 may refer to a different K2 or TESS target. Please add the prefix 'EPIC' or 'TIC' to disambiguate.\n",
            "/usr/local/lib/python3.6/dist-packages/lightkurve/search.py:185: LightkurveWarning: Warning: 13 files available to download. Only the first file has been downloaded. Please use `download_all()` or specify additional criteria (e.g. quarter, campaign, or sector) to limit your search.\n",
            "  LightkurveWarning)\n",
            "Warning: 149102762 may refer to a different K2 or TESS target. Please add the prefix 'EPIC' or 'TIC' to disambiguate.\n",
            "/usr/local/lib/python3.6/dist-packages/lightkurve/search.py:185: LightkurveWarning: Warning: 10 files available to download. Only the first file has been downloaded. Please use `download_all()` or specify additional criteria (e.g. quarter, campaign, or sector) to limit your search.\n",
            "  LightkurveWarning)\n",
            "Warning: 149216532 may refer to a different K2 or TESS target. Please add the prefix 'EPIC' or 'TIC' to disambiguate.\n",
            "/usr/local/lib/python3.6/dist-packages/lightkurve/search.py:185: LightkurveWarning: Warning: 12 files available to download. Only the first file has been downloaded. Please use `download_all()` or specify additional criteria (e.g. quarter, campaign, or sector) to limit your search.\n",
            "  LightkurveWarning)\n",
            "Warning: 149248196 may refer to a different K2 or TESS target. Please add the prefix 'EPIC' or 'TIC' to disambiguate.\n",
            "/usr/local/lib/python3.6/dist-packages/lightkurve/search.py:185: LightkurveWarning: Warning: 10 files available to download. Only the first file has been downloaded. Please use `download_all()` or specify additional criteria (e.g. quarter, campaign, or sector) to limit your search.\n",
            "  LightkurveWarning)\n",
            "Warning: 149248196 may refer to a different K2 or TESS target. Please add the prefix 'EPIC' or 'TIC' to disambiguate.\n",
            "/usr/local/lib/python3.6/dist-packages/lightkurve/search.py:185: LightkurveWarning: Warning: 10 files available to download. Only the first file has been downloaded. Please use `download_all()` or specify additional criteria (e.g. quarter, campaign, or sector) to limit your search.\n",
            "  LightkurveWarning)\n",
            "Warning: 149248196 may refer to a different K2 or TESS target. Please add the prefix 'EPIC' or 'TIC' to disambiguate.\n",
            "/usr/local/lib/python3.6/dist-packages/lightkurve/search.py:185: LightkurveWarning: Warning: 10 files available to download. Only the first file has been downloaded. Please use `download_all()` or specify additional criteria (e.g. quarter, campaign, or sector) to limit your search.\n",
            "  LightkurveWarning)\n",
            "Warning: 149248196 may refer to a different K2 or TESS target. Please add the prefix 'EPIC' or 'TIC' to disambiguate.\n",
            "/usr/local/lib/python3.6/dist-packages/lightkurve/search.py:185: LightkurveWarning: Warning: 10 files available to download. Only the first file has been downloaded. Please use `download_all()` or specify additional criteria (e.g. quarter, campaign, or sector) to limit your search.\n",
            "  LightkurveWarning)\n",
            "Warning: 149248196 may refer to a different K2 or TESS target. Please add the prefix 'EPIC' or 'TIC' to disambiguate.\n",
            "/usr/local/lib/python3.6/dist-packages/lightkurve/search.py:185: LightkurveWarning: Warning: 10 files available to download. Only the first file has been downloaded. Please use `download_all()` or specify additional criteria (e.g. quarter, campaign, or sector) to limit your search.\n",
            "  LightkurveWarning)\n",
            "Warning: 149248196 may refer to a different K2 or TESS target. Please add the prefix 'EPIC' or 'TIC' to disambiguate.\n",
            "/usr/local/lib/python3.6/dist-packages/lightkurve/search.py:185: LightkurveWarning: Warning: 10 files available to download. Only the first file has been downloaded. Please use `download_all()` or specify additional criteria (e.g. quarter, campaign, or sector) to limit your search.\n",
            "  LightkurveWarning)\n",
            "Warning: 149273299 may refer to a different K2 or TESS target. Please add the prefix 'EPIC' or 'TIC' to disambiguate.\n",
            "/usr/local/lib/python3.6/dist-packages/lightkurve/search.py:185: LightkurveWarning: Warning: 12 files available to download. Only the first file has been downloaded. Please use `download_all()` or specify additional criteria (e.g. quarter, campaign, or sector) to limit your search.\n",
            "  LightkurveWarning)\n",
            "Warning: 149308175 may refer to a different K2 or TESS target. Please add the prefix 'EPIC' or 'TIC' to disambiguate.\n",
            "/usr/local/lib/python3.6/dist-packages/lightkurve/search.py:185: LightkurveWarning: Warning: 11 files available to download. Only the first file has been downloaded. Please use `download_all()` or specify additional criteria (e.g. quarter, campaign, or sector) to limit your search.\n",
            "  LightkurveWarning)\n",
            "Warning: 149346418 may refer to a different K2 or TESS target. Please add the prefix 'EPIC' or 'TIC' to disambiguate.\n",
            "/usr/local/lib/python3.6/dist-packages/lightkurve/search.py:185: LightkurveWarning: Warning: 12 files available to download. Only the first file has been downloaded. Please use `download_all()` or specify additional criteria (e.g. quarter, campaign, or sector) to limit your search.\n",
            "  LightkurveWarning)\n",
            "Warning: 149347480 may refer to a different K2 or TESS target. Please add the prefix 'EPIC' or 'TIC' to disambiguate.\n",
            "/usr/local/lib/python3.6/dist-packages/lightkurve/search.py:185: LightkurveWarning: Warning: 12 files available to download. Only the first file has been downloaded. Please use `download_all()` or specify additional criteria (e.g. quarter, campaign, or sector) to limit your search.\n",
            "  LightkurveWarning)\n",
            "Warning: 149347629 may refer to a different K2 or TESS target. Please add the prefix 'EPIC' or 'TIC' to disambiguate.\n",
            "/usr/local/lib/python3.6/dist-packages/lightkurve/search.py:185: LightkurveWarning: Warning: 12 files available to download. Only the first file has been downloaded. Please use `download_all()` or specify additional criteria (e.g. quarter, campaign, or sector) to limit your search.\n",
            "  LightkurveWarning)\n",
            "Warning: 149391142 may refer to a different K2 or TESS target. Please add the prefix 'EPIC' or 'TIC' to disambiguate.\n",
            "/usr/local/lib/python3.6/dist-packages/lightkurve/search.py:185: LightkurveWarning: Warning: 13 files available to download. Only the first file has been downloaded. Please use `download_all()` or specify additional criteria (e.g. quarter, campaign, or sector) to limit your search.\n",
            "  LightkurveWarning)\n",
            "Warning: 149444341 may refer to a different K2 or TESS target. Please add the prefix 'EPIC' or 'TIC' to disambiguate.\n",
            "/usr/local/lib/python3.6/dist-packages/lightkurve/search.py:185: LightkurveWarning: Warning: 12 files available to download. Only the first file has been downloaded. Please use `download_all()` or specify additional criteria (e.g. quarter, campaign, or sector) to limit your search.\n",
            "  LightkurveWarning)\n",
            "Warning: 149473467 may refer to a different K2 or TESS target. Please add the prefix 'EPIC' or 'TIC' to disambiguate.\n",
            "/usr/local/lib/python3.6/dist-packages/lightkurve/search.py:185: LightkurveWarning: Warning: 12 files available to download. Only the first file has been downloaded. Please use `download_all()` or specify additional criteria (e.g. quarter, campaign, or sector) to limit your search.\n",
            "  LightkurveWarning)\n",
            "Warning: 149473467 may refer to a different K2 or TESS target. Please add the prefix 'EPIC' or 'TIC' to disambiguate.\n",
            "/usr/local/lib/python3.6/dist-packages/lightkurve/search.py:185: LightkurveWarning: Warning: 12 files available to download. Only the first file has been downloaded. Please use `download_all()` or specify additional criteria (e.g. quarter, campaign, or sector) to limit your search.\n",
            "  LightkurveWarning)\n",
            "Warning: 149473467 may refer to a different K2 or TESS target. Please add the prefix 'EPIC' or 'TIC' to disambiguate.\n",
            "/usr/local/lib/python3.6/dist-packages/lightkurve/search.py:185: LightkurveWarning: Warning: 12 files available to download. Only the first file has been downloaded. Please use `download_all()` or specify additional criteria (e.g. quarter, campaign, or sector) to limit your search.\n",
            "  LightkurveWarning)\n",
            "Warning: 149603524 may refer to a different K2 or TESS target. Please add the prefix 'EPIC' or 'TIC' to disambiguate.\n",
            "/usr/local/lib/python3.6/dist-packages/lightkurve/search.py:185: LightkurveWarning: Warning: 12 files available to download. Only the first file has been downloaded. Please use `download_all()` or specify additional criteria (e.g. quarter, campaign, or sector) to limit your search.\n",
            "  LightkurveWarning)\n",
            "Warning: 149630117 may refer to a different K2 or TESS target. Please add the prefix 'EPIC' or 'TIC' to disambiguate.\n",
            "/usr/local/lib/python3.6/dist-packages/lightkurve/search.py:185: LightkurveWarning: Warning: 13 files available to download. Only the first file has been downloaded. Please use `download_all()` or specify additional criteria (e.g. quarter, campaign, or sector) to limit your search.\n",
            "  LightkurveWarning)\n",
            "Warning: 149630160 may refer to a different K2 or TESS target. Please add the prefix 'EPIC' or 'TIC' to disambiguate.\n",
            "/usr/local/lib/python3.6/dist-packages/lightkurve/search.py:185: LightkurveWarning: Warning: 13 files available to download. Only the first file has been downloaded. Please use `download_all()` or specify additional criteria (e.g. quarter, campaign, or sector) to limit your search.\n",
            "  LightkurveWarning)\n",
            "Warning: 149630160 may refer to a different K2 or TESS target. Please add the prefix 'EPIC' or 'TIC' to disambiguate.\n",
            "/usr/local/lib/python3.6/dist-packages/lightkurve/search.py:185: LightkurveWarning: Warning: 13 files available to download. Only the first file has been downloaded. Please use `download_all()` or specify additional criteria (e.g. quarter, campaign, or sector) to limit your search.\n",
            "  LightkurveWarning)\n",
            "Warning: 149988523 may refer to a different K2 or TESS target. Please add the prefix 'EPIC' or 'TIC' to disambiguate.\n",
            "/usr/local/lib/python3.6/dist-packages/lightkurve/search.py:185: LightkurveWarning: Warning: 12 files available to download. Only the first file has been downloaded. Please use `download_all()` or specify additional criteria (e.g. quarter, campaign, or sector) to limit your search.\n",
            "  LightkurveWarning)\n",
            "Warning: 149988523 may refer to a different K2 or TESS target. Please add the prefix 'EPIC' or 'TIC' to disambiguate.\n",
            "/usr/local/lib/python3.6/dist-packages/lightkurve/search.py:185: LightkurveWarning: Warning: 12 files available to download. Only the first file has been downloaded. Please use `download_all()` or specify additional criteria (e.g. quarter, campaign, or sector) to limit your search.\n",
            "  LightkurveWarning)\n",
            "Warning: 149988523 may refer to a different K2 or TESS target. Please add the prefix 'EPIC' or 'TIC' to disambiguate.\n",
            "/usr/local/lib/python3.6/dist-packages/lightkurve/search.py:185: LightkurveWarning: Warning: 12 files available to download. Only the first file has been downloaded. Please use `download_all()` or specify additional criteria (e.g. quarter, campaign, or sector) to limit your search.\n",
            "  LightkurveWarning)\n",
            "Warning: 149988523 may refer to a different K2 or TESS target. Please add the prefix 'EPIC' or 'TIC' to disambiguate.\n",
            "/usr/local/lib/python3.6/dist-packages/lightkurve/search.py:185: LightkurveWarning: Warning: 12 files available to download. Only the first file has been downloaded. Please use `download_all()` or specify additional criteria (e.g. quarter, campaign, or sector) to limit your search.\n",
            "  LightkurveWarning)\n",
            "Warning: 149988523 may refer to a different K2 or TESS target. Please add the prefix 'EPIC' or 'TIC' to disambiguate.\n",
            "/usr/local/lib/python3.6/dist-packages/lightkurve/search.py:185: LightkurveWarning: Warning: 12 files available to download. Only the first file has been downloaded. Please use `download_all()` or specify additional criteria (e.g. quarter, campaign, or sector) to limit your search.\n",
            "  LightkurveWarning)\n",
            "Warning: 149988523 may refer to a different K2 or TESS target. Please add the prefix 'EPIC' or 'TIC' to disambiguate.\n",
            "/usr/local/lib/python3.6/dist-packages/lightkurve/search.py:185: LightkurveWarning: Warning: 12 files available to download. Only the first file has been downloaded. Please use `download_all()` or specify additional criteria (e.g. quarter, campaign, or sector) to limit your search.\n",
            "  LightkurveWarning)\n",
            "Warning: 149989242 may refer to a different K2 or TESS target. Please add the prefix 'EPIC' or 'TIC' to disambiguate.\n",
            "/usr/local/lib/python3.6/dist-packages/lightkurve/search.py:185: LightkurveWarning: Warning: 12 files available to download. Only the first file has been downloaded. Please use `download_all()` or specify additional criteria (e.g. quarter, campaign, or sector) to limit your search.\n",
            "  LightkurveWarning)\n",
            "Warning: 149989242 may refer to a different K2 or TESS target. Please add the prefix 'EPIC' or 'TIC' to disambiguate.\n",
            "/usr/local/lib/python3.6/dist-packages/lightkurve/search.py:185: LightkurveWarning: Warning: 12 files available to download. Only the first file has been downloaded. Please use `download_all()` or specify additional criteria (e.g. quarter, campaign, or sector) to limit your search.\n",
            "  LightkurveWarning)\n",
            "Warning: 150064391 may refer to a different K2 or TESS target. Please add the prefix 'EPIC' or 'TIC' to disambiguate.\n",
            "/usr/local/lib/python3.6/dist-packages/lightkurve/search.py:185: LightkurveWarning: Warning: 11 files available to download. Only the first file has been downloaded. Please use `download_all()` or specify additional criteria (e.g. quarter, campaign, or sector) to limit your search.\n",
            "  LightkurveWarning)\n"
          ],
          "name": "stderr"
        }
      ]
    },
    {
      "cell_type": "code",
      "metadata": {
        "id": "6TmmYCyq7jh-",
        "colab_type": "code",
        "colab": {}
      },
      "source": [
        "df = lc_139250626.T\n",
        "for i in df_list[1:]:\n",
        "  temp_df = i.T\n",
        "  df = pd.concat([df,temp_df])\n",
        "  "
      ],
      "execution_count": 0,
      "outputs": []
    },
    {
      "cell_type": "code",
      "metadata": {
        "id": "Sg1ulsjpA6uv",
        "colab_type": "code",
        "colab": {}
      },
      "source": [
        ""
      ],
      "execution_count": 0,
      "outputs": []
    },
    {
      "cell_type": "code",
      "metadata": {
        "id": "F3TKizhkAn36",
        "colab_type": "code",
        "colab": {}
      },
      "source": [
        "df_flux = df.loc['flux']"
      ],
      "execution_count": 0,
      "outputs": []
    },
    {
      "cell_type": "code",
      "metadata": {
        "id": "JzQeEyVIC1NG",
        "colab_type": "code",
        "colab": {}
      },
      "source": [
        " tess_id['ticid'].head(100)\n",
        "  "
      ],
      "execution_count": 0,
      "outputs": []
    },
    {
      "cell_type": "code",
      "metadata": {
        "id": "uyY05xFLBT9N",
        "colab_type": "code",
        "colab": {
          "base_uri": "https://localhost:8080/",
          "height": 116
        },
        "outputId": "d1be2bd3-d63c-4600-9b20-791eb192ca0a"
      },
      "source": [
        "df_flux['ID'] = list(tess_id['ticid'].head(100))"
      ],
      "execution_count": 58,
      "outputs": [
        {
          "output_type": "stream",
          "text": [
            "/usr/local/lib/python3.6/dist-packages/ipykernel_launcher.py:1: SettingWithCopyWarning: \n",
            "A value is trying to be set on a copy of a slice from a DataFrame.\n",
            "Try using .loc[row_indexer,col_indexer] = value instead\n",
            "\n",
            "See the caveats in the documentation: http://pandas.pydata.org/pandas-docs/stable/indexing.html#indexing-view-versus-copy\n",
            "  \"\"\"Entry point for launching an IPython kernel.\n"
          ],
          "name": "stderr"
        }
      ]
    },
    {
      "cell_type": "code",
      "metadata": {
        "id": "KLpNjmZ4CrXR",
        "colab_type": "code",
        "colab": {
          "base_uri": "https://localhost:8080/",
          "height": 246
        },
        "outputId": "d4465191-11a1-44b3-b47c-b8c2a9d28718"
      },
      "source": [
        "df_flux.head()"
      ],
      "execution_count": 60,
      "outputs": [
        {
          "output_type": "execute_result",
          "data": {
            "text/html": [
              "<div>\n",
              "<style scoped>\n",
              "    .dataframe tbody tr th:only-of-type {\n",
              "        vertical-align: middle;\n",
              "    }\n",
              "\n",
              "    .dataframe tbody tr th {\n",
              "        vertical-align: top;\n",
              "    }\n",
              "\n",
              "    .dataframe thead th {\n",
              "        text-align: right;\n",
              "    }\n",
              "</style>\n",
              "<table border=\"1\" class=\"dataframe\">\n",
              "  <thead>\n",
              "    <tr style=\"text-align: right;\">\n",
              "      <th></th>\n",
              "      <th>0</th>\n",
              "      <th>1</th>\n",
              "      <th>2</th>\n",
              "      <th>3</th>\n",
              "      <th>4</th>\n",
              "      <th>5</th>\n",
              "      <th>6</th>\n",
              "      <th>7</th>\n",
              "      <th>8</th>\n",
              "      <th>9</th>\n",
              "      <th>10</th>\n",
              "      <th>11</th>\n",
              "      <th>12</th>\n",
              "      <th>13</th>\n",
              "      <th>14</th>\n",
              "      <th>15</th>\n",
              "      <th>16</th>\n",
              "      <th>17</th>\n",
              "      <th>18</th>\n",
              "      <th>19</th>\n",
              "      <th>20</th>\n",
              "      <th>21</th>\n",
              "      <th>22</th>\n",
              "      <th>23</th>\n",
              "      <th>24</th>\n",
              "      <th>25</th>\n",
              "      <th>26</th>\n",
              "      <th>27</th>\n",
              "      <th>28</th>\n",
              "      <th>29</th>\n",
              "      <th>30</th>\n",
              "      <th>31</th>\n",
              "      <th>32</th>\n",
              "      <th>33</th>\n",
              "      <th>34</th>\n",
              "      <th>35</th>\n",
              "      <th>36</th>\n",
              "      <th>37</th>\n",
              "      <th>38</th>\n",
              "      <th>39</th>\n",
              "      <th>...</th>\n",
              "      <th>18065</th>\n",
              "      <th>18066</th>\n",
              "      <th>18067</th>\n",
              "      <th>18068</th>\n",
              "      <th>18069</th>\n",
              "      <th>18070</th>\n",
              "      <th>18071</th>\n",
              "      <th>18072</th>\n",
              "      <th>18073</th>\n",
              "      <th>18074</th>\n",
              "      <th>18075</th>\n",
              "      <th>18076</th>\n",
              "      <th>18077</th>\n",
              "      <th>18078</th>\n",
              "      <th>18079</th>\n",
              "      <th>18080</th>\n",
              "      <th>18081</th>\n",
              "      <th>18082</th>\n",
              "      <th>18083</th>\n",
              "      <th>18084</th>\n",
              "      <th>18085</th>\n",
              "      <th>18086</th>\n",
              "      <th>18087</th>\n",
              "      <th>18088</th>\n",
              "      <th>18089</th>\n",
              "      <th>18090</th>\n",
              "      <th>18091</th>\n",
              "      <th>18092</th>\n",
              "      <th>18093</th>\n",
              "      <th>18094</th>\n",
              "      <th>18095</th>\n",
              "      <th>18096</th>\n",
              "      <th>18097</th>\n",
              "      <th>18098</th>\n",
              "      <th>18099</th>\n",
              "      <th>18100</th>\n",
              "      <th>18101</th>\n",
              "      <th>18102</th>\n",
              "      <th>18103</th>\n",
              "      <th>ID</th>\n",
              "    </tr>\n",
              "  </thead>\n",
              "  <tbody>\n",
              "    <tr>\n",
              "      <th>flux</th>\n",
              "      <td>67386.929688</td>\n",
              "      <td>67462.570312</td>\n",
              "      <td>67448.406250</td>\n",
              "      <td>67490.835938</td>\n",
              "      <td>67454.820312</td>\n",
              "      <td>67467.164062</td>\n",
              "      <td>67495.328125</td>\n",
              "      <td>67537.914062</td>\n",
              "      <td>67496.867188</td>\n",
              "      <td>67539.250000</td>\n",
              "      <td>67483.578125</td>\n",
              "      <td>67495.773438</td>\n",
              "      <td>67508.726562</td>\n",
              "      <td>67469.976562</td>\n",
              "      <td>67492.937500</td>\n",
              "      <td>67498.656250</td>\n",
              "      <td>67501.648438</td>\n",
              "      <td>67514.695312</td>\n",
              "      <td>67526.656250</td>\n",
              "      <td>67517.828125</td>\n",
              "      <td>67481.929688</td>\n",
              "      <td>67533.390625</td>\n",
              "      <td>67496.773438</td>\n",
              "      <td>67495.867188</td>\n",
              "      <td>67492.218750</td>\n",
              "      <td>67525.421875</td>\n",
              "      <td>67548.429688</td>\n",
              "      <td>67507.484375</td>\n",
              "      <td>67514.664062</td>\n",
              "      <td>67523.890625</td>\n",
              "      <td>67507.296875</td>\n",
              "      <td>67560.343750</td>\n",
              "      <td>67484.289062</td>\n",
              "      <td>67510.992188</td>\n",
              "      <td>67534.531250</td>\n",
              "      <td>67484.421875</td>\n",
              "      <td>67507.328125</td>\n",
              "      <td>67447.492188</td>\n",
              "      <td>67441.578125</td>\n",
              "      <td>67528.156250</td>\n",
              "      <td>...</td>\n",
              "      <td>67546.390625</td>\n",
              "      <td>67519.445312</td>\n",
              "      <td>67498.664062</td>\n",
              "      <td>67558.156250</td>\n",
              "      <td>67527.367188</td>\n",
              "      <td>67525.500000</td>\n",
              "      <td>67597.421875</td>\n",
              "      <td>67480.382812</td>\n",
              "      <td>67498.515625</td>\n",
              "      <td>67529.828125</td>\n",
              "      <td>67546.320312</td>\n",
              "      <td>67475.296875</td>\n",
              "      <td>67493.273438</td>\n",
              "      <td>67514.359375</td>\n",
              "      <td>67527.828125</td>\n",
              "      <td>67521.148438</td>\n",
              "      <td>67548.546875</td>\n",
              "      <td>67502.382812</td>\n",
              "      <td>67509.601562</td>\n",
              "      <td>67507.320312</td>\n",
              "      <td>67526.445312</td>\n",
              "      <td>67528.835938</td>\n",
              "      <td>67526.0</td>\n",
              "      <td>NaN</td>\n",
              "      <td>NaN</td>\n",
              "      <td>NaN</td>\n",
              "      <td>NaN</td>\n",
              "      <td>NaN</td>\n",
              "      <td>NaN</td>\n",
              "      <td>NaN</td>\n",
              "      <td>NaN</td>\n",
              "      <td>NaN</td>\n",
              "      <td>NaN</td>\n",
              "      <td>NaN</td>\n",
              "      <td>NaN</td>\n",
              "      <td>NaN</td>\n",
              "      <td>NaN</td>\n",
              "      <td>NaN</td>\n",
              "      <td>NaN</td>\n",
              "      <td>139250626</td>\n",
              "    </tr>\n",
              "    <tr>\n",
              "      <th>flux</th>\n",
              "      <td>49035.625000</td>\n",
              "      <td>49115.289062</td>\n",
              "      <td>49069.714844</td>\n",
              "      <td>49091.937500</td>\n",
              "      <td>49097.925781</td>\n",
              "      <td>49099.984375</td>\n",
              "      <td>49090.464844</td>\n",
              "      <td>49087.765625</td>\n",
              "      <td>49116.824219</td>\n",
              "      <td>49095.539062</td>\n",
              "      <td>49091.964844</td>\n",
              "      <td>49103.585938</td>\n",
              "      <td>49101.582031</td>\n",
              "      <td>49134.437500</td>\n",
              "      <td>49110.417969</td>\n",
              "      <td>49133.246094</td>\n",
              "      <td>49145.414062</td>\n",
              "      <td>49092.531250</td>\n",
              "      <td>49058.667969</td>\n",
              "      <td>49086.500000</td>\n",
              "      <td>49076.875000</td>\n",
              "      <td>49096.304688</td>\n",
              "      <td>49123.808594</td>\n",
              "      <td>49124.886719</td>\n",
              "      <td>49102.722656</td>\n",
              "      <td>49138.003906</td>\n",
              "      <td>49097.917969</td>\n",
              "      <td>49076.058594</td>\n",
              "      <td>49116.222656</td>\n",
              "      <td>49108.015625</td>\n",
              "      <td>49126.191406</td>\n",
              "      <td>49016.882812</td>\n",
              "      <td>49075.226562</td>\n",
              "      <td>49064.281250</td>\n",
              "      <td>49103.382812</td>\n",
              "      <td>49075.453125</td>\n",
              "      <td>49099.085938</td>\n",
              "      <td>49059.804688</td>\n",
              "      <td>49075.531250</td>\n",
              "      <td>49069.101562</td>\n",
              "      <td>...</td>\n",
              "      <td>NaN</td>\n",
              "      <td>NaN</td>\n",
              "      <td>NaN</td>\n",
              "      <td>NaN</td>\n",
              "      <td>NaN</td>\n",
              "      <td>NaN</td>\n",
              "      <td>NaN</td>\n",
              "      <td>NaN</td>\n",
              "      <td>NaN</td>\n",
              "      <td>NaN</td>\n",
              "      <td>NaN</td>\n",
              "      <td>NaN</td>\n",
              "      <td>NaN</td>\n",
              "      <td>NaN</td>\n",
              "      <td>NaN</td>\n",
              "      <td>NaN</td>\n",
              "      <td>NaN</td>\n",
              "      <td>NaN</td>\n",
              "      <td>NaN</td>\n",
              "      <td>NaN</td>\n",
              "      <td>NaN</td>\n",
              "      <td>NaN</td>\n",
              "      <td>NaN</td>\n",
              "      <td>NaN</td>\n",
              "      <td>NaN</td>\n",
              "      <td>NaN</td>\n",
              "      <td>NaN</td>\n",
              "      <td>NaN</td>\n",
              "      <td>NaN</td>\n",
              "      <td>NaN</td>\n",
              "      <td>NaN</td>\n",
              "      <td>NaN</td>\n",
              "      <td>NaN</td>\n",
              "      <td>NaN</td>\n",
              "      <td>NaN</td>\n",
              "      <td>NaN</td>\n",
              "      <td>NaN</td>\n",
              "      <td>NaN</td>\n",
              "      <td>NaN</td>\n",
              "      <td>139281803</td>\n",
              "    </tr>\n",
              "    <tr>\n",
              "      <th>flux</th>\n",
              "      <td>84907.796875</td>\n",
              "      <td>85220.890625</td>\n",
              "      <td>85190.460938</td>\n",
              "      <td>85222.218750</td>\n",
              "      <td>85225.351562</td>\n",
              "      <td>85215.273438</td>\n",
              "      <td>85224.367188</td>\n",
              "      <td>85233.515625</td>\n",
              "      <td>85273.460938</td>\n",
              "      <td>85221.953125</td>\n",
              "      <td>85279.179688</td>\n",
              "      <td>85217.296875</td>\n",
              "      <td>85186.031250</td>\n",
              "      <td>85295.843750</td>\n",
              "      <td>85249.734375</td>\n",
              "      <td>85254.289062</td>\n",
              "      <td>85171.148438</td>\n",
              "      <td>85253.007812</td>\n",
              "      <td>85237.101562</td>\n",
              "      <td>85367.414062</td>\n",
              "      <td>85354.882812</td>\n",
              "      <td>85462.929688</td>\n",
              "      <td>85377.250000</td>\n",
              "      <td>85302.945312</td>\n",
              "      <td>85305.156250</td>\n",
              "      <td>85202.757812</td>\n",
              "      <td>85282.742188</td>\n",
              "      <td>85274.718750</td>\n",
              "      <td>85250.664062</td>\n",
              "      <td>85233.601562</td>\n",
              "      <td>85269.000000</td>\n",
              "      <td>85276.757812</td>\n",
              "      <td>85183.601562</td>\n",
              "      <td>85273.539062</td>\n",
              "      <td>85211.585938</td>\n",
              "      <td>85261.476562</td>\n",
              "      <td>85256.929688</td>\n",
              "      <td>85203.015625</td>\n",
              "      <td>85232.695312</td>\n",
              "      <td>85244.257812</td>\n",
              "      <td>...</td>\n",
              "      <td>85835.671875</td>\n",
              "      <td>85874.398438</td>\n",
              "      <td>85882.882812</td>\n",
              "      <td>85858.539062</td>\n",
              "      <td>85802.484375</td>\n",
              "      <td>85761.007812</td>\n",
              "      <td>85814.804688</td>\n",
              "      <td>85837.523438</td>\n",
              "      <td>85743.945312</td>\n",
              "      <td>85764.367188</td>\n",
              "      <td>85766.781250</td>\n",
              "      <td>85816.289062</td>\n",
              "      <td>85792.109375</td>\n",
              "      <td>NaN</td>\n",
              "      <td>NaN</td>\n",
              "      <td>NaN</td>\n",
              "      <td>NaN</td>\n",
              "      <td>NaN</td>\n",
              "      <td>NaN</td>\n",
              "      <td>NaN</td>\n",
              "      <td>NaN</td>\n",
              "      <td>NaN</td>\n",
              "      <td>NaN</td>\n",
              "      <td>NaN</td>\n",
              "      <td>NaN</td>\n",
              "      <td>NaN</td>\n",
              "      <td>NaN</td>\n",
              "      <td>NaN</td>\n",
              "      <td>NaN</td>\n",
              "      <td>NaN</td>\n",
              "      <td>NaN</td>\n",
              "      <td>NaN</td>\n",
              "      <td>NaN</td>\n",
              "      <td>NaN</td>\n",
              "      <td>NaN</td>\n",
              "      <td>NaN</td>\n",
              "      <td>NaN</td>\n",
              "      <td>NaN</td>\n",
              "      <td>NaN</td>\n",
              "      <td>139285666</td>\n",
              "    </tr>\n",
              "    <tr>\n",
              "      <th>flux</th>\n",
              "      <td>84907.796875</td>\n",
              "      <td>85220.890625</td>\n",
              "      <td>85190.460938</td>\n",
              "      <td>85222.218750</td>\n",
              "      <td>85225.351562</td>\n",
              "      <td>85215.273438</td>\n",
              "      <td>85224.367188</td>\n",
              "      <td>85233.515625</td>\n",
              "      <td>85273.460938</td>\n",
              "      <td>85221.953125</td>\n",
              "      <td>85279.179688</td>\n",
              "      <td>85217.296875</td>\n",
              "      <td>85186.031250</td>\n",
              "      <td>85295.843750</td>\n",
              "      <td>85249.734375</td>\n",
              "      <td>85254.289062</td>\n",
              "      <td>85171.148438</td>\n",
              "      <td>85253.007812</td>\n",
              "      <td>85237.101562</td>\n",
              "      <td>85367.414062</td>\n",
              "      <td>85354.882812</td>\n",
              "      <td>85462.929688</td>\n",
              "      <td>85377.250000</td>\n",
              "      <td>85302.945312</td>\n",
              "      <td>85305.156250</td>\n",
              "      <td>85202.757812</td>\n",
              "      <td>85282.742188</td>\n",
              "      <td>85274.718750</td>\n",
              "      <td>85250.664062</td>\n",
              "      <td>85233.601562</td>\n",
              "      <td>85269.000000</td>\n",
              "      <td>85276.757812</td>\n",
              "      <td>85183.601562</td>\n",
              "      <td>85273.539062</td>\n",
              "      <td>85211.585938</td>\n",
              "      <td>85261.476562</td>\n",
              "      <td>85256.929688</td>\n",
              "      <td>85203.015625</td>\n",
              "      <td>85232.695312</td>\n",
              "      <td>85244.257812</td>\n",
              "      <td>...</td>\n",
              "      <td>85835.671875</td>\n",
              "      <td>85874.398438</td>\n",
              "      <td>85882.882812</td>\n",
              "      <td>85858.539062</td>\n",
              "      <td>85802.484375</td>\n",
              "      <td>85761.007812</td>\n",
              "      <td>85814.804688</td>\n",
              "      <td>85837.523438</td>\n",
              "      <td>85743.945312</td>\n",
              "      <td>85764.367188</td>\n",
              "      <td>85766.781250</td>\n",
              "      <td>85816.289062</td>\n",
              "      <td>85792.109375</td>\n",
              "      <td>NaN</td>\n",
              "      <td>NaN</td>\n",
              "      <td>NaN</td>\n",
              "      <td>NaN</td>\n",
              "      <td>NaN</td>\n",
              "      <td>NaN</td>\n",
              "      <td>NaN</td>\n",
              "      <td>NaN</td>\n",
              "      <td>NaN</td>\n",
              "      <td>NaN</td>\n",
              "      <td>NaN</td>\n",
              "      <td>NaN</td>\n",
              "      <td>NaN</td>\n",
              "      <td>NaN</td>\n",
              "      <td>NaN</td>\n",
              "      <td>NaN</td>\n",
              "      <td>NaN</td>\n",
              "      <td>NaN</td>\n",
              "      <td>NaN</td>\n",
              "      <td>NaN</td>\n",
              "      <td>NaN</td>\n",
              "      <td>NaN</td>\n",
              "      <td>NaN</td>\n",
              "      <td>NaN</td>\n",
              "      <td>NaN</td>\n",
              "      <td>NaN</td>\n",
              "      <td>139285666</td>\n",
              "    </tr>\n",
              "    <tr>\n",
              "      <th>flux</th>\n",
              "      <td>4570.093262</td>\n",
              "      <td>4872.907227</td>\n",
              "      <td>4932.878418</td>\n",
              "      <td>4942.579102</td>\n",
              "      <td>4978.574707</td>\n",
              "      <td>4994.832031</td>\n",
              "      <td>4973.889648</td>\n",
              "      <td>5019.682129</td>\n",
              "      <td>5004.980469</td>\n",
              "      <td>5032.086426</td>\n",
              "      <td>5013.939941</td>\n",
              "      <td>4988.423340</td>\n",
              "      <td>5018.329590</td>\n",
              "      <td>5023.928223</td>\n",
              "      <td>4996.966309</td>\n",
              "      <td>4990.349121</td>\n",
              "      <td>4997.543945</td>\n",
              "      <td>5009.525879</td>\n",
              "      <td>5013.845703</td>\n",
              "      <td>5087.864258</td>\n",
              "      <td>5037.287598</td>\n",
              "      <td>5054.952148</td>\n",
              "      <td>5100.130371</td>\n",
              "      <td>5066.298340</td>\n",
              "      <td>5025.338867</td>\n",
              "      <td>5041.403320</td>\n",
              "      <td>5001.273438</td>\n",
              "      <td>5011.907227</td>\n",
              "      <td>5003.034668</td>\n",
              "      <td>5068.835938</td>\n",
              "      <td>5037.388184</td>\n",
              "      <td>5009.604492</td>\n",
              "      <td>5029.633301</td>\n",
              "      <td>5004.325684</td>\n",
              "      <td>5086.938477</td>\n",
              "      <td>5002.623535</td>\n",
              "      <td>4978.119141</td>\n",
              "      <td>4963.709473</td>\n",
              "      <td>5029.901855</td>\n",
              "      <td>5076.869141</td>\n",
              "      <td>...</td>\n",
              "      <td>NaN</td>\n",
              "      <td>NaN</td>\n",
              "      <td>NaN</td>\n",
              "      <td>NaN</td>\n",
              "      <td>NaN</td>\n",
              "      <td>NaN</td>\n",
              "      <td>NaN</td>\n",
              "      <td>NaN</td>\n",
              "      <td>NaN</td>\n",
              "      <td>NaN</td>\n",
              "      <td>NaN</td>\n",
              "      <td>NaN</td>\n",
              "      <td>NaN</td>\n",
              "      <td>NaN</td>\n",
              "      <td>NaN</td>\n",
              "      <td>NaN</td>\n",
              "      <td>NaN</td>\n",
              "      <td>NaN</td>\n",
              "      <td>NaN</td>\n",
              "      <td>NaN</td>\n",
              "      <td>NaN</td>\n",
              "      <td>NaN</td>\n",
              "      <td>NaN</td>\n",
              "      <td>NaN</td>\n",
              "      <td>NaN</td>\n",
              "      <td>NaN</td>\n",
              "      <td>NaN</td>\n",
              "      <td>NaN</td>\n",
              "      <td>NaN</td>\n",
              "      <td>NaN</td>\n",
              "      <td>NaN</td>\n",
              "      <td>NaN</td>\n",
              "      <td>NaN</td>\n",
              "      <td>NaN</td>\n",
              "      <td>NaN</td>\n",
              "      <td>NaN</td>\n",
              "      <td>NaN</td>\n",
              "      <td>NaN</td>\n",
              "      <td>NaN</td>\n",
              "      <td>139285669</td>\n",
              "    </tr>\n",
              "  </tbody>\n",
              "</table>\n",
              "<p>5 rows × 18105 columns</p>\n",
              "</div>"
            ],
            "text/plain": [
              "                 0             1             2  ...  18102  18103         ID\n",
              "flux  67386.929688  67462.570312  67448.406250  ...    NaN    NaN  139250626\n",
              "flux  49035.625000  49115.289062  49069.714844  ...    NaN    NaN  139281803\n",
              "flux  84907.796875  85220.890625  85190.460938  ...    NaN    NaN  139285666\n",
              "flux  84907.796875  85220.890625  85190.460938  ...    NaN    NaN  139285666\n",
              "flux   4570.093262   4872.907227   4932.878418  ...    NaN    NaN  139285669\n",
              "\n",
              "[5 rows x 18105 columns]"
            ]
          },
          "metadata": {
            "tags": []
          },
          "execution_count": 60
        }
      ]
    },
    {
      "cell_type": "code",
      "metadata": {
        "id": "pcr1Tiq2BWOE",
        "colab_type": "code",
        "colab": {}
      },
      "source": [
        "df_flux.to_csv(r'\\Flux dataframe.csv')"
      ],
      "execution_count": 0,
      "outputs": []
    },
    {
      "cell_type": "code",
      "metadata": {
        "id": "4CbXdCud3lVG",
        "colab_type": "code",
        "colab": {
          "base_uri": "https://localhost:8080/",
          "height": 33
        },
        "outputId": "f4440192-7ada-4022-8cd8-7fcbe8195436"
      },
      "source": [
        "lc_139250626.time[0]"
      ],
      "execution_count": 34,
      "outputs": [
        {
          "output_type": "execute_result",
          "data": {
            "text/plain": [
              "1325.3000730572246"
            ]
          },
          "metadata": {
            "tags": []
          },
          "execution_count": 34
        }
      ]
    },
    {
      "cell_type": "code",
      "metadata": {
        "id": "o7jsYU0u4G5z",
        "colab_type": "code",
        "colab": {
          "base_uri": "https://localhost:8080/",
          "height": 50
        },
        "outputId": "7f1ed6c3-7995-4491-e3dd-20913bbda334"
      },
      "source": [
        "lc_139250626.to_lightcurve(aperture_mask=lc_139250626.pipeline_mask).flux"
      ],
      "execution_count": 38,
      "outputs": [
        {
          "output_type": "execute_result",
          "data": {
            "text/plain": [
              "array([67386.93 , 67462.57 , 67448.41 , ..., 67526.445, 67528.836,\n",
              "       67526.   ], dtype=float32)"
            ]
          },
          "metadata": {
            "tags": []
          },
          "execution_count": 38
        }
      ]
    },
    {
      "cell_type": "code",
      "metadata": {
        "id": "qYy5dnpe4m7Y",
        "colab_type": "code",
        "colab": {}
      },
      "source": [
        "for "
      ],
      "execution_count": 0,
      "outputs": []
    },
    {
      "cell_type": "code",
      "metadata": {
        "id": "gCfB8nEG3-lH",
        "colab_type": "code",
        "colab": {
          "base_uri": "https://localhost:8080/",
          "height": 33
        },
        "outputId": "f470f94e-9c8f-43ac-a478-422b33d56638"
      },
      "source": [
        "lc_140659980.shape"
      ],
      "execution_count": 33,
      "outputs": [
        {
          "output_type": "execute_result",
          "data": {
            "text/plain": [
              "(18092, 11, 11)"
            ]
          },
          "metadata": {
            "tags": []
          },
          "execution_count": 33
        }
      ]
    },
    {
      "cell_type": "code",
      "metadata": {
        "id": "TYvouSU12Oxd",
        "colab_type": "code",
        "colab": {}
      },
      "source": [
        "pixelfile = search_targetpixelfile(8462852, quarter=16).download(quality_bitmask='hardest');"
      ],
      "execution_count": 0,
      "outputs": []
    },
    {
      "cell_type": "code",
      "metadata": {
        "id": "RQz1sAbBg6oK",
        "colab_type": "code",
        "colab": {}
      },
      "source": [
        "    \n",
        "import pandas as pd\n",
        "import numpy as np\n",
        "import keras\n",
        "from keras.models import Sequential\n",
        "from keras.layers import Dense, Activation, Dropout\n",
        "from keras.layers.normalization import BatchNormalization\n",
        "from keras import metrics\n",
        "from keras.callbacks import ModelCheckpoint\n",
        "\n",
        "from imblearn.over_sampling import SMOTE\n",
        "\n",
        "from pathlib import Path\n",
        "\n",
        "from sklearn.utils import shuffle\n",
        "from sklearn.preprocessing import StandardScaler, MinMaxScaler\n",
        "from sklearn.metrics import accuracy_score, precision_score, recall_score, confusion_matrix\n",
        "import matplotlib.pyplot as plt\n",
        "import math\n",
        "import time\n",
        "\n",
        "from sklearn.metrics import classification_report\n",
        "\n",
        "from  scipy import ndimage, fft\n",
        "from sklearn.preprocessing import normalize\n",
        "\n",
        "from preprocess_data import LightFluxProcessor\n",
        "\n",
        "np.random.seed(1)\n",
        "\n",
        "LOAD_MODEL = True # continue training previous weights or start fresh\n",
        "RENDER_PLOT = False # render loss and accuracy plots\n",
        "\n",
        "def build_network():\n",
        "    # Model config\n",
        "    learning_rate = 0.001\n",
        "\n",
        "    layers = [\n",
        "        { \"units\": 1, \"input_dim\": n_x, \"activation\": 'relu', \"dropout\": 0 },\n",
        "        { \"units\": n_y, \"input_dim\": 1, \"activation\": 'sigmoid', \"dropout\": 0 },\n",
        "    ]\n",
        "\n",
        "    # Build model\n",
        "    model = Sequential()\n",
        "    for layer in layers:\n",
        "        model.add(Dense(units=layer[\"units\"], input_dim=layer[\"input_dim\"]))\n",
        "        model.add(Activation(layer[\"activation\"]))\n",
        "        if layer[\"dropout\"] > 0:\n",
        "            model.add(Dropout(layer[\"dropout\"]))\n",
        "\n",
        "    model.compile(loss=keras.losses.binary_crossentropy,\n",
        "                  optimizer=keras.optimizers.Adam(lr=learning_rate),\n",
        "                  metrics=['accuracy'])\n",
        "    return model\n",
        "\n",
        "def np_X_Y_from_df(df):\n",
        "    df = shuffle(df)\n",
        "    df_X = df.drop(['LABEL'], axis=1)\n",
        "    X = np.array(df_X)\n",
        "    Y_raw = np.array(df['LABEL']).reshape((len(df['LABEL']),1))\n",
        "    Y = Y_raw == 2\n",
        "    return X, Y\n",
        "    \n",
        "if __name__ == \"__main__\":\n",
        "    train_dataset_path = \"./datasets/exoTrain.csv\"\n",
        "    dev_dataset_path = \"./datasets/exoTest.csv\"\n",
        "\n",
        "    print(\"Loading datasets...\")\n",
        "    df_train = pd.read_csv(train_dataset_path, encoding = \"ISO-8859-1\")\n",
        "    df_dev = pd.read_csv(dev_dataset_path, encoding = \"ISO-8859-1\")\n",
        "\n",
        "    # Generate X and Y dataframe sets\n",
        "    df_train_x = df_train.drop('LABEL', axis=1)\n",
        "    df_dev_x = df_dev.drop('LABEL', axis=1)\n",
        "    df_train_y = df_train.LABEL\n",
        "    df_dev_y = df_dev.LABEL\n",
        "\n",
        "    # Process dataset\n",
        "    LFP = LightFluxProcessor(\n",
        "        fourier=True,\n",
        "        normalize=True,\n",
        "        gaussian=True,\n",
        "        standardize=True)\n",
        "    df_train_x, df_dev_x = LFP.process(df_train_x, df_dev_x)\n",
        "\n",
        "    # Rejoin X and Y\n",
        "    df_train_processed = pd.DataFrame(df_train_x).join(pd.DataFrame(df_train_y))\n",
        "    df_dev_processed = pd.DataFrame(df_dev_x).join(pd.DataFrame(df_dev_y))\n",
        "\n",
        "    # Load X and Y numpy arrays\n",
        "    X_train, Y_train = np_X_Y_from_df(df_train_processed)\n",
        "    X_dev, Y_dev = np_X_Y_from_df(df_dev_processed)\n",
        "\n",
        "    # Print data set stats\n",
        "    (num_examples, n_x) = X_train.shape # (n_x: input size, m : number of examples in the train set)\n",
        "    n_y = Y_train.shape[1] # n_y : output size\n",
        "    print(\"X_train.shape: \", X_train.shape)\n",
        "    print(\"Y_train.shape: \", Y_train.shape)\n",
        "    print(\"X_dev.shape: \", X_dev.shape)\n",
        "    print(\"Y_dev.shape: \", Y_dev.shape)\n",
        "    print(\"n_x: \", n_x)\n",
        "    print(\"num_examples: \", num_examples)\n",
        "    print(\"n_y: \", n_y)\n",
        "\n",
        "    # Build model\n",
        "    model = build_network()\n",
        "\n",
        "    # Load weights\n",
        "    load_path=\"\"\n",
        "    my_file = Path(load_path)\n",
        "    if LOAD_MODEL and my_file.is_file():\n",
        "        model.load_weights(load_path)\n",
        "        print(\"------------\")\n",
        "        print(\"Loaded saved weights\")\n",
        "        print(\"------------\")\n",
        "\n",
        "\n",
        "    sm = SMOTE(ratio = 1.0)\n",
        "    X_train_sm, Y_train_sm = sm.fit_sample(X_train, Y_train)\n",
        "    # X_train_sm, Y_train_sm = X_train, Y_train\n",
        "\n",
        "\n",
        "    # Train\n",
        "    # checkpoint = ModelCheckpoint(filepath, monitor='val_acc', verbose=1, save_best_only=True, mode='max')\n",
        "    # callbacks_list = [checkpoint]\n",
        "    print(\"Training...\")\n",
        "    history = model.fit(X_train_sm, Y_train_sm, epochs=50, batch_size=32)\n",
        "\n",
        "    # Metrics\n",
        "    train_outputs = model.predict(X_train, batch_size=32)\n",
        "    dev_outputs = model.predict(X_dev, batch_size=32)\n",
        "    train_outputs = np.rint(train_outputs)\n",
        "    dev_outputs = np.rint(dev_outputs)\n",
        "    accuracy_train = accuracy_score(Y_train, train_outputs)\n",
        "    accuracy_dev = accuracy_score(Y_dev, dev_outputs)\n",
        "    precision_train = precision_score(Y_train, train_outputs)\n",
        "    precision_dev = precision_score(Y_dev, dev_outputs)\n",
        "    recall_train = recall_score(Y_train, train_outputs)\n",
        "    recall_dev = recall_score(Y_dev, dev_outputs)\n",
        "    confusion_matrix_train = confusion_matrix(Y_train, train_outputs)\n",
        "    confusion_matrix_dev = confusion_matrix(Y_dev, dev_outputs)\n",
        "\n",
        "    # Save model\n",
        "    print(\"Saving model...\")\n",
        "    save_weights_path = \"checkpoints_v2/weights-recall-{}-{}.hdf5\".format(recall_train, recall_dev) # load_path\n",
        "    model.save_weights(save_weights_path)\n",
        "    save_path = \"models_v2/model-recall-{}-{}.hdf5\".format(recall_train, recall_dev) # load_path\n",
        "    # model.save(save_path)\n",
        "\n",
        "    print(\"train set error\", 1.0 - accuracy_train)\n",
        "    print(\"dev set error\", 1.0 - accuracy_dev)\n",
        "    print(\"------------\")\n",
        "    print(\"precision_train\", precision_train)\n",
        "    print(\"precision_dev\", precision_dev)\n",
        "    print(\"------------\")\n",
        "    print(\"recall_train\", recall_train)\n",
        "    print(\"recall_dev\", recall_dev)\n",
        "    print(\"------------\")\n",
        "    print(\"confusion_matrix_train\")\n",
        "    print(confusion_matrix_train)\n",
        "    print(\"confusion_matrix_dev\")\n",
        "    print(confusion_matrix_dev)\n",
        "    print(\"------------\")\n",
        "    print(\"Train Set Positive Predictions\", np.count_nonzero(train_outputs))\n",
        "    print(\"Dev Set Positive Predictions\", np.count_nonzero(dev_outputs))\n",
        "    #  Predicting 0's will give you error:\n",
        "    print(\"------------\")\n",
        "    print(\"All 0's error train set\", 37/5087)\n",
        "    print(\"All 0's error dev set\", 5/570)\n",
        "\n",
        "    print(\"------------\")\n",
        "    print(\"------------\")\n",
        "\n",
        "    if RENDER_PLOT:\n",
        "        # list all data in history\n",
        "        print(history.history.keys())\n",
        "        # summarize history for accuracy\n",
        "        plt.plot(history.history['acc'])\n",
        "        # plt.plot(history.history['val_acc'])\n",
        "        plt.title('model accuracy')\n",
        "        plt.ylabel('accuracy')\n",
        "        plt.xlabel('epoch')\n",
        "        plt.legend(['train', 'test'], loc='upper left')\n",
        "        plt.show()\n",
        "\n",
        "        # summarize history for loss\n",
        "        plt.plot(history.history['loss'])\n",
        "        # plt.plot(history.history['val_loss'])\n",
        "        plt.title('model loss')\n",
        "        plt.ylabel('loss')\n",
        "        plt.xlabel('epoch')\n",
        "        plt.legend(['train', 'test'], loc='upper left')\n",
        "        plt.show()"
      ],
      "execution_count": 0,
      "outputs": []
    }
  ]
}